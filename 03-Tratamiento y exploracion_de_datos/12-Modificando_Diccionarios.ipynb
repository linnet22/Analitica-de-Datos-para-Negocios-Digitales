{
 "cells": [
  {
   "cell_type": "markdown",
   "id": "1f6c482a",
   "metadata": {},
   "source": [
    "> # Modificando diccionarios \n"
   ]
  },
  {
   "cell_type": "markdown",
   "id": "ca7e1dfa",
   "metadata": {},
   "source": [
    "## 1. Objetivos\n",
    "- Practicar los tes metodos basicos de modificacion de diccionarios: **agregar datos, modificar datos y borrar llaves**"
   ]
  },
  {
   "cell_type": "markdown",
   "id": "9fe29b9d",
   "metadata": {},
   "source": [
    "## 2. Desarrollo\n",
    "Tenemos 3 maneras básicas de modificar diccionarios\n",
    "----\n"
   ]
  },
  {
   "cell_type": "markdown",
   "id": "f47feace",
   "metadata": {},
   "source": [
    "## Agregar datos a un diccionario ya existente basta con llamar la llave que queremos agregar y asignar un valor "
   ]
  },
  {
   "cell_type": "code",
   "execution_count": 11,
   "id": "e352ab90",
   "metadata": {},
   "outputs": [],
   "source": [
    "from pprint import pprint"
   ]
  },
  {
   "cell_type": "code",
   "execution_count": 7,
   "id": "1ed82ec8",
   "metadata": {},
   "outputs": [],
   "source": [
    "info_de_contacto = {\n",
    "    'nombre' : 'Maluma',\n",
    "    'tel': 5546352431,\n",
    "    'dir': {\n",
    "        'colonia' : 'El 61',\n",
    "        'calle' : 'pirineos',\n",
    "        'num' : 69,\n",
    "        'cp' : 42830\n",
    "\n",
    "         \n",
    "    }\n",
    "}\n",
    "\n",
    "\n",
    "\n"
   ]
  },
  {
   "cell_type": "code",
   "execution_count": 4,
   "id": "a86e32fb",
   "metadata": {},
   "outputs": [
    {
     "name": "stdout",
     "output_type": "stream",
     "text": [
      "Pretty printing has been turned OFF\n"
     ]
    }
   ],
   "source": [
    "pprint(info_de_contacto)"
   ]
  },
  {
   "cell_type": "code",
   "execution_count": 2,
   "id": "14a5e225",
   "metadata": {},
   "outputs": [],
   "source": [
    "info_de_contacto['email'] = 'Maluma_hata_abajo@reguechafa.com'"
   ]
  },
  {
   "cell_type": "code",
   "execution_count": 12,
   "id": "dede7d98",
   "metadata": {},
   "outputs": [
    {
     "name": "stdout",
     "output_type": "stream",
     "text": [
      "{'dir': {'calle': 'pirineos', 'colonia': 'El 61', 'cp': 42830, 'num': 69},\n",
      " 'nombre': 'Maluma',\n",
      " 'tel': 5546352431}\n"
     ]
    }
   ],
   "source": [
    "pprint(info_de_contacto)\n"
   ]
  },
  {
   "cell_type": "markdown",
   "id": "d093b1c2",
   "metadata": {},
   "source": [
    "## Modificar pares llave-valor existentes\n",
    "---\n",
    "Para modificar un par llave-valor ya existente basta con reasignar una llave  de nuestro diccionario el nuevo valor que queremos agregar.Por ejemplo imaginemos que cambio de direccion "
   ]
  },
  {
   "cell_type": "code",
   "execution_count": 13,
   "id": "b986dcd8",
   "metadata": {},
   "outputs": [
    {
     "name": "stdout",
     "output_type": "stream",
     "text": [
      "{'dir': {'calle': 'Progreso',\n",
      "         'colonia': 'Escandalo',\n",
      "         'cp': '11800',\n",
      "         'num': 189},\n",
      " 'nombre': 'Maluma',\n",
      " 'tel': 5546352431}\n"
     ]
    }
   ],
   "source": [
    "info_de_contacto['dir'] = {\n",
    "    'colonia' : 'Escandalo',\n",
    "    'calle' : 'Progreso',\n",
    "    'num' : 189,\n",
    "    'cp' : '11800'\n",
    "\n",
    "}\n",
    "\n",
    "pprint(info_de_contacto)"
   ]
  },
  {
   "cell_type": "code",
   "execution_count": 14,
   "id": "98d7a9d9",
   "metadata": {},
   "outputs": [],
   "source": [
    "info_de_contacto['dir']['colonia'] = 'Salte si puedes'"
   ]
  },
  {
   "cell_type": "code",
   "execution_count": 15,
   "id": "1697e893",
   "metadata": {},
   "outputs": [
    {
     "name": "stdout",
     "output_type": "stream",
     "text": [
      "{'dir': {'calle': 'Progreso',\n",
      "         'colonia': 'Salte si puedes',\n",
      "         'cp': '11800',\n",
      "         'num': 189},\n",
      " 'nombre': 'Maluma',\n",
      " 'tel': 5546352431}\n"
     ]
    }
   ],
   "source": [
    "pprint(info_de_contacto)"
   ]
  },
  {
   "cell_type": "markdown",
   "id": "ad90d8f6",
   "metadata": {},
   "source": [
    "Podemos incluso modificar estructuras de datos dentro de nuestro diccionario. Por ejemplo que tal si hubo un error al agregar la nueva dirección y ahora solo tenemos que cambiar el numero "
   ]
  },
  {
   "cell_type": "code",
   "execution_count": 16,
   "id": "31f0fbe3",
   "metadata": {},
   "outputs": [
    {
     "name": "stdout",
     "output_type": "stream",
     "text": [
      "{'dir': {'calle': 'Progreso',\n",
      "         'colonia': 'Salte si puedes',\n",
      "         'cp': '11800',\n",
      "         'num': 666},\n",
      " 'nombre': 'Maluma',\n",
      " 'tel': 5546352431}\n"
     ]
    }
   ],
   "source": [
    "info_de_contacto['dir']['num'] = 666\n",
    "pprint(info_de_contacto)\n"
   ]
  },
  {
   "cell_type": "markdown",
   "id": "0c16ebac",
   "metadata": {},
   "source": [
    "## Eliminando datos \n",
    "Para eliminar datos, se puede usar el metodo `pop `. Como ae recordara este metodo es identico al método para eliminar elementos de una lista.La diferencia es que el metodo`pop`de las listas recibe indices como argumentos.El metodo `pop`de diccionarios recibe llaves como argumentos."
   ]
  },
  {
   "cell_type": "code",
   "execution_count": 17,
   "id": "dd7c91ed",
   "metadata": {},
   "outputs": [
    {
     "name": "stdout",
     "output_type": "stream",
     "text": [
      "{'dir': {'calle': 'Progreso',\n",
      "         'colonia': 'Salte si puedes',\n",
      "         'cp': '11800',\n",
      "         'num': 666},\n",
      " 'nombre': 'Maluma'}\n"
     ]
    }
   ],
   "source": [
    "info_de_contacto.pop('tel')\n",
    "pprint(info_de_contacto)"
   ]
  },
  {
   "cell_type": "code",
   "execution_count": null,
   "id": "965e5495",
   "metadata": {},
   "outputs": [],
   "source": []
  }
 ],
 "metadata": {
  "kernelspec": {
   "display_name": "Python 3",
   "language": "python",
   "name": "python3"
  },
  "language_info": {
   "codemirror_mode": {
    "name": "ipython",
    "version": 3
   },
   "file_extension": ".py",
   "mimetype": "text/x-python",
   "name": "python",
   "nbconvert_exporter": "python",
   "pygments_lexer": "ipython3",
   "version": "3.13.5"
  }
 },
 "nbformat": 4,
 "nbformat_minor": 5
}
