{
 "cells": [
  {
   "cell_type": "markdown",
   "id": "075f914f",
   "metadata": {},
   "source": [
    "## Operaciones con listas\n",
    "\n",
    "### Copiar una lista a otra "
   ]
  },
  {
   "cell_type": "code",
   "execution_count": 1,
   "id": "a6d38f6a",
   "metadata": {},
   "outputs": [
    {
     "name": "stdout",
     "output_type": "stream",
     "text": [
      "lista_1: [1] lista_2: [1]\n"
     ]
    }
   ],
   "source": [
    "lista_1 = [1]\n",
    "lista_2 = lista_1\n",
    "print(f'lista_1: {lista_1} lista_2: {lista_2}')"
   ]
  },
  {
   "cell_type": "code",
   "execution_count": 2,
   "id": "c380125f",
   "metadata": {},
   "outputs": [],
   "source": [
    "lista_2.append(10)"
   ]
  },
  {
   "cell_type": "code",
   "execution_count": 4,
   "id": "c5e8ce1d",
   "metadata": {},
   "outputs": [
    {
     "name": "stdout",
     "output_type": "stream",
     "text": [
      "[1, 10]\n"
     ]
    }
   ],
   "source": [
    "print(lista_1)"
   ]
  },
  {
   "cell_type": "markdown",
   "id": "9ffbe186",
   "metadata": {},
   "source": [
    "## Slicing o Rebanadas\n"
   ]
  },
  {
   "cell_type": "code",
   "execution_count": 7,
   "id": "566586d5",
   "metadata": {},
   "outputs": [
    {
     "data": {
      "text/plain": [
       "[3, 4, 5, 6, 7, 8]"
      ]
     },
     "execution_count": 7,
     "metadata": {},
     "output_type": "execute_result"
    }
   ],
   "source": [
    "list_1 =[3,4,5,6,7,8]\n",
    "list_1[:]"
   ]
  },
  {
   "cell_type": "code",
   "execution_count": 8,
   "id": "c73e8f21",
   "metadata": {},
   "outputs": [
    {
     "data": {
      "text/plain": [
       "[3, 4, 5, 6, 7, 8, 11]"
      ]
     },
     "execution_count": 8,
     "metadata": {},
     "output_type": "execute_result"
    }
   ],
   "source": [
    "lista_2 = list_1[:]\n",
    "lista_2.append(11)\n",
    "lista_2"
   ]
  },
  {
   "cell_type": "code",
   "execution_count": 9,
   "id": "f2e8761e",
   "metadata": {},
   "outputs": [
    {
     "data": {
      "text/plain": [
       "[3, 4, 5, 6, 7, 8]"
      ]
     },
     "execution_count": 9,
     "metadata": {},
     "output_type": "execute_result"
    }
   ],
   "source": [
    "list_1"
   ]
  },
  {
   "cell_type": "code",
   "execution_count": 10,
   "id": "1145956e",
   "metadata": {},
   "outputs": [
    {
     "name": "stdout",
     "output_type": "stream",
     "text": [
      "[4, 6, 7, 9, 12]\n"
     ]
    }
   ],
   "source": [
    "x = [4,6,7,9,12]\n",
    "y = x.copy()\n",
    "print(y)"
   ]
  },
  {
   "cell_type": "markdown",
   "id": "88df0887",
   "metadata": {},
   "source": [
    "### Slicing - Indices Negativos\n",
    "\n",
    "observa el fragmento de código a continuación\n",
    "``my_list [start:end]``\n",
    "para conformar:\n",
    "1. **start** es el indice del primer elemento incluido en la rebanada \n",
    "1. **end** es el indice del primer elemento no incluido en la rebanada "
   ]
  },
  {
   "cell_type": "code",
   "execution_count": 11,
   "id": "dbf26c7f",
   "metadata": {},
   "outputs": [],
   "source": [
    "list = [10,8,6,4,2]\n",
    "list2 =list[0:3]\n"
   ]
  },
  {
   "cell_type": "code",
   "execution_count": 12,
   "id": "4b7d929c",
   "metadata": {},
   "outputs": [
    {
     "name": "stdout",
     "output_type": "stream",
     "text": [
      "La lista orifunal es [10, 8, 6, 4, 2] y la nueva lista es [10, 8, 6]\n"
     ]
    }
   ],
   "source": [
    "list2 = list[0:3]\n",
    "print(f'La lista orifunal es {list} y la nueva lista es {list2}')"
   ]
  },
  {
   "cell_type": "code",
   "execution_count": 14,
   "id": "fb164822",
   "metadata": {},
   "outputs": [
    {
     "data": {
      "text/plain": [
       "[6, 4]"
      ]
     },
     "execution_count": 14,
     "metadata": {},
     "output_type": "execute_result"
    }
   ],
   "source": [
    "list[2:-1]"
   ]
  },
  {
   "cell_type": "code",
   "execution_count": 15,
   "id": "e1298d1c",
   "metadata": {},
   "outputs": [
    {
     "data": {
      "text/plain": [
       "[8, 6, 4, 2]"
      ]
     },
     "execution_count": 15,
     "metadata": {},
     "output_type": "execute_result"
    }
   ],
   "source": [
    "list[1:]\n"
   ]
  },
  {
   "cell_type": "code",
   "execution_count": 16,
   "id": "56f205ff",
   "metadata": {},
   "outputs": [
    {
     "name": "stdout",
     "output_type": "stream",
     "text": [
      "Lista sin los numeros 8 y 6: [10, 4, 2]\n"
     ]
    }
   ],
   "source": [
    "# dada la lista [10,8,6,4,2]  eliminar los numeros 8 y 6\n",
    "list = [10, 8, 6, 4, 2]\n",
    "list.remove(8)\n",
    "list.remove(6)\n",
    "print(f'Lista sin los numeros 8 y 6: {list}')"
   ]
  },
  {
   "cell_type": "markdown",
   "id": "a8c53e8d",
   "metadata": {},
   "source": [
    "### `Pop` Remuebe el ultimo elemento de la lista si se llama sin agurmentos "
   ]
  },
  {
   "cell_type": "code",
   "execution_count": 17,
   "id": "5a808ce7",
   "metadata": {},
   "outputs": [
    {
     "data": {
      "text/plain": [
       "[10, 4, 2]"
      ]
     },
     "execution_count": 17,
     "metadata": {},
     "output_type": "execute_result"
    }
   ],
   "source": [
    "list"
   ]
  },
  {
   "cell_type": "code",
   "execution_count": 18,
   "id": "0ee57995",
   "metadata": {},
   "outputs": [
    {
     "data": {
      "text/plain": [
       "[10, 4]"
      ]
     },
     "execution_count": 18,
     "metadata": {},
     "output_type": "execute_result"
    }
   ],
   "source": [
    "list.pop()\n",
    "list"
   ]
  },
  {
   "cell_type": "code",
   "execution_count": 23,
   "id": "c2bf7942",
   "metadata": {},
   "outputs": [],
   "source": [
    "list = []\n",
    "list.append(7)\n",
    "list.append(5)\n",
    "list.append(9)\n",
    "list.append(11)\n",
    "list.append(5)\n"
   ]
  },
  {
   "cell_type": "code",
   "execution_count": 24,
   "id": "3d95655b",
   "metadata": {},
   "outputs": [
    {
     "data": {
      "text/plain": [
       "[7, 5, 9, 11, 5]"
      ]
     },
     "execution_count": 24,
     "metadata": {},
     "output_type": "execute_result"
    }
   ],
   "source": [
    "list"
   ]
  },
  {
   "cell_type": "code",
   "execution_count": 25,
   "id": "3019e80e",
   "metadata": {},
   "outputs": [
    {
     "data": {
      "text/plain": [
       "[7, 9, 11, 5]"
      ]
     },
     "execution_count": 25,
     "metadata": {},
     "output_type": "execute_result"
    }
   ],
   "source": [
    "list.pop(1)\n",
    "list"
   ]
  },
  {
   "cell_type": "code",
   "execution_count": 27,
   "id": "41c45b18",
   "metadata": {},
   "outputs": [
    {
     "name": "stdout",
     "output_type": "stream",
     "text": [
      "['a', 12, True]\n",
      "<class 'list'>\n"
     ]
    }
   ],
   "source": [
    "list_example = [\"a\",12, True ]\n",
    "print(list_example)\n",
    "print(type(list_example))"
   ]
  },
  {
   "cell_type": "code",
   "execution_count": 28,
   "id": "4a95fe03",
   "metadata": {},
   "outputs": [
    {
     "name": "stdout",
     "output_type": "stream",
     "text": [
      "['hallway', 100, ['kitchen', 85]]\n",
      "<class 'list'>\n"
     ]
    }
   ],
   "source": [
    "# lista de listas \n",
    "list_house = ['hallway',100,['kitchen',85]]\n",
    "print(list_house)\n",
    "print(type(list_house))"
   ]
  },
  {
   "cell_type": "code",
   "execution_count": null,
   "id": "432f91bd",
   "metadata": {},
   "outputs": [
    {
     "data": {
      "text/plain": [
       "'a'"
      ]
     },
     "execution_count": 30,
     "metadata": {},
     "output_type": "execute_result"
    }
   ],
   "source": [
    "#tiene acceso a la lista en la posicion 0 y su elemento en la posicion 1 \n",
    "list_house[0][1]"
   ]
  },
  {
   "cell_type": "code",
   "execution_count": 31,
   "id": "4fd44fb0",
   "metadata": {},
   "outputs": [
    {
     "name": "stdout",
     "output_type": "stream",
     "text": [
      "['heydy', 22, 'ines', 54, 'henry', 'oscar', 38]\n"
     ]
    }
   ],
   "source": [
    "list_family = ['heydy',22,'ines',54,'henry','oscar',38]\n",
    "print(list_family)"
   ]
  },
  {
   "cell_type": "code",
   "execution_count": 32,
   "id": "2c8a41af",
   "metadata": {},
   "outputs": [
    {
     "name": "stdout",
     "output_type": "stream",
     "text": [
      "ines\n",
      "22\n"
     ]
    }
   ],
   "source": [
    "# INDEXACION\n",
    "print(list_family[2])\n",
    "# inexacion negativa\n",
    "print(list_family[-6])"
   ]
  },
  {
   "cell_type": "code",
   "execution_count": 33,
   "id": "06ca71a3",
   "metadata": {},
   "outputs": [
    {
     "name": "stdout",
     "output_type": "stream",
     "text": [
      "[54, 'henry']\n",
      "['heydy', 22, 'ines', 54, 'henry']\n",
      "['oscar', 38]\n",
      "['henry', 'oscar', 38]\n"
     ]
    }
   ],
   "source": [
    "# slicing [start: end ]\n",
    "#inclusive : exclusive\n",
    "print(list_family[3:5])# no toma el ultimo digito \n",
    "print(list_family[:5])# desde el inicio hasta la posicion 4\n",
    "print(list_family[5:])# desde la posicion 5 hasta el final\n",
    "print(list_family[-3:])# desde la posicion -3 hasta el final\n"
   ]
  },
  {
   "cell_type": "markdown",
   "id": "34c05b1d",
   "metadata": {},
   "source": [
    "### **Manipulando listas**"
   ]
  },
  {
   "cell_type": "code",
   "execution_count": null,
   "id": "642a2faa",
   "metadata": {},
   "outputs": [
    {
     "name": "stdout",
     "output_type": "stream",
     "text": [
      "['heydy', 22, 'ines', 54, 'henry', 'oscar', 38]\n"
     ]
    }
   ],
   "source": [
    "print(list_family)"
   ]
  },
  {
   "cell_type": "code",
   "execution_count": 36,
   "id": "e22fed9f",
   "metadata": {},
   "outputs": [
    {
     "name": "stdout",
     "output_type": "stream",
     "text": [
      "['heydy', 22, 'ines', 54, 'henry', 'oscar', 37]\n",
      "['Mayumi', 24, 'ines', 54, 'henry', 'oscar', 37]\n"
     ]
    }
   ],
   "source": [
    "list_family[-1] =37\n",
    "print(list_family)\n",
    "\n",
    "list_family[:2] = ['Mayumi', 24]\n",
    "print(list_family)"
   ]
  },
  {
   "cell_type": "code",
   "execution_count": 38,
   "id": "61d26aaa",
   "metadata": {},
   "outputs": [
    {
     "name": "stdout",
     "output_type": "stream",
     "text": [
      "['Mayumi', 24, 'ines', 54, 'henry', 'oscar', 37, 'Achuchena', 12]\n",
      "['Mayumi', 24, 'ines', 'henry', 'oscar', 37, 'Achuchena', 12]\n"
     ]
    }
   ],
   "source": [
    "# Agregar y remover elementos de una lista\n",
    "\n",
    "fam_Ext = list_family + ['Achuchena',12]\n",
    "print(fam_Ext)\n",
    "# Eliminar \n",
    "del(fam_Ext[3])  \n",
    "#fam_Ext.pop(3)\n",
    "#fam_Ext.remove(54)\n",
    "print(fam_Ext)"
   ]
  },
  {
   "cell_type": "code",
   "execution_count": 42,
   "id": "b775f67a",
   "metadata": {},
   "outputs": [
    {
     "name": "stdout",
     "output_type": "stream",
     "text": [
      "['hallway', 11.25, 'kitchen', 18.1, 'chill zone', 20.0, 'bedroom', 10.75, 'bathroom', 10.5, 'poolhouse', 24.5, 'garage', 15.45]\n",
      "['poolhouse', 24.5]\n",
      "['poolhouse', 24.5]\n",
      "['hallway', 11.25, 'kitchen', 18.1, 'chill zone', 20.0, 'bedroom', 10.75, 'bathroom', 10.5, 'garage', 15.45]\n"
     ]
    }
   ],
   "source": [
    "# eliminar 'poolgouse' y 24.5\n",
    "areas = ['hallway', 11.25,'kitchen',18.10,'chill zone',20.0,\n",
    "         'bedroom',10.75,'bathroom',10.50,'poolhouse',24.5,'garage',15.45]\n",
    "print(areas)\n",
    "print(areas[-4:-2])\n",
    "print(areas[10:12])\n",
    "del(areas[-4:-2])\n",
    "print(areas)"
   ]
  },
  {
   "cell_type": "markdown",
   "id": "ce6cd123",
   "metadata": {},
   "source": [
    "# Funciones y Paquetes "
   ]
  },
  {
   "cell_type": "markdown",
   "id": "f8793cb1",
   "metadata": {},
   "source": [
    "## **Función**\n",
    "Es una pieza de codigo reutilizable, destinada a resolver una tarea en particular "
   ]
  },
  {
   "cell_type": "code",
   "execution_count": 43,
   "id": "7f148ce5",
   "metadata": {},
   "outputs": [
    {
     "name": "stdout",
     "output_type": "stream",
     "text": [
      "[22, 54.39, 38, 36]\n",
      "El tamaño de la lista es 4\n",
      "El valor maximo de la lista es: 54.39\n"
     ]
    }
   ],
   "source": [
    "list_fram = [ 22,54.39,38,36]\n",
    "print(list_fram)\n",
    "print(f'El tamaño de la lista es {len(list_fram)}')\n",
    "print('El valor maximo de la lista es:', max(list_fram))"
   ]
  },
  {
   "cell_type": "code",
   "execution_count": 44,
   "id": "34bc1d7b",
   "metadata": {},
   "outputs": [
    {
     "data": {
      "text/plain": [
       "1.69"
      ]
     },
     "execution_count": 44,
     "metadata": {},
     "output_type": "execute_result"
    }
   ],
   "source": [
    "round(1.689,2)"
   ]
  },
  {
   "cell_type": "code",
   "execution_count": 45,
   "id": "f024634d",
   "metadata": {},
   "outputs": [
    {
     "name": "stdout",
     "output_type": "stream",
     "text": [
      "Help on built-in function round in module builtins:\n",
      "\n",
      "round(number, ndigits=None)\n",
      "    Round a number to a given precision in decimal digits.\n",
      "\n",
      "    The return value is an integer if ndigits is omitted or None.  Otherwise\n",
      "    the return value has the same type as the number.  ndigits may be negative.\n",
      "\n"
     ]
    }
   ],
   "source": [
    "help(round)"
   ]
  },
  {
   "cell_type": "code",
   "execution_count": 49,
   "id": "d16a0688",
   "metadata": {},
   "outputs": [
    {
     "name": "stdout",
     "output_type": "stream",
     "text": [
      "Help on built-in function max in module builtins:\n",
      "\n",
      "max(...)\n",
      "    max(iterable, *[, default=obj, key=func]) -> value\n",
      "    max(arg1, arg2, *args, *[, key=func]) -> value\n",
      "\n",
      "    With a single iterable argument, return its biggest item. The\n",
      "    default keyword-only argument specifies an object to return if\n",
      "    the provided iterable is empty.\n",
      "    With two or more positional arguments, return the largest argument.\n",
      "\n"
     ]
    }
   ],
   "source": [
    "help(max)"
   ]
  },
  {
   "cell_type": "code",
   "execution_count": 50,
   "id": "d0fc5496",
   "metadata": {},
   "outputs": [
    {
     "name": "stdout",
     "output_type": "stream",
     "text": [
      "[18.0, 20.0, 25, 51]\n",
      "[51, 25, 20.0, 18.0]\n",
      "[18.0, 20.0, 25, 51]\n"
     ]
    }
   ],
   "source": [
    "first = [51,25,18.0,20.0]\n",
    "full_sorted = sorted(first)#ordenar de forma ascendente\n",
    "full_sorted_asc = sorted(first, reverse=False) # ascendente\n",
    "full_sorted_desc = sorted(first, reverse=True) # descendente\n",
    "print(full_sorted_asc)\n",
    "print(full_sorted_desc)\n",
    "print(full_sorted) \n"
   ]
  },
  {
   "cell_type": "markdown",
   "id": "3705f7c4",
   "metadata": {},
   "source": [
    "### **Metodos**\n",
    "En python todo es objeto, y cada objeto tiene metodos especificados asociados \n",
    "\n",
    "- Objetos con diferentes tipos pueden tener metodos con el mismo nombre "
   ]
  },
  {
   "cell_type": "code",
   "execution_count": 52,
   "id": "fae16419",
   "metadata": {},
   "outputs": [
    {
     "name": "stdout",
     "output_type": "stream",
     "text": [
      "Indice: 4\n",
      "contar: 2\n"
     ]
    }
   ],
   "source": [
    "list_fam = ['heydy',22,'ines',54,'henry',33,'oscar',54]\n",
    "print(f'Indice: {list_fam.index('henry')}')# obtiene el indice de la lista \n",
    "print(f'contar: {list_fam.count(54)}')# cuenta cuantas veces se repite el elemento en la lista\n"
   ]
  },
  {
   "cell_type": "code",
   "execution_count": 53,
   "id": "4c095492",
   "metadata": {},
   "outputs": [
    {
     "name": "stdout",
     "output_type": "stream",
     "text": [
      "['heydy', 22, 'ines', 54, 33, 'oscar', 54]\n"
     ]
    }
   ],
   "source": [
    "del(list_fam[list_fam.index('henry')])  # elimina el elemento henry de la lista\n",
    "print(list_fam)"
   ]
  },
  {
   "cell_type": "code",
   "execution_count": 54,
   "id": "7fb23099",
   "metadata": {},
   "outputs": [
    {
     "name": "stdout",
     "output_type": "stream",
     "text": [
      "Mayumi\n"
     ]
    }
   ],
   "source": [
    "name = 'mayumi'\n",
    "print(name.capitalize())  # convierte la primera letra en mayuscula"
   ]
  },
  {
   "cell_type": "code",
   "execution_count": 55,
   "id": "d986e873",
   "metadata": {},
   "outputs": [
    {
     "name": "stdout",
     "output_type": "stream",
     "text": [
      "Susel\n",
      "BRANDON\n"
     ]
    }
   ],
   "source": [
    "lista_entornos = ['susel','brandon','alejando', 'daniel']\n",
    "print(lista_entornos[0].capitalize())  # convierte la primera letra en mayuscula\n",
    "print(lista_entornos[1].upper())  # convierte toda la cadena a mayusculas"
   ]
  },
  {
   "cell_type": "code",
   "execution_count": 56,
   "id": "f8c2d2fd",
   "metadata": {},
   "outputs": [
    {
     "name": "stdout",
     "output_type": "stream",
     "text": [
      "ma*umi\n"
     ]
    }
   ],
   "source": [
    "print(name.replace('y', '*'))"
   ]
  },
  {
   "cell_type": "code",
   "execution_count": 57,
   "id": "89d3ba6b",
   "metadata": {},
   "outputs": [
    {
     "data": {
      "text/plain": [
       "'MAYUMI'"
      ]
     },
     "execution_count": 57,
     "metadata": {},
     "output_type": "execute_result"
    }
   ],
   "source": [
    "name.upper()  # convierte toda la cadena a mayusculas"
   ]
  },
  {
   "cell_type": "code",
   "execution_count": 58,
   "id": "3ca977dd",
   "metadata": {},
   "outputs": [
    {
     "name": "stdout",
     "output_type": "stream",
     "text": [
      "['heydy', 22, 'ines', 54, 33, 'oscar', 54]\n",
      "[54, 'oscar', 33, 54, 'ines', 22, 'heydy']\n"
     ]
    }
   ],
   "source": [
    "print(list_fam)\n",
    "list_fam.reverse()\n",
    "print(list_fam)  # invierte el orden de los elementos en la lista\n"
   ]
  }
 ],
 "metadata": {
  "kernelspec": {
   "display_name": "Python 3",
   "language": "python",
   "name": "python3"
  },
  "language_info": {
   "codemirror_mode": {
    "name": "ipython",
    "version": 3
   },
   "file_extension": ".py",
   "mimetype": "text/x-python",
   "name": "python",
   "nbconvert_exporter": "python",
   "pygments_lexer": "ipython3",
   "version": "3.13.5"
  }
 },
 "nbformat": 4,
 "nbformat_minor": 5
}
