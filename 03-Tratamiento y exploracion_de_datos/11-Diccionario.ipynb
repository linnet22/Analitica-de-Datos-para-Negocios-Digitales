{
 "cells": [
  {
   "cell_type": "markdown",
   "id": "f3baa516",
   "metadata": {},
   "source": [
    "Diccionario_1 ya es un diccionario.Solo que esta vacio.Para incluir datos dentro de un diccionario tenemos que agregar pares llave -valor dentro de las llaves ({}). cada llave-valor se separa por una (,):"
   ]
  },
  {
   "cell_type": "code",
   "execution_count": 4,
   "id": "e76d3745",
   "metadata": {},
   "outputs": [],
   "source": [
    "diccionario_2 = {\n",
    "    \"llave_1\": \"valor1\",\n",
    "    \"llave_2\" : \"valor2\",\n",
    "    \"llave_3\": \"valor3\",\n",
    "    \"llave_4\": \"valor4\"\n",
    "}"
   ]
  },
  {
   "cell_type": "markdown",
   "id": "699677b4",
   "metadata": {},
   "source": [
    "Nuestas llaves pueden ser tanto  `String` como `Int `(Pueden ser otras cosas, pero estos son los mas comunes)"
   ]
  },
  {
   "cell_type": "code",
   "execution_count": 2,
   "id": "e6597f20",
   "metadata": {},
   "outputs": [],
   "source": [
    "diccionario_3 = {\n",
    "    1:\"Uno\",\n",
    "    2:\"Dos\",\n",
    "    3:\"Tres\",\n",
    "    4:\"Cuatro\"\n",
    "}\n"
   ]
  },
  {
   "cell_type": "markdown",
   "id": "537587b5",
   "metadata": {},
   "source": [
    "Nuestros valores pueden ser cualquier tipo de datos que se conozca hasta este momento "
   ]
  },
  {
   "cell_type": "code",
   "execution_count": 1,
   "id": "f698aa82",
   "metadata": {},
   "outputs": [],
   "source": [
    "diccionario_4 = {\n",
    "    'int': 123,\n",
    "    'float': 258,\n",
    "    'strinf' : 'Hola',\n",
    "    'bolean': 'True',\n",
    "    'lista': [1,2,3,4],\n",
    "    'diccionario': {\n",
    "        1: 'uno',\n",
    "        2: 'dos'\n",
    "    }\n",
    "}"
   ]
  },
  {
   "cell_type": "markdown",
   "id": "30d3940d",
   "metadata": {},
   "source": [
    "Acceder a un diccionario es tan facil como escribir el nombre del diccionario, agregar corchetes ('[]') y pasarle el nombre de la llave o clave  que quieres acceder .Por obvias razones, un diccionario no puede tener mas de una llave con el mismo nombre. Si tenemos otras estructuras de datos dentro de nuestroo diccionario, podemos acceder a los elementos dentro de ellas despues de haber accedido primero a todas las estructuras de datos "
   ]
  },
  {
   "cell_type": "code",
   "execution_count": 5,
   "id": "c62fa94e",
   "metadata": {},
   "outputs": [
    {
     "name": "stdout",
     "output_type": "stream",
     "text": [
      "258\n"
     ]
    }
   ],
   "source": [
    "print(diccionario_4['float'])"
   ]
  },
  {
   "cell_type": "code",
   "execution_count": 6,
   "id": "85a7bd5a",
   "metadata": {},
   "outputs": [
    {
     "ename": "NameError",
     "evalue": "name 'diccionario_4' is not defined",
     "output_type": "error",
     "traceback": [
      "\u001b[1;31m---------------------------------------------------------------------------\u001b[0m",
      "\u001b[1;31mNameError\u001b[0m                                 Traceback (most recent call last)",
      "Cell \u001b[1;32mIn[6], line 1\u001b[0m\n\u001b[1;32m----> 1\u001b[0m \u001b[38;5;28mprint\u001b[39m(\u001b[43mdiccionario_4\u001b[49m[\u001b[38;5;124m'\u001b[39m\u001b[38;5;124mlista\u001b[39m\u001b[38;5;124m'\u001b[39m])\n\u001b[0;32m      2\u001b[0m \u001b[38;5;28mprint\u001b[39m(diccionario_4[\u001b[38;5;124m'\u001b[39m\u001b[38;5;124mbolean\u001b[39m\u001b[38;5;124m'\u001b[39m])\n\u001b[0;32m      3\u001b[0m \u001b[38;5;28mprint\u001b[39m(diccionario_4[\u001b[38;5;124m'\u001b[39m\u001b[38;5;124mfloat\u001b[39m\u001b[38;5;124m'\u001b[39m])\n",
      "\u001b[1;31mNameError\u001b[0m: name 'diccionario_4' is not defined"
     ]
    }
   ],
   "source": [
    "print(diccionario_4['lista'])\n",
    "print(diccionario_4['bolean'])\n",
    "print(diccionario_4['float'])\n",
    "print(diccionario_4['lista'][2])"
   ]
  },
  {
   "cell_type": "code",
   "execution_count": null,
   "id": "e9423a7b",
   "metadata": {},
   "outputs": [
    {
     "ename": "NameError",
     "evalue": "name 'diccionario_4' is not defined",
     "output_type": "error",
     "traceback": [
      "\u001b[1;31m---------------------------------------------------------------------------\u001b[0m",
      "\u001b[1;31mNameError\u001b[0m                                 Traceback (most recent call last)",
      "Cell \u001b[1;32mIn[8], line 1\u001b[0m\n\u001b[1;32m----> 1\u001b[0m \u001b[38;5;28mprint\u001b[39m(\u001b[43mdiccionario_4\u001b[49m[\u001b[38;5;124m'\u001b[39m\u001b[38;5;124mlista\u001b[39m\u001b[38;5;124m'\u001b[39m])\n",
      "\u001b[1;31mNameError\u001b[0m: name 'diccionario_4' is not defined"
     ]
    }
   ],
   "source": []
  }
 ],
 "metadata": {
  "kernelspec": {
   "display_name": "Python 3",
   "language": "python",
   "name": "python3"
  },
  "language_info": {
   "codemirror_mode": {
    "name": "ipython",
    "version": 3
   },
   "file_extension": ".py",
   "mimetype": "text/x-python",
   "name": "python",
   "nbconvert_exporter": "python",
   "pygments_lexer": "ipython3",
   "version": "3.13.5"
  }
 },
 "nbformat": 4,
 "nbformat_minor": 5
}
