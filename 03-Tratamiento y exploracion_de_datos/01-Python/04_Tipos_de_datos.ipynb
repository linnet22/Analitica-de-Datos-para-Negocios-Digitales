{
 "cells": [
  {
   "cell_type": "markdown",
   "id": "c98a8008",
   "metadata": {},
   "source": [
    "## Tipos de Datos\n",
    "\n",
    "### Objetivos\n",
    "    - Hablar sobre los 4 tipos de datos basicos que tiene python \n",
    "\n",
    "---\n",
    "\n",
    "### Desarrollo:"
   ]
  },
  {
   "cell_type": "markdown",
   "id": "bdd74d97",
   "metadata": {},
   "source": [
    "Se tienen 4 tipos de datos basicos. Veamos en codigo y utilicemos las funciones `print`y `type` para imprimir los tipos de manera explicita "
   ]
  },
  {
   "cell_type": "code",
   "execution_count": 1,
   "id": "0f9f9020",
   "metadata": {},
   "outputs": [
    {
     "name": "stdout",
     "output_type": "stream",
     "text": [
      "4598\n",
      "<class 'int'>\n",
      "\n",
      "\n",
      "369.432\n",
      "<class 'float'>\n",
      "\n",
      "\n",
      "soy un string\n",
      "<class 'str'>\n",
      "\n",
      "\n",
      "True\n",
      "<class 'bool'>\n",
      "\n",
      "\n"
     ]
    }
   ],
   "source": [
    "# Este es un número\n",
    "var_int = 4598\n",
    "\n",
    "print(var_int)\n",
    "print(type(var_int))\n",
    "print('\\n')\n",
    "\n",
    "# Este es un número decimal\n",
    "var_float = 369.432\n",
    "print(var_float)\n",
    "print(type(var_float))\n",
    "print('\\n')\n",
    "# Este es un string\n",
    "var_string = 'soy un string'\n",
    "print(var_string)\n",
    "print(type(var_string))\n",
    "print('\\n')\n",
    "\n",
    "## Este es un booleano\n",
    "var_bool = True\n",
    "print(var_bool)\n",
    "print(type(var_bool))\n",
    "print('\\n')\n",
    "\n"
   ]
  }
 ],
 "metadata": {
  "kernelspec": {
   "display_name": "base",
   "language": "python",
   "name": "python3"
  },
  "language_info": {
   "codemirror_mode": {
    "name": "ipython",
    "version": 3
   },
   "file_extension": ".py",
   "mimetype": "text/x-python",
   "name": "python",
   "nbconvert_exporter": "python",
   "pygments_lexer": "ipython3",
   "version": "3.12.8"
  }
 },
 "nbformat": 4,
 "nbformat_minor": 5
}
