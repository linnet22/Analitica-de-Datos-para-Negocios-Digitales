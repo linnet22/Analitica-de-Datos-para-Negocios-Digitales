{
 "cells": [
  {
   "cell_type": "markdown",
   "id": "1b3f9ace",
   "metadata": {},
   "source": [
    "# Ejemplo 1 este es un ejemplo de practica \n",
    "\n",
    "---\n",
    "\n",
    "### 1.- Objetivo\n",
    "\n",
    "    -Repasar rapidamente como funciona un jupyter notebook\n",
    "\n",
    "\n",
    "### 2.- Requisitos\n",
    "\n",
    "    -Jupiter notebook instalado"
   ]
  },
  {
   "cell_type": "markdown",
   "id": "94cf83e5",
   "metadata": {},
   "source": [
    "En JN tenemos `Modo Comando` y `Modo edicion`.\n",
    "\n",
    "- El `Modo edicion` sirve para editar celdas\n",
    "- El `Modo Comando` sirve para usar comando en JN"
   ]
  },
  {
   "cell_type": "markdown",
   "id": "f0edfaea",
   "metadata": {},
   "source": [
    "Esto es una celda `Markdown`"
   ]
  },
  {
   "cell_type": "code",
   "execution_count": 15,
   "id": "54ba2d38",
   "metadata": {},
   "outputs": [],
   "source": [
    "# Esto es una celda de codigo\n",
    "\n",
    "# Y esto es un codigo"
   ]
  },
  {
   "cell_type": "markdown",
   "id": "a2a7e3fb",
   "metadata": {},
   "source": [
    "Escribamos algo de codigo para recordar"
   ]
  },
  {
   "cell_type": "code",
   "execution_count": 16,
   "id": "12628297",
   "metadata": {},
   "outputs": [
    {
     "data": {
      "text/plain": [
       "9"
      ]
     },
     "execution_count": 16,
     "metadata": {},
     "output_type": "execute_result"
    }
   ],
   "source": [
    "var_1 =4\n",
    "var_2 = 5\n",
    "\n",
    "var_1+var_2\n"
   ]
  },
  {
   "cell_type": "code",
   "execution_count": 17,
   "id": "1372bb4e",
   "metadata": {},
   "outputs": [
    {
     "name": "stdout",
     "output_type": "stream",
     "text": [
      "9\n"
     ]
    }
   ],
   "source": [
    "print(var_1 + var_2)"
   ]
  },
  {
   "cell_type": "code",
   "execution_count": 18,
   "id": "834d8152",
   "metadata": {},
   "outputs": [
    {
     "name": "stdout",
     "output_type": "stream",
     "text": [
      "4 + 5\n"
     ]
    }
   ],
   "source": [
    "print(str(var_1) + ' + ' + str(var_2))"
   ]
  },
  {
   "cell_type": "code",
   "execution_count": 19,
   "id": "cd6a2251",
   "metadata": {},
   "outputs": [
    {
     "name": "stdout",
     "output_type": "stream",
     "text": [
      "9\n"
     ]
    }
   ],
   "source": [
    "print(var_1 + var_2)"
   ]
  },
  {
   "cell_type": "code",
   "execution_count": 20,
   "id": "004d14ae",
   "metadata": {},
   "outputs": [
    {
     "data": {
      "text/plain": [
       "15"
      ]
     },
     "execution_count": 20,
     "metadata": {},
     "output_type": "execute_result"
    }
   ],
   "source": [
    "var_1=10\n",
    "var_1 + var_2"
   ]
  }
 ],
 "metadata": {
  "kernelspec": {
   "display_name": "base",
   "language": "python",
   "name": "python3"
  },
  "language_info": {
   "codemirror_mode": {
    "name": "ipython",
    "version": 3
   },
   "file_extension": ".py",
   "mimetype": "text/x-python",
   "name": "python",
   "nbconvert_exporter": "python",
   "pygments_lexer": "ipython3",
   "version": "3.12.8"
  }
 },
 "nbformat": 4,
 "nbformat_minor": 5
}
