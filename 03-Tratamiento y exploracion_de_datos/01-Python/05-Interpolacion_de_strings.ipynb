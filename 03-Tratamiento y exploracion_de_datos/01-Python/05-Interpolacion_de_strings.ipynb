{
 "cells": [
  {
   "cell_type": "markdown",
   "id": "00292213",
   "metadata": {},
   "source": [
    "## Interpolación\n",
    "\n",
    "### Objetivos:\n",
    "    -Aprender a imprimir string\n",
    "    -Aprender a interpolar variables dentro de string\n",
    "---\n",
    "### Desarrollo\n"
   ]
  },
  {
   "cell_type": "markdown",
   "id": "e082d984",
   "metadata": {},
   "source": [
    "Podemos hacer anotaciones en outputs de nuestro codigo de esta manera:\n"
   ]
  },
  {
   "cell_type": "code",
   "execution_count": 37,
   "id": "6c151030",
   "metadata": {},
   "outputs": [
    {
     "name": "stdout",
     "output_type": "stream",
     "text": [
      "Suma de var_1 y var_2:\n",
      "38.7\n"
     ]
    }
   ],
   "source": [
    "var_1 = 15.3\n",
    "var_2 = 23.4\n",
    "print(\"Suma de var_1 y var_2:\")\n",
    "print(var_1 + var_2)"
   ]
  },
  {
   "cell_type": "markdown",
   "id": "f8a1212f",
   "metadata": {},
   "source": [
    "Pero aveces resulta necesario o deseable interpretar el valor de la variable dentro de dicho string. Para esto utilizamos las llamadas  `f-strings`.El formato es una `f-strings` es el siguiente \n",
    "`f\"Esto es texto {esto_es_una_variable} esto es mas texto\"`\n",
    "\n",
    "Escribiendo `f` antes de las comillas le indicamos a Python que lo que ppongas dentro de las llaves (`{}`) sera codigo de PYTHON. En este casi, una variable asignada previamente.\n",
    "\n",
    "Ahora podemos hacer lo siguiente/:"
   ]
  },
  {
   "cell_type": "code",
   "execution_count": 38,
   "id": "812eb223",
   "metadata": {},
   "outputs": [
    {
     "name": "stdout",
     "output_type": "stream",
     "text": [
      "Suma de var_3 y var_4:\n",
      "a suma67.3\n"
     ]
    }
   ],
   "source": [
    "var_3 = 43\n",
    "var_4 = 24.3\n",
    "\n",
    "suma = var_3 + var_4\n",
    "\n",
    "print(\"Suma de var_3 y var_4:\")\n",
    "print(f'a suma{suma}')\n"
   ]
  },
  {
   "cell_type": "code",
   "execution_count": 40,
   "id": "b79a9682",
   "metadata": {},
   "outputs": [
    {
     "name": "stdout",
     "output_type": "stream",
     "text": [
      "El nombre del programa es juan y la suma de los valores  8.0 + 8.0 = 16.0\n"
     ]
    }
   ],
   "source": [
    "nombre_programa = input(\"Ingrese el nombre del programa: \")\n",
    "var_3 = float(input(\"Ingrese un valor: \"))\n",
    "var_4= float(input(\"Ingrese un valor: \"))\n",
    "\n",
    "suma = var_3 + var_4\n",
    "print(f\"El nombre del programa es {nombre_programa} y la suma de los valores  {var_3} + {var_4} = {suma}\")"
   ]
  },
  {
   "cell_type": "code",
   "execution_count": null,
   "id": "f228c9af",
   "metadata": {},
   "outputs": [],
   "source": [
    "def sumar (numero_1, numero_2):\n",
    "    return numero_1 + numero_2 "
   ]
  },
  {
   "cell_type": "code",
   "execution_count": null,
   "id": "e9c6b0fd",
   "metadata": {},
   "outputs": [
    {
     "name": "stdout",
     "output_type": "stream",
     "text": [
      "14.0\n"
     ]
    }
   ],
   "source": [
    "var_3 = float(input(\"Ingrese un valor: \"))\n",
    "var_4= float(input(\"Ingrese un valor: \"))\n",
    "sumar= sumar(var_3, var_4)\n",
    "print(sumar)\n"
   ]
  },
  {
   "cell_type": "code",
   "execution_count": 41,
   "id": "52be86b8",
   "metadata": {},
   "outputs": [
    {
     "ename": "TypeError",
     "evalue": "'float' object is not callable",
     "output_type": "error",
     "traceback": [
      "\u001b[1;31m---------------------------------------------------------------------------\u001b[0m",
      "\u001b[1;31mTypeError\u001b[0m                                 Traceback (most recent call last)",
      "Cell \u001b[1;32mIn[41], line 5\u001b[0m\n\u001b[0;32m      3\u001b[0m var_3 \u001b[38;5;241m=\u001b[39m sumarValores()    \n\u001b[0;32m      4\u001b[0m var_4 \u001b[38;5;241m=\u001b[39m sumarValores()\n\u001b[1;32m----> 5\u001b[0m s \u001b[38;5;241m=\u001b[39m \u001b[43msumar\u001b[49m\u001b[43m(\u001b[49m\u001b[43mvar_3\u001b[49m\u001b[43m,\u001b[49m\u001b[43m \u001b[49m\u001b[43mvar_4\u001b[49m\u001b[43m)\u001b[49m\n\u001b[0;32m      6\u001b[0m \u001b[38;5;28mprint\u001b[39m(s)\n",
      "\u001b[1;31mTypeError\u001b[0m: 'float' object is not callable"
     ]
    }
   ],
   "source": [
    "def sumarValores():\n",
    "    return float(input('Solicitar valor'))\n",
    "var_3 = sumarValores()    \n",
    "var_4 = sumarValores()\n",
    "s = sumar(var_3, var_4)\n",
    "print(s)\n"
   ]
  }
 ],
 "metadata": {
  "kernelspec": {
   "display_name": "base",
   "language": "python",
   "name": "python3"
  },
  "language_info": {
   "codemirror_mode": {
    "name": "ipython",
    "version": 3
   },
   "file_extension": ".py",
   "mimetype": "text/x-python",
   "name": "python",
   "nbconvert_exporter": "python",
   "pygments_lexer": "ipython3",
   "version": "3.12.8"
  }
 },
 "nbformat": 4,
 "nbformat_minor": 5
}
