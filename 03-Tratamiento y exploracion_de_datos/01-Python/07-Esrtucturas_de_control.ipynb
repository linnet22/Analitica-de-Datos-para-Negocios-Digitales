{
 "cells": [
  {
   "cell_type": "markdown",
   "id": "e2a4a921",
   "metadata": {},
   "source": [
    "## Estructuras de control\n",
    "\n",
    "### Objetivo \n",
    "\n",
    "    - Conocer las estructuras de control como funcionan y para que sieven \n",
    "---\n",
    "\n",
    "## Desarrollo"
   ]
  },
  {
   "cell_type": "markdown",
   "id": "75a7aecf",
   "metadata": {},
   "source": [
    "Queremos darle a nuestro programa la capacidad de tomar desiciones, esto puede hacer  utilizando una `Sentencia if ` utiliza una comparación para obtener un boolean. Si el boleano es `True`, el bloque de la sentencia se ejecuta. Si el boleano es `False`nos saltamos a lo que sigue despues del bloque "
   ]
  },
  {
   "cell_type": "code",
   "execution_count": 13,
   "id": "a69f6b45",
   "metadata": {},
   "outputs": [],
   "source": [
    "var_1 = 4\n",
    "var_2 = 5\n"
   ]
  },
  {
   "cell_type": "code",
   "execution_count": 14,
   "id": "04404aa2",
   "metadata": {},
   "outputs": [
    {
     "name": "stdout",
     "output_type": "stream",
     "text": [
      "El bloque se ha ejecutado\n"
     ]
    }
   ],
   "source": [
    "if var_1 < var_2:\n",
    "    print(\"El bloque se ha ejecutado\")"
   ]
  },
  {
   "cell_type": "code",
   "execution_count": 15,
   "id": "5dd33076",
   "metadata": {},
   "outputs": [
    {
     "ename": "ValueError",
     "evalue": "invalid literal for int() with base 10: ''",
     "output_type": "error",
     "traceback": [
      "\u001b[1;31m---------------------------------------------------------------------------\u001b[0m",
      "\u001b[1;31mValueError\u001b[0m                                Traceback (most recent call last)",
      "Cell \u001b[1;32mIn[15], line 2\u001b[0m\n\u001b[0;32m      1\u001b[0m var_1 \u001b[38;5;241m=\u001b[39m \u001b[38;5;28mint\u001b[39m(\u001b[38;5;28minput\u001b[39m(\u001b[38;5;124m\"\u001b[39m\u001b[38;5;124mIntroduce un valor: \u001b[39m\u001b[38;5;124m\"\u001b[39m))\n\u001b[1;32m----> 2\u001b[0m var_2 \u001b[38;5;241m=\u001b[39m \u001b[38;5;28;43mint\u001b[39;49m\u001b[43m(\u001b[49m\u001b[38;5;28;43minput\u001b[39;49m\u001b[43m(\u001b[49m\u001b[38;5;124;43m\"\u001b[39;49m\u001b[38;5;124;43mIntroduce un valor: \u001b[39;49m\u001b[38;5;124;43m\"\u001b[39;49m\u001b[43m)\u001b[49m\u001b[43m)\u001b[49m\n\u001b[0;32m      4\u001b[0m \u001b[38;5;28;01mif\u001b[39;00m var_1 \u001b[38;5;241m<\u001b[39m var_2:\n\u001b[0;32m      5\u001b[0m     \u001b[38;5;28mprint\u001b[39m(\u001b[38;5;124mf\u001b[39m\u001b[38;5;124m\"\u001b[39m\u001b[38;5;124mEl numero \u001b[39m\u001b[38;5;132;01m{\u001b[39;00mvar_1\u001b[38;5;132;01m}\u001b[39;00m\u001b[38;5;124m es menor que el numero  \u001b[39m\u001b[38;5;132;01m{\u001b[39;00mvar_2\u001b[38;5;132;01m}\u001b[39;00m\u001b[38;5;124m\"\u001b[39m)\n",
      "\u001b[1;31mValueError\u001b[0m: invalid literal for int() with base 10: ''"
     ]
    }
   ],
   "source": [
    "var_1 = int(input(\"Introduce un valor: \"))\n",
    "var_2 = int(input(\"Introduce un valor: \"))\n",
    "\n",
    "if var_1 < var_2:\n",
    "    print(f\"El numero {var_1} es menor que el numero  {var_2}\")"
   ]
  },
  {
   "cell_type": "code",
   "execution_count": null,
   "id": "ed432e8d",
   "metadata": {},
   "outputs": [],
   "source": [
    "# Funcion que solicita un valor \n",
    "def solicitar():\n",
    "    return int(input(\"Introduce el valor: \"))\n"
   ]
  },
  {
   "cell_type": "code",
   "execution_count": null,
   "id": "2b44f31f",
   "metadata": {},
   "outputs": [],
   "source": [
    "# Duncion que hace la comparación\n",
    "def comparar(valor1, valor2):\n",
    "    if valor1 < valor2:\n",
    "        print(f\"El numero {var_1} es menor que el numero {var_2}\")\n",
    "   "
   ]
  },
  {
   "cell_type": "code",
   "execution_count": null,
   "id": "7ffc2554",
   "metadata": {},
   "outputs": [],
   "source": [
    "# Ejecutar las funciones \n",
    "var_1 = solicitar()\n",
    "var_2 = solicitar()\n",
    "comparar(var_1, var_2)"
   ]
  },
  {
   "cell_type": "markdown",
   "id": "f9a7303a",
   "metadata": {},
   "source": [
    "1. **Desarrollar un programa que determine si un numero es positivo**\n",
    "2. **Desarrollar un programa que determine si puedes votar, la edad minima es de 18**\n",
    "3. **Verificar si un numero es par**\n",
    "4. **Realizar la simulacion de login en el cual se debe verificar si la contraseña es correcta**\n",
    "5. **Realizar un programa que determine si un alumno esta aprobado, la calificacion minima es de 7**"
   ]
  },
  {
   "cell_type": "code",
   "execution_count": null,
   "id": "d3afd297",
   "metadata": {},
   "outputs": [
    {
     "name": "stdout",
     "output_type": "stream",
     "text": [
      "Es positivo.\n"
     ]
    }
   ],
   "source": [
    "#1 Desarrollar un programa que determine si un numero es positivo\n",
    "n = float(input(\"Ingresa un número: \"))\n",
    "\n",
    "if n > 0:\n",
    "    print(\"Es positivo.\")\n",
    "if n == 0:\n",
    "    print(\"Es cero.\")\n",
    "if n < 0 :\n",
    "    print(\"Es negativo.\")\n"
   ]
  },
  {
   "cell_type": "code",
   "execution_count": null,
   "id": "3088a2e2",
   "metadata": {},
   "outputs": [
    {
     "name": "stdout",
     "output_type": "stream",
     "text": [
      "No puedes Votar.\n"
     ]
    }
   ],
   "source": [
    "# 2 Desarrollar un programa que determine si puedes votar, \n",
    "# la edad minima es de 18\n",
    "edad = int(input(\"Ingresa tu edad : \" ))\n",
    "\n",
    "if edad >= 18:\n",
    "    print(\"Puedes votar.\")\n",
    "if edad < 18:\n",
    "    print(\"No puedes Votar.\")\n",
    "\n"
   ]
  },
  {
   "cell_type": "code",
   "execution_count": null,
   "id": "6d86fbfb",
   "metadata": {},
   "outputs": [
    {
     "name": "stdout",
     "output_type": "stream",
     "text": [
      "El número 3 es impar.\n"
     ]
    }
   ],
   "source": [
    "# 3 Verificar si un numero es par\n",
    "numero = int(input(\"Ingresa un número: \"))\n",
    "\n",
    "if numero % 2 == 0:\n",
    "    print(f\"El número {numero} es par.\")\n",
    "if numero % 2 != 0:\n",
    "    print(f\"El número {numero} es impar.\")"
   ]
  },
  {
   "cell_type": "code",
   "execution_count": null,
   "id": "fe11dfa8",
   "metadata": {},
   "outputs": [
    {
     "name": "stdout",
     "output_type": "stream",
     "text": [
      "Contraseña incorrecta.\n"
     ]
    }
   ],
   "source": [
    "# 4 Realizar la simulacion \n",
    "# de login en el cual se debe verificar \n",
    "# si la contraseña es correcta\n",
    "\n",
    "con = int (input(\"Ingresa la contraseña: \"))\n",
    "if con == 1234:\n",
    "    print(\"Contraseña correcta, bienvenido.\")\n",
    "if con != 1234:\n",
    "    print(\"Contraseña incorrecta.\")"
   ]
  },
  {
   "cell_type": "code",
   "execution_count": null,
   "id": "f459dbc8",
   "metadata": {},
   "outputs": [
    {
     "data": {
      "text/plain": [
       "True"
      ]
     },
     "execution_count": 12,
     "metadata": {},
     "output_type": "execute_result"
    }
   ],
   "source": [
    "resultado = 4>5 or 5==5\n",
    "resultado "
   ]
  },
  {
   "cell_type": "markdown",
   "id": "813b2106",
   "metadata": {},
   "source": [
    "### OPERADORES LOGICOS \n",
    "---\n",
    "\n",
    "### Operador or\n",
    "\n",
    "| A   | B   | A or B |\n",
    "|-----|-----|--------|\n",
    "| F   | F   | F      |\n",
    "| T   | F   | T      |\n",
    "| F   | T   | T      |\n",
    "| T   | T   | T      |\n",
    "\n",
    "### Operador and\n",
    "\n",
    "| A   | B   | A and B |\n",
    "|-----|-----|---------|\n",
    "| F   | F   | F       |\n",
    "| T   | F   | F       |\n",
    "| F   | T   | F       |\n",
    "| T   | T   | T       |\n",
    "\n",
    "### Operador not\n",
    "\n",
    "| A   | not A |\n",
    "|-----|--------|\n",
    "| F   | T      |\n",
    "| T   | F      |\n",
    "\n",
    "### Operador nor (equivale a not (A or B))\n",
    "\n",
    "| A   | B   | A or B | not (A or B) = NOR |\n",
    "|-----|-----|--------|--------------------|\n",
    "| F   | F   | F      | T                  |\n",
    "| T   | F   | T      | F                  |\n",
    "| F   | T   | T      | F                  |\n",
    "| T   | T   | T      | F                  |"
   ]
  },
  {
   "cell_type": "code",
   "execution_count": 16,
   "id": "acc660ea",
   "metadata": {},
   "outputs": [
    {
     "data": {
      "text/plain": [
       "False"
      ]
     },
     "execution_count": 16,
     "metadata": {},
     "output_type": "execute_result"
    }
   ],
   "source": [
    "resultado = not (4 > 5 or 5 == 5)\n",
    "resultado \n"
   ]
  },
  {
   "cell_type": "code",
   "execution_count": 19,
   "id": "122b82db",
   "metadata": {},
   "outputs": [
    {
     "data": {
      "text/plain": [
       "False"
      ]
     },
     "execution_count": 19,
     "metadata": {},
     "output_type": "execute_result"
    }
   ],
   "source": [
    "resultado = not 4<5 or 5!=5\n",
    "resultado "
   ]
  },
  {
   "cell_type": "code",
   "execution_count": 20,
   "id": "a929424f",
   "metadata": {},
   "outputs": [
    {
     "data": {
      "text/plain": [
       "False"
      ]
     },
     "execution_count": 20,
     "metadata": {},
     "output_type": "execute_result"
    }
   ],
   "source": [
    "x =5 \n",
    "y = 10 \n",
    "resultado = x>=5 and y<=x\n",
    "resultado "
   ]
  },
  {
   "cell_type": "markdown",
   "id": "269e1926",
   "metadata": {},
   "source": [
    "1. Verificar so un numero esta en el rango de 10 y 20\n",
    "2. Verificar si un usuario tiene acceso al Charlys si tiene minimo 18  años o tiene permiso especial \n",
    "3. Verificar si un numero no es igual a cero \n",
    "4. Verificar si un valor esta fuera del rango de 0 y 30 \n"
   ]
  },
  {
   "cell_type": "code",
   "execution_count": 23,
   "id": "40630f0c",
   "metadata": {},
   "outputs": [
    {
     "name": "stdout",
     "output_type": "stream",
     "text": [
      "El número 15 está en el rango de 10 a 20.\n"
     ]
    }
   ],
   "source": [
    "# 1. Verificar so un numero esta en el rango de 10 y 20\n",
    "numero = int(input(\"Ingresa un número: \"))\n",
    "if 10 <= numero <= 20:\n",
    "    print(f\"El número {numero} está en el rango de 10 a 20.\")\n",
    "if not (10 <= numero <= 20):\n",
    "    print(f\"El número {numero} no está en el rango de 10 a 20.\")    \n"
   ]
  },
  {
   "cell_type": "code",
   "execution_count": 24,
   "id": "281f0087",
   "metadata": {},
   "outputs": [
    {
     "name": "stdout",
     "output_type": "stream",
     "text": [
      "Tienes acceso al Charlys.\n"
     ]
    }
   ],
   "source": [
    "# 2. Verificar si un usuario tiene acceso al Charlys si tiene minimo 18  años o tiene permiso especial \n",
    "edad = int(input(\"Ingresa tu edad: \"))\n",
    "permiso_especial = input(\"¿Tienes permiso especial? (si/no): \").strip().lower()       \n",
    "if edad >= 18 or permiso_especial == \"si\":\n",
    "    print(\"Tienes acceso al Charlys.\")\n",
    "if edad < 18 and permiso_especial != \"si\":\n",
    "    print(\"No tienes acceso al Charlys.\")  "
   ]
  },
  {
   "cell_type": "code",
   "execution_count": 25,
   "id": "8f4a0517",
   "metadata": {},
   "outputs": [
    {
     "name": "stdout",
     "output_type": "stream",
     "text": [
      "El número 8 no es igual a cero.\n"
     ]
    }
   ],
   "source": [
    "# 3. Verificar si un numero no es igual a cero \n",
    "numero = int(input(\"Ingresa un número: \"))\n",
    "if numero != 0:\n",
    "    print(f\"El número {numero} no es igual a cero.\")\n",
    "if numero == 0:\n",
    "    print(\"El número es igual a cero.\")"
   ]
  },
  {
   "cell_type": "code",
   "execution_count": 26,
   "id": "7df365bf",
   "metadata": {},
   "outputs": [
    {
     "name": "stdout",
     "output_type": "stream",
     "text": [
      "El valor 62 está fuera del rango de 0 a 30.\n"
     ]
    }
   ],
   "source": [
    "# 4. Verificar si un valor esta fuera del rango de 0 y 30 \n",
    "valor = int(input(\"Ingresa un valor: \"))\n",
    "if valor < 0 or valor > 30: \n",
    "    print(f\"El valor {valor} está fuera del rango de 0 a 30.\")\n",
    "if 0 <= valor <= 30:    \n",
    "    print(f\"El valor {valor} está dentro del rango de 0 a 30.\") "
   ]
  },
  {
   "cell_type": "markdown",
   "id": "10109386",
   "metadata": {},
   "source": [
    "Hay veces que queremos tener una acción ``default``,\n",
    "que queremos que suceda en caso de que la comparacion sea `False`. Para esto podemso usar una sentencia `else`.\n",
    "Piensalo como preguntarse a uno mismo: \"Si meto mi mano a la bolsa y reulta que encuentri un billete de $50,  me compro unos nachos; y si no hay nada vere una pelicula con mi novio llorando de tristeza por que no es el otro \""
   ]
  },
  {
   "cell_type": "code",
   "execution_count": 29,
   "id": "9cc0281a",
   "metadata": {},
   "outputs": [
    {
     "name": "stdout",
     "output_type": "stream",
     "text": [
      "La condición no se cumplio por lo tanto yo no me imprimo \n"
     ]
    }
   ],
   "source": [
    "var_1 = 4 \n",
    "var_2 = 5 \n",
    "if var_1 > var_2:\n",
    "    print(\"La condición se cumplio\")\n",
    "else:\n",
    "    print(\"La condición no se cumplio\"\\\n",
    "          \" por lo tanto yo no me imprimo \")\n"
   ]
  },
  {
   "cell_type": "code",
   "execution_count": 30,
   "id": "c74f9397",
   "metadata": {},
   "outputs": [
    {
     "name": "stdout",
     "output_type": "stream",
     "text": [
      "El número 8 es mayor que el número 8.\n"
     ]
    }
   ],
   "source": [
    "# Encontar el numero mas grande de 2 numeros \n",
    "numbrero_1 = int(input(\"Ingresa el primer número: \"))\n",
    "numero_2 = int(input(\"Ingresa el segundo número: \"))\n",
    "if numbrero_1 > numero_2:\n",
    "    print(f\"El número {numbrero_1} es mayor que el número {numero_2}.\")\n",
    "else:\n",
    "    print(f\"El número {numero_2} es mayor que el número {numbrero_1}.\")\n",
    "    "
   ]
  },
  {
   "cell_type": "code",
   "execution_count": 31,
   "id": "f2bb5264",
   "metadata": {},
   "outputs": [
    {
     "name": "stdout",
     "output_type": "stream",
     "text": [
      "El número mayor es: 9.\n"
     ]
    }
   ],
   "source": [
    "numbrero_1 = int(input(\"Ingresa el primer número: \"))\n",
    "numero_2 = int(input(\"Ingresa el segundo número: \"))\n",
    "if numbrero_1 > numero_2:\n",
    "    numero_mayor = numbrero_1\n",
    "else:\n",
    "    numero_mayor = numero_2\n",
    "print(f\"El número mayor es: {numero_mayor}.\")\n"
   ]
  },
  {
   "cell_type": "markdown",
   "id": "361bebf5",
   "metadata": {},
   "source": [
    "Si queremos que hayue mas de dos opciones podemos agregar opciones utilizando la sentencia `elif`"
   ]
  },
  {
   "cell_type": "code",
   "execution_count": 33,
   "id": "7fb6cce7",
   "metadata": {},
   "outputs": [
    {
     "name": "stdout",
     "output_type": "stream",
     "text": [
      "El 12 es menor que 14 \n"
     ]
    }
   ],
   "source": [
    "var_1 = 12\n",
    "var_2 = 14\n",
    "if var_1 > var_2:\n",
    "    print(f'El {var_1} es mayor que {var_2} ')\n",
    "elif var_1 < var_2:\n",
    "    print(f'El {var_1} es menor que {var_2} ')      \n",
    "else:\n",
    "    print(f'El {var_1} es igual que {var_2} ')"
   ]
  },
  {
   "cell_type": "code",
   "execution_count": 34,
   "id": "82a510e2",
   "metadata": {},
   "outputs": [
    {
     "name": "stdout",
     "output_type": "stream",
     "text": [
      "Felicidades, tu sueldo es 7000.0; tu bono es de 70.0; y el total de sueldo con el bono incluido es de 7070.0.\n"
     ]
    }
   ],
   "source": [
    "#### 1. Comparaciones numéricas\n",
    "\n",
    "##Vamos a imaginar que estamos analizando un conjunto de datos que contiene las ventas anuales en pesos de unos vendedores que trabajan en nuestra empresa. Obtenemos el total de ventas anuales en pesos y lo tenemos asignado a la variable ventas_anuales_totales. Escribe una estructura de control que nos diga de cuánto va a ser el bono de nuestro empleado.\n",
    "\n",
    "#Si las ventas son mayores a `$`1,000,000 el bono será de 20% del sueldo; si son entre `$`700,000 y `$`1,000,000 el bono será de 15% del sueldo; entre `$`400,000 y `$`700,000 el bono será de 10% del sueldo; entre `$`100,00 y 400,000 el bono será de 5% del sueldo; y debajo de `$`100,000 el bono será del 1% del sueldo.\n",
    "\n",
    "#Escribe tu estructura de control y, por ahora (más adelante tendremos más herramientas para hacer esto más interesante) imprime una string que diga de cuánto va a ser el bono.\n",
    "\n",
    "#> Reto opcional: Agrega una variable sueldo que sea el sueldo de tu empleado y agrégale el porcentaje de bono a esa variable dependiendo de la condición que se cumpla. Después hasta el final imprime una string interpolada que diga algo como \"Felicidades, tu sueldo es x; tu bono es de x; y el total de sueldo con el bono incluido es de x\". ¡Para que esto funcione también debes de agregar una variable donde guardes la cantidad del bono!\n",
    "ventas_anuales_totales = float(input(\"Ingresa las ventas anuales totales en pesos: \"))\n",
    "sueldo = float(input(\"Ingresa el sueldo del empleado: \"))\n",
    "if ventas_anuales_totales > 1000000:\n",
    "    bono = sueldo * 0.20\n",
    "    print(f\"Felicidades, tu sueldo es {sueldo}; tu bono es de {bono}; y el total de sueldo con el bono incluido es de {sueldo + bono}.\")\n",
    "elif 700000 <= ventas_anuales_totales <= 1000000:\n",
    "    bono = sueldo * 0.15\n",
    "    print(f\"Felicidades, tu sueldo es {sueldo}; tu bono es de {bono}; y el total de sueldo con el bono incluido es de {sueldo + bono}.\")\n",
    "elif 400000 <= ventas_anuales_totales < 700000:\n",
    "    bono = sueldo * 0.10\n",
    "    print(f\"Felicidades, tu sueldo es {sueldo}; tu bono es de {bono}; y el total de sueldo con el bono incluido es de {sueldo + bono}.\")\n",
    "elif 100000 <= ventas_anuales_totales < 400000:\n",
    "    bono = sueldo * 0.05\n",
    "    print(f\"Felicidades, tu sueldo es {sueldo}; tu bono es de {bono}; y el total de sueldo con el bono incluido es de {sueldo + bono}.\")\n",
    "else:\n",
    "    bono = sueldo * 0.01\n",
    "    print(f\"Felicidades, tu sueldo es {sueldo}; tu bono es de {bono}; y el total de sueldo con el bono incluido es de {sueldo + bono}.\")    \n",
    "    "
   ]
  },
  {
   "cell_type": "code",
   "execution_count": null,
   "id": "282e0510",
   "metadata": {},
   "outputs": [],
   "source": [
    "ventas_anuales_totales = float(input(\"Ingresa las ventas anuales totales en pesos: \"))\n",
    "sueldo = float(input(\"Ingresa el sueldo del empleado: \"))\n",
    "if ventas_anuales_totales > 1000000:\n",
    "    bono = sueldo * 0.20\n",
    "    print(f\"felicidades tu sueldo es \")"
   ]
  }
 ],
 "metadata": {
  "kernelspec": {
   "display_name": "base",
   "language": "python",
   "name": "python3"
  },
  "language_info": {
   "codemirror_mode": {
    "name": "ipython",
    "version": 3
   },
   "file_extension": ".py",
   "mimetype": "text/x-python",
   "name": "python",
   "nbconvert_exporter": "python",
   "pygments_lexer": "ipython3",
   "version": "3.12.8"
  }
 },
 "nbformat": 4,
 "nbformat_minor": 5
}
