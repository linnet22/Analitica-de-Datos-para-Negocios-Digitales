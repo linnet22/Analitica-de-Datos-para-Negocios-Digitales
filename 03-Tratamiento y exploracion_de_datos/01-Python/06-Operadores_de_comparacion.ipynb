{
 "cells": [
  {
   "cell_type": "markdown",
   "id": "094f8280",
   "metadata": {},
   "source": [
    "## Operadores de Comparación \n",
    "### Objetivos \n",
    "    - Conocer el funcionamiento de los operadores de comparacion usando int, floar y string \n",
    "---\n",
    "## Desarrollo"
   ]
  },
  {
   "cell_type": "markdown",
   "id": "eedd07d9",
   "metadata": {},
   "source": [
    "Asignar valores a algunas variables para despues utilizarlas para realizar comparaciones "
   ]
  },
  {
   "cell_type": "code",
   "execution_count": 1,
   "id": "bd60a4b9",
   "metadata": {},
   "outputs": [],
   "source": [
    "var_1 = 34\n",
    "var_2 = 12\n",
    "var_3 = 23.24\n",
    "var_4 =23.56\n",
    "var_5 = \"OK\"\n",
    "var_6 = \"ERROR\"\n",
    "VAR_7 = True\n",
    "var_8 = False"
   ]
  },
  {
   "cell_type": "markdown",
   "id": "8845d648",
   "metadata": {},
   "source": [
    "Ahora vamos a realizar algunas comparaciones para ver como funcionan los operadores relacionales \n"
   ]
  },
  {
   "cell_type": "code",
   "execution_count": 2,
   "id": "63b94109",
   "metadata": {},
   "outputs": [
    {
     "data": {
      "text/plain": [
       "True"
      ]
     },
     "execution_count": 2,
     "metadata": {},
     "output_type": "execute_result"
    }
   ],
   "source": [
    "var_1 > var_2"
   ]
  },
  {
   "cell_type": "code",
   "execution_count": 3,
   "id": "bb935214",
   "metadata": {},
   "outputs": [
    {
     "data": {
      "text/plain": [
       "False"
      ]
     },
     "execution_count": 3,
     "metadata": {},
     "output_type": "execute_result"
    }
   ],
   "source": [
    "var_1 < var_2"
   ]
  },
  {
   "cell_type": "code",
   "execution_count": 4,
   "id": "c4988f42",
   "metadata": {},
   "outputs": [
    {
     "data": {
      "text/plain": [
       "True"
      ]
     },
     "execution_count": 4,
     "metadata": {},
     "output_type": "execute_result"
    }
   ],
   "source": [
    "var_3 < var_4"
   ]
  },
  {
   "cell_type": "code",
   "execution_count": 5,
   "id": "e3c55325",
   "metadata": {},
   "outputs": [
    {
     "data": {
      "text/plain": [
       "True"
      ]
     },
     "execution_count": 5,
     "metadata": {},
     "output_type": "execute_result"
    }
   ],
   "source": [
    "var_3 <= var_4"
   ]
  },
  {
   "cell_type": "code",
   "execution_count": 6,
   "id": "a6282a42",
   "metadata": {},
   "outputs": [
    {
     "data": {
      "text/plain": [
       "True"
      ]
     },
     "execution_count": 6,
     "metadata": {},
     "output_type": "execute_result"
    }
   ],
   "source": [
    "var_1 >= var_4"
   ]
  },
  {
   "cell_type": "code",
   "execution_count": 7,
   "id": "94779570",
   "metadata": {},
   "outputs": [
    {
     "data": {
      "text/plain": [
       "False"
      ]
     },
     "execution_count": 7,
     "metadata": {},
     "output_type": "execute_result"
    }
   ],
   "source": [
    "var_5 == var_6"
   ]
  },
  {
   "cell_type": "code",
   "execution_count": 9,
   "id": "612a46be",
   "metadata": {},
   "outputs": [
    {
     "data": {
      "text/plain": [
       "False"
      ]
     },
     "execution_count": 9,
     "metadata": {},
     "output_type": "execute_result"
    }
   ],
   "source": [
    "var_5 == var_6\n"
   ]
  },
  {
   "cell_type": "code",
   "execution_count": 10,
   "id": "1e07fd0c",
   "metadata": {},
   "outputs": [
    {
     "data": {
      "text/plain": [
       "False"
      ]
     },
     "execution_count": 10,
     "metadata": {},
     "output_type": "execute_result"
    }
   ],
   "source": [
    "True == False"
   ]
  },
  {
   "cell_type": "code",
   "execution_count": 11,
   "id": "86d86548",
   "metadata": {},
   "outputs": [
    {
     "data": {
      "text/plain": [
       "True"
      ]
     },
     "execution_count": 11,
     "metadata": {},
     "output_type": "execute_result"
    }
   ],
   "source": [
    "True > False"
   ]
  },
  {
   "cell_type": "code",
   "execution_count": 12,
   "id": "d3e37eed",
   "metadata": {},
   "outputs": [
    {
     "data": {
      "text/plain": [
       "False"
      ]
     },
     "execution_count": 12,
     "metadata": {},
     "output_type": "execute_result"
    }
   ],
   "source": [
    "True < False"
   ]
  }
 ],
 "metadata": {
  "kernelspec": {
   "display_name": "base",
   "language": "python",
   "name": "python3"
  },
  "language_info": {
   "codemirror_mode": {
    "name": "ipython",
    "version": 3
   },
   "file_extension": ".py",
   "mimetype": "text/x-python",
   "name": "python",
   "nbconvert_exporter": "python",
   "pygments_lexer": "ipython3",
   "version": "3.12.8"
  }
 },
 "nbformat": 4,
 "nbformat_minor": 5
}
