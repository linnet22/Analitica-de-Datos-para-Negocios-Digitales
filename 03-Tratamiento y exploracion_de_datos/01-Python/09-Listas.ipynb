{
 "cells": [
  {
   "cell_type": "markdown",
   "id": "0e98d225",
   "metadata": {},
   "source": [
    "# Listas\n",
    "1. Objetivos \n",
    "- Entender la sintaxis de las listas de Python\n",
    "- Aprender a crear listas y accesarlas \n",
    "---\n",
    "\n",
    "2. Desarrollo.\n"
   ]
  },
  {
   "cell_type": "markdown",
   "id": "af843678",
   "metadata": {},
   "source": [
    "## Creando Lista y accendiendo a ellas \n",
    "\n",
    "Las lsitas son secuencias ordenadas .  El orden de los datos en la lista es el mismo orden que tienen los datos a la hora de ser asignados. Una lista se ve asi \n"
   ]
  },
  {
   "cell_type": "code",
   "execution_count": 1,
   "id": "f5a1939a",
   "metadata": {},
   "outputs": [
    {
     "data": {
      "text/plain": [
       "[1, 4, 6, 2, 4]"
      ]
     },
     "execution_count": 1,
     "metadata": {},
     "output_type": "execute_result"
    }
   ],
   "source": [
    "lista_1 = [1,4,6,2,4]\n",
    "lista_1"
   ]
  },
  {
   "cell_type": "code",
   "execution_count": 2,
   "id": "7668230a",
   "metadata": {},
   "outputs": [
    {
     "data": {
      "text/plain": [
       "list"
      ]
     },
     "execution_count": 2,
     "metadata": {},
     "output_type": "execute_result"
    }
   ],
   "source": [
    "type(lista_1)"
   ]
  },
  {
   "cell_type": "markdown",
   "id": "66a0285a",
   "metadata": {},
   "source": [
    "Cada elemento de la lsita tiene un indice, que se utiliza para acceder a dicho elemento. Dado que las listas son ordenadas, los indices se van asignando secuencialmente desde el primer elemento hasta el ultimo. El primer indice es siempre `0`, y por lo tanto el ultimo indice es siempre `n-1`, donde `n`es el numero total de elementos en la lista."
   ]
  },
  {
   "cell_type": "code",
   "execution_count": 3,
   "id": "69ae1565",
   "metadata": {},
   "outputs": [
    {
     "name": "stdout",
     "output_type": "stream",
     "text": [
      "Primer elemento de la lista: 1\n",
      "El ultimo elemento de la lista: 4\n"
     ]
    }
   ],
   "source": [
    "# Imprimir el primer elemento de la lista \n",
    "print(f'Primer elemento de la lista: {lista_1[0]}')\n",
    "print(f'El ultimo elemento de la lista: {lista_1[4]}')\n",
    "\n"
   ]
  },
  {
   "cell_type": "code",
   "execution_count": 2,
   "id": "246ff59e",
   "metadata": {},
   "outputs": [
    {
     "name": "stdout",
     "output_type": "stream",
     "text": [
      "Contenido de la lista: [10, 5, 7, 2, 1]\n",
      "<class 'list'>\n"
     ]
    }
   ],
   "source": [
    "numbers = [10,5,7,2,1]\n",
    "# Imprimir el primer elemento de la lista\n",
    "print(f'Contenido de la lista: {numbers}')\n",
    "print(type(numbers))"
   ]
  },
  {
   "cell_type": "code",
   "execution_count": null,
   "id": "700cdcea",
   "metadata": {},
   "outputs": [
    {
     "data": {
      "text/plain": [
       "2"
      ]
     },
     "execution_count": 3,
     "metadata": {},
     "output_type": "execute_result"
    }
   ],
   "source": [
    "# Permite accesar al valor \n",
    "# que se encuentra en la posicion \n",
    "numbers[3] "
   ]
  },
  {
   "cell_type": "markdown",
   "id": "db935e39",
   "metadata": {},
   "source": [
    "***Vamoas a asignar un nuevo valor 111 al primer elemento en la lista, lo acemos de la siguiente manera***"
   ]
  },
  {
   "cell_type": "code",
   "execution_count": 4,
   "id": "b13c9b18",
   "metadata": {},
   "outputs": [
    {
     "name": "stdout",
     "output_type": "stream",
     "text": [
      "[111, 5, 7, 2, 1]\n"
     ]
    }
   ],
   "source": [
    "numbers[0] = 111\n",
    "print(numbers)"
   ]
  },
  {
   "cell_type": "code",
   "execution_count": 5,
   "id": "e20d579b",
   "metadata": {},
   "outputs": [
    {
     "name": "stdout",
     "output_type": "stream",
     "text": [
      "[111, 1, 7, 2, 1]\n"
     ]
    }
   ],
   "source": [
    "# Copiar el valor \n",
    "# del quinto elemento al segundo \n",
    "numbers[1] = numbers[4]\n",
    "print(numbers)"
   ]
  },
  {
   "cell_type": "code",
   "execution_count": 6,
   "id": "097d8ef7",
   "metadata": {},
   "outputs": [
    {
     "name": "stdout",
     "output_type": "stream",
     "text": [
      "111\n"
     ]
    }
   ],
   "source": [
    "print (numbers[-5])"
   ]
  },
  {
   "cell_type": "markdown",
   "id": "27dc996d",
   "metadata": {},
   "source": [
    "### Eliminando Elementos de la lista"
   ]
  },
  {
   "cell_type": "markdown",
   "id": "8c1c46db",
   "metadata": {},
   "source": [
    "Cualquier elemento de la lista puede ser eliminado en cualquier momento - esto se hace con una instrucción llamada `del` (eliminar). Nota: es una instrucción, no una función.\n",
    "Tienes que apuntar al elemento que quieres eliminar - desaparecerá de la lista y la longitud de la lista se reducirá en uno."
   ]
  },
  {
   "cell_type": "code",
   "execution_count": 7,
   "id": "3843185b",
   "metadata": {},
   "outputs": [
    {
     "name": "stdout",
     "output_type": "stream",
     "text": [
      "La lista actual es [111, 1, 7, 2, 1] \n"
     ]
    }
   ],
   "source": [
    "print(f'La lista actual es {numbers} ')\n",
    "del numbers[2]"
   ]
  },
  {
   "cell_type": "code",
   "execution_count": 10,
   "id": "6d17a6ff",
   "metadata": {},
   "outputs": [
    {
     "name": "stdout",
     "output_type": "stream",
     "text": [
      "La lista actual es :[111, 1, 2, 1]\n",
      "El tamano de la lista es:4\n"
     ]
    }
   ],
   "source": [
    "print(f'La lista actual es :{numbers}')\n",
    "print(f'El tamano de la lista es:{len(numbers)}')"
   ]
  },
  {
   "cell_type": "code",
   "execution_count": 11,
   "id": "777fbdfb",
   "metadata": {},
   "outputs": [
    {
     "name": "stdout",
     "output_type": "stream",
     "text": [
      "La lista actual es :[111, 1, 1]\n",
      "El tamano de la lista es:3\n"
     ]
    }
   ],
   "source": [
    "del numbers[-2]\n",
    "print(f'La lista actual es :{numbers}')\n",
    "print(f'El tamano de la lista es:{len(numbers)}')"
   ]
  },
  {
   "cell_type": "code",
   "execution_count": 21,
   "id": "9bf28cb8",
   "metadata": {},
   "outputs": [],
   "source": [
    "lista_prueba =[1,2,4,6,2,11]\n",
    "# Remove -> elimina o remuebe la primera coincidencia\n",
    "#  de un valor que se le indica \n",
    "lista_prueba.remove(2)\n"
   ]
  },
  {
   "cell_type": "code",
   "execution_count": 22,
   "id": "bb9629ac",
   "metadata": {},
   "outputs": [
    {
     "name": "stdout",
     "output_type": "stream",
     "text": [
      "La lista actual es :[1, 4, 6, 2, 11]\n",
      "El tamano de la lista es:5\n"
     ]
    }
   ],
   "source": [
    "print(f'La lista actual es :{lista_prueba}')\n",
    "print(f'El tamano de la lista es:{len(lista_prueba)}')"
   ]
  },
  {
   "cell_type": "code",
   "execution_count": 23,
   "id": "d8837787",
   "metadata": {},
   "outputs": [],
   "source": [
    "def eliminar (valor):\n",
    "    \n",
    "    for indice, elemento in enumerate(lista_prueba):\n",
    "       # print(f'Indice: {indice}, Elemento: {elemento} ')\n",
    "       if elemento == valor:\n",
    "           del lista_prueba[indice]"
   ]
  },
  {
   "cell_type": "code",
   "execution_count": 24,
   "id": "75593d48",
   "metadata": {},
   "outputs": [
    {
     "name": "stdout",
     "output_type": "stream",
     "text": [
      "Lista actual[1, 4, 6, 11]\n",
      "Lista despues de eliminar [1, 4, 6, 11]\n"
     ]
    }
   ],
   "source": [
    "eliminar(2)\n",
    "print(f'Lista actual{lista_prueba}')\n",
    "eliminar(2)\n",
    "print(f'Lista despues de eliminar {lista_prueba}')\n",
    "\n"
   ]
  },
  {
   "cell_type": "markdown",
   "id": "225869e4",
   "metadata": {},
   "source": [
    "### Los indices negativos son legales \n",
    "`Un elemeto con indice igual a -1 es el ultimo en la lista `"
   ]
  },
  {
   "cell_type": "code",
   "execution_count": 25,
   "id": "a644ffa2",
   "metadata": {},
   "outputs": [
    {
     "name": "stdout",
     "output_type": "stream",
     "text": [
      "El ultimo valor de la lista es: 1\n"
     ]
    }
   ],
   "source": [
    "numbers2 = [111,7,2,1]\n",
    "print(f'El ultimo valor de la lista es: {numbers2[-1]}')"
   ]
  },
  {
   "cell_type": "code",
   "execution_count": 26,
   "id": "908bc53a",
   "metadata": {},
   "outputs": [
    {
     "name": "stdout",
     "output_type": "stream",
     "text": [
      "El ultimo valor de la lista es: 7\n"
     ]
    }
   ],
   "source": [
    "numbers2 = [111,7,2,1]\n",
    "print(f'El ultimo valor de la lista es: {numbers2[-3]}')"
   ]
  },
  {
   "cell_type": "markdown",
   "id": "8296ac94",
   "metadata": {},
   "source": [
    "## Ejercicio de Listas 1\n",
    "\n",
    "hat_list = [1, 2, 3, 4, 5]  # Esta es una lista existente de números ocultos en el sombrero.\n",
    "\n",
    "Paso 1: escribe una línea de código que solicite al usuario\n",
    " reemplazar el número de en medio con un número entero ingresado por el usuario.\n",
    "\n",
    " Paso 2: escribe aquí una línea de código que elimine el último elemento de la lista.\n",
    "\n",
    " Paso 3: escribe aquí una línea de código que imprima la longitud de la lista existente.\n",
    "\n",
    "print(hat_list)"
   ]
  },
  {
   "cell_type": "code",
   "execution_count": 50,
   "id": "c1749158",
   "metadata": {},
   "outputs": [
    {
     "name": "stdout",
     "output_type": "stream",
     "text": [
      "La longitud de la lista es: 4\n",
      "Lista actualizada: [1, 2, 5, 4]\n"
     ]
    }
   ],
   "source": [
    "## Ejercicio de Listas 1\n",
    "\n",
    "\n",
    "hat_list = [1, 2, 3, 4, 5]  # Esta es una lista existente de números ocultos en el sombrero.\n",
    "hat_list[2] = int(input(\"Ingrese un número entero para reemplazar el número del medio: \"))\n",
    "print\n",
    "del hat_list[-1]    \n",
    "print(f'La longitud de la lista es: {len(hat_list)}')\n",
    "print(f'Lista actualizada: {hat_list}')\n",
    "\n"
   ]
  },
  {
   "cell_type": "markdown",
   "id": "2e82285f",
   "metadata": {},
   "source": [
    "## Agregando elementos a una lista con los metodos : append() e insert()\n",
    "Un nuevo elemento puede ser anadido al final de la lista:\n",
    "`list.append(value)`\n",
    "El metodo `insert()`es un poco mas inteligente - puede agregar un nuevo elemento en cualquier lugar de la vista no solo al final \n",
    "`list.insert(location,value)`\n",
    "Toma dos argumentos:\n",
    "\n",
    "- el primero muestra la ubicación requerida del elemento a insertar; nota: todos los elementos existentes que ocupan ubicaciones a la derecha del nuevo elemento (incluido el que está en la posición indicada) se desplazan a la derecha, para hacer espacio para el nuevo elemento;\n",
    "-  el segundo es el elemento a insertar."
   ]
  },
  {
   "cell_type": "code",
   "execution_count": 28,
   "id": "f315b929",
   "metadata": {},
   "outputs": [
    {
     "name": "stdout",
     "output_type": "stream",
     "text": [
      "La lista original es: [123, 8, 4, 1]\n",
      "El tamaño de la lista es: 4\n",
      "La lista despues de agg: [123, 8, 4, 1, 10]\n",
      "El tamaño de la lista es: 5\n"
     ]
    }
   ],
   "source": [
    "numbers_3 = [123, 8, 4, 1]\n",
    "print(f\"La lista original es: {numbers_3}\")\n",
    "print(f\"El tamaño de la lista es: {len(numbers_3)}\")\n",
    "\n",
    "# Agregar un elemento al final de la lista con append\n",
    "numbers_3.append(10)\n",
    "print(f\"La lista despues de agg: {numbers_3}\")\n",
    "print(f\"El tamaño de la lista es: {len(numbers_3)}\")"
   ]
  },
  {
   "cell_type": "code",
   "execution_count": 30,
   "id": "45ba5dbe",
   "metadata": {},
   "outputs": [
    {
     "name": "stdout",
     "output_type": "stream",
     "text": [
      "La lista actual es :[123, 8, 4, 1, 10]\n",
      "El tamaño de la lista es: 5\n",
      "La lista actual es :[222, 123, 8, 4, 1, 10]\n",
      "El tamaño de la lista es: 6\n"
     ]
    }
   ],
   "source": [
    "# Metodo insert \n",
    "print(f'La lista actual es :{numbers_3}')\n",
    "print(f\"El tamaño de la lista es: {len(numbers_3)}\")\n",
    "\n",
    "numbers_3.insert(0,222)\n",
    "print(f'La lista actual es :{numbers_3}')\n",
    "print(f\"El tamaño de la lista es: {len(numbers_3)}\")\n",
    "\n"
   ]
  },
  {
   "cell_type": "code",
   "execution_count": 33,
   "id": "78717791",
   "metadata": {},
   "outputs": [],
   "source": [
    "def llenar_lista_append(valor):\n",
    "    my_list = []\n",
    "    for i in range(valor):\n",
    "        my_list.append(i+1)\n",
    "    return my_list\n"
   ]
  },
  {
   "cell_type": "code",
   "execution_count": 36,
   "id": "b8b93d88",
   "metadata": {},
   "outputs": [],
   "source": [
    "def imprimir_lista(lista):\n",
    "    print(f'La lista es: {lista}')"
   ]
  },
  {
   "cell_type": "code",
   "execution_count": 39,
   "id": "a77ac2b9",
   "metadata": {},
   "outputs": [
    {
     "name": "stdout",
     "output_type": "stream",
     "text": [
      "La lista es: [1, 2, 3, 4, 5, 6, 7, 8, 9, 10]\n"
     ]
    }
   ],
   "source": [
    "lista = llenar_lista_append(10)\n",
    "imprimir_lista(lista )\n",
    "\n"
   ]
  },
  {
   "cell_type": "code",
   "execution_count": 38,
   "id": "4cfbe459",
   "metadata": {},
   "outputs": [
    {
     "name": "stdout",
     "output_type": "stream",
     "text": [
      "[5, 4, 3, 2, 1]\n"
     ]
    }
   ],
   "source": [
    "my_list = []\n",
    "for i in range (5):\n",
    "    my_list.insert(0, i+1)\n",
    "print(my_list)\n"
   ]
  },
  {
   "cell_type": "code",
   "execution_count": 40,
   "id": "43cb2884",
   "metadata": {},
   "outputs": [
    {
     "name": "stdout",
     "output_type": "stream",
     "text": [
      "10\n",
      "1\n",
      "8\n",
      "3\n",
      "5\n"
     ]
    }
   ],
   "source": [
    "# Recorrer la lista con un ciclo \n",
    "mi_lista = [10,1,8,3,5]\n",
    "for i in mi_lista:\n",
    "    print(i)"
   ]
  },
  {
   "cell_type": "code",
   "execution_count": 41,
   "id": "6c2c51c3",
   "metadata": {},
   "outputs": [
    {
     "name": "stdout",
     "output_type": "stream",
     "text": [
      "La suma de los valores de la lista es: 27\n"
     ]
    }
   ],
   "source": [
    "# Sumar los valores de la lista \n",
    "total = 0\n",
    "for i in mi_lista:\n",
    "    total += i\n",
    "print(f'La suma de los valores de la lista es: {total}')"
   ]
  },
  {
   "cell_type": "markdown",
   "id": "e7592190",
   "metadata": {},
   "source": [
    "#### Realizar un programa que permita almacenar varias calificaciones en una lista \n",
    "para despues sacar el promedio de ellas, utilizando una funcion"
   ]
  },
  {
   "cell_type": "code",
   "execution_count": 45,
   "id": "3eb33225",
   "metadata": {},
   "outputs": [],
   "source": [
    "def guardar_calificaciones(numero):\n",
    "   lista_calificaciones = []\n",
    "   i = 1\n",
    "   while i <= numero:\n",
    "        calificacion = float(input(f'Solicitan la calificacion {i}: '))\n",
    "        lista_calificaciones.append(calificacion)\n",
    "        i += 1\n",
    "   return lista_calificaciones\n",
    "   "
   ]
  },
  {
   "cell_type": "code",
   "execution_count": 47,
   "id": "347afecf",
   "metadata": {},
   "outputs": [],
   "source": [
    "def guardar_calificaciones2(numero):\n",
    "   lista_calificaciones = []\n",
    "   i = 1\n",
    "   for i in range(numero):\n",
    " \n",
    "        calificacion = float(input(f'Solicitan la calificacion {i}: '))\n",
    "        lista_calificaciones.append(calificacion)\n",
    "        \n",
    "   return lista_calificaciones"
   ]
  },
  {
   "cell_type": "code",
   "execution_count": 48,
   "id": "d2ae38f4",
   "metadata": {},
   "outputs": [
    {
     "name": "stdout",
     "output_type": "stream",
     "text": [
      "[8.9, 7.6, 5.6, 10.0, 8.2]\n"
     ]
    }
   ],
   "source": [
    "lista = guardar_calificaciones(5)\n",
    "print(lista)"
   ]
  }
 ],
 "metadata": {
  "kernelspec": {
   "display_name": "Python 3",
   "language": "python",
   "name": "python3"
  },
  "language_info": {
   "codemirror_mode": {
    "name": "ipython",
    "version": 3
   },
   "file_extension": ".py",
   "mimetype": "text/x-python",
   "name": "python",
   "nbconvert_exporter": "python",
   "pygments_lexer": "ipython3",
   "version": "3.13.5"
  }
 },
 "nbformat": 4,
 "nbformat_minor": 5
}
