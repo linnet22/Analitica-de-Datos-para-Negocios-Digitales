{
 "cells": [
  {
   "cell_type": "markdown",
   "id": "da0304a7",
   "metadata": {},
   "source": [
    "## EJemplo 2.- Variables\n",
    "\n",
    "### 1.- Objetivo\n",
    "\n",
    "    - Es la sintaxis de la asignacion de variables en python\n",
    "\n",
    "    - Y aprender la convencion de nombramiento de variables "
   ]
  },
  {
   "cell_type": "markdown",
   "id": "a361b4de",
   "metadata": {},
   "source": [
    "### 2.- Desarrollo \n",
    "\n",
    "Los siguientes nombres son nombres de variables \n",
    "\n",
    "- var_1\n",
    "- variable_2\n",
    "- variable_dos\n",
    "- variable_nueva_tres\n",
    "- esta_es_una_variable_nueva"
   ]
  },
  {
   "cell_type": "markdown",
   "id": "1b6a1b85",
   "metadata": {},
   "source": [
    "Los siguientes son variables invalidos para una variable en python.\n",
    "\n",
    "- 1_2\n",
    "- 1_variable\n",
    "- variableDos\n",
    "- EstaEsUnaVariable\n",
    "- Soy una variable"
   ]
  },
  {
   "cell_type": "code",
   "execution_count": 4,
   "id": "35b3fb1b",
   "metadata": {},
   "outputs": [],
   "source": [
    "var_1=3\n",
    "var_2=6\n",
    "variable_3=10\n",
    "variable_nueva4=20"
   ]
  },
  {
   "cell_type": "markdown",
   "id": "111b042b",
   "metadata": {},
   "source": [
    "Podemos acceder a su contenido con tan solo escribir el nombre de la variable en una celda y correrla"
   ]
  },
  {
   "cell_type": "code",
   "execution_count": 5,
   "id": "4205f1a2",
   "metadata": {},
   "outputs": [
    {
     "data": {
      "text/plain": [
       "3"
      ]
     },
     "execution_count": 5,
     "metadata": {},
     "output_type": "execute_result"
    }
   ],
   "source": [
    "var_1"
   ]
  },
  {
   "cell_type": "code",
   "execution_count": 6,
   "id": "bebbc131",
   "metadata": {},
   "outputs": [
    {
     "data": {
      "text/plain": [
       "20"
      ]
     },
     "execution_count": 6,
     "metadata": {},
     "output_type": "execute_result"
    }
   ],
   "source": [
    "variable_nueva4"
   ]
  },
  {
   "cell_type": "markdown",
   "id": "9adafce4",
   "metadata": {},
   "source": [
    "Se intento llamar una variable que no existe JN va a lanzar un error"
   ]
  },
  {
   "cell_type": "code",
   "execution_count": null,
   "id": "f52d19c3",
   "metadata": {},
   "outputs": [],
   "source": [
    "var_5"
   ]
  },
  {
   "cell_type": "markdown",
   "id": "1d3144a1",
   "metadata": {},
   "source": [
    "De igual manera si se escribe una asignacion pero no se corre la celda esa variable no estara disponible para el notebook mas adelante"
   ]
  },
  {
   "cell_type": "code",
   "execution_count": 7,
   "id": "3888235e",
   "metadata": {},
   "outputs": [],
   "source": [
    "var_2=66"
   ]
  },
  {
   "cell_type": "code",
   "execution_count": 8,
   "id": "97c576f9",
   "metadata": {},
   "outputs": [
    {
     "data": {
      "text/plain": [
       "66"
      ]
     },
     "execution_count": 8,
     "metadata": {},
     "output_type": "execute_result"
    }
   ],
   "source": [
    "var_2"
   ]
  },
  {
   "cell_type": "markdown",
   "id": "b8544a94",
   "metadata": {},
   "source": [
    "## Reto 1: Variables\n",
    "\n",
    "### 1. Objetivos:\n",
    "\n",
    "    -Practicar convencion de nombramiento y asignacion de varibles\n",
    "\n",
    "### 2. Desarrollo\n",
    "\n",
    "    -Realziar la siguiente practica"
   ]
  },
  {
   "cell_type": "code",
   "execution_count": 9,
   "id": "bfee6d8b",
   "metadata": {},
   "outputs": [],
   "source": [
    "# Asigna el numero 12345 a una variable llamada locochona\n",
    "\n",
    "locochona=12345\n",
    "\n",
    "# Asigna el numero 14.567 a una variable var decimal\n",
    "var_decimal=14.567\n",
    "\n",
    "# Asigna un numero cualquiera a una variable que tenga cinco palabras en su nombre\n",
    "variable_con_cinco_palabras=42\n",
    "\n",
    "# Asigna un numero a una variable que incluya palabras y numeros en su nombre\n",
    "variable_1y2=100"
   ]
  }
 ],
 "metadata": {
  "kernelspec": {
   "display_name": "base",
   "language": "python",
   "name": "python3"
  },
  "language_info": {
   "codemirror_mode": {
    "name": "ipython",
    "version": 3
   },
   "file_extension": ".py",
   "mimetype": "text/x-python",
   "name": "python",
   "nbconvert_exporter": "python",
   "pygments_lexer": "ipython3",
   "version": "3.12.8"
  }
 },
 "nbformat": 4,
 "nbformat_minor": 5
}
