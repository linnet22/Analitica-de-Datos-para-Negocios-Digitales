{
 "cells": [
  {
   "cell_type": "markdown",
   "id": "77523648",
   "metadata": {},
   "source": [
    "## Operaciones númericas \n",
    "\n",
    "### Objetivos \n",
    "\n",
    "- Mostrar como utilizar los operadores aritmeticos \n",
    "\n",
    "### Desarrollo"
   ]
  },
  {
   "cell_type": "markdown",
   "id": "d932a3e0",
   "metadata": {},
   "source": [
    "Primero vamos a asignar unas variables \n"
   ]
  },
  {
   "cell_type": "code",
   "execution_count": 3,
   "id": "af7e0806",
   "metadata": {},
   "outputs": [],
   "source": [
    "var_1= 4\n",
    "var_2= 54\n",
    "var_3= 23\n",
    "var_4= 89"
   ]
  },
  {
   "cell_type": "code",
   "execution_count": 4,
   "id": "e6ca4a9f",
   "metadata": {},
   "outputs": [
    {
     "name": "stdout",
     "output_type": "stream",
     "text": [
      "4 54 23 894 - 54 - 23 - 89\n",
      "Él valor de la variable var_1:  /nEl valor de la variable var_1;  54\n"
     ]
    }
   ],
   "source": [
    "print(var_1, var_2, var_3, var_4, end=\"\")\n",
    "print(var_1, var_2, var_3, var_4, sep=' - ')\n",
    "\n",
    "print('Él valor de la variable var_1: ' , '/nEl valor de la variable var_1; ', var_2) \n",
    "      \n"
   ]
  },
  {
   "cell_type": "markdown",
   "id": "81b2cf49",
   "metadata": {},
   "source": [
    "### Operaciones numericas \n",
    "\n",
    "\n",
    "\n",
    "**Operadores aritmeticos**\n",
    "| Operador | Nombre                  | Descripción                                 | Ejemplo        | Resultado |\n",
    "|----------|-------------------------|---------------------------------------------|----------------|-----------|\n",
    "| `+`      | Suma                    | Suma de dos operandos                        | `5 + 3`        | `8`       |\n",
    "| `-`      | Resta                   | Resta del segundo operando al primero        | `5 - 3`        | `2`       |\n",
    "| `*`      | Multiplicación          | Producto de dos operandos                    | `5 * 3`        | `15`      |\n",
    "| `/`      | División                | División del primero entre el segundo       | `5 / 2`        | `2.5`     |\n",
    "| `//`     | División entera         | División y redondeo hacia abajo             | `5 // 2`       | `2`       |\n",
    "| `%`      | Módulo (residuo)        | Residuo de la división                      | `5 % 2`        | `1`       |\n",
    "| `**`     | Exponente               | Potencia del primer operando al segundo     | `2 ** 3`       | `8`       |"
   ]
  },
  {
   "cell_type": "code",
   "execution_count": 9,
   "id": "2d6162e7",
   "metadata": {},
   "outputs": [
    {
     "data": {
      "text/plain": [
       "58"
      ]
     },
     "execution_count": 9,
     "metadata": {},
     "output_type": "execute_result"
    }
   ],
   "source": [
    "var_1  + var_2"
   ]
  },
  {
   "cell_type": "code",
   "execution_count": 10,
   "id": "cbe5d120",
   "metadata": {},
   "outputs": [
    {
     "data": {
      "text/plain": [
       "92"
      ]
     },
     "execution_count": 10,
     "metadata": {},
     "output_type": "execute_result"
    }
   ],
   "source": [
    "var_3 * var_1"
   ]
  },
  {
   "cell_type": "code",
   "execution_count": 11,
   "id": "049951b3",
   "metadata": {},
   "outputs": [
    {
     "data": {
      "text/plain": [
       "1.6481481481481481"
      ]
     },
     "execution_count": 11,
     "metadata": {},
     "output_type": "execute_result"
    }
   ],
   "source": [
    "var_4 / var_2"
   ]
  },
  {
   "cell_type": "code",
   "execution_count": 12,
   "id": "423d2cca",
   "metadata": {},
   "outputs": [
    {
     "data": {
      "text/plain": [
       "1"
      ]
     },
     "execution_count": 12,
     "metadata": {},
     "output_type": "execute_result"
    }
   ],
   "source": [
    "var_4 //  var_2"
   ]
  },
  {
   "cell_type": "code",
   "execution_count": 13,
   "id": "d4ccc48a",
   "metadata": {},
   "outputs": [
    {
     "data": {
      "text/plain": [
       "0.5"
      ]
     },
     "execution_count": 13,
     "metadata": {},
     "output_type": "execute_result"
    }
   ],
   "source": [
    "1/2"
   ]
  },
  {
   "cell_type": "code",
   "execution_count": 14,
   "id": "b4a81dbf",
   "metadata": {},
   "outputs": [
    {
     "data": {
      "text/plain": [
       "0"
      ]
     },
     "execution_count": 14,
     "metadata": {},
     "output_type": "execute_result"
    }
   ],
   "source": [
    "1//2"
   ]
  },
  {
   "cell_type": "code",
   "execution_count": 15,
   "id": "05810327",
   "metadata": {},
   "outputs": [
    {
     "data": {
      "text/plain": [
       "8503056"
      ]
     },
     "execution_count": 15,
     "metadata": {},
     "output_type": "execute_result"
    }
   ],
   "source": [
    "var_2 ** var_1"
   ]
  },
  {
   "cell_type": "code",
   "execution_count": 16,
   "id": "f7f3fd5a",
   "metadata": {},
   "outputs": [
    {
     "data": {
      "text/plain": [
       "0"
      ]
     },
     "execution_count": 16,
     "metadata": {},
     "output_type": "execute_result"
    }
   ],
   "source": [
    "var_1 = 10 \n",
    "var_2 = 2\n",
    "\n",
    "var_1 % var_2"
   ]
  },
  {
   "cell_type": "code",
   "execution_count": 18,
   "id": "853ec72e",
   "metadata": {},
   "outputs": [
    {
     "name": "stdout",
     "output_type": "stream",
     "text": [
      "12\n",
      "20\n",
      "100\n"
     ]
    }
   ],
   "source": [
    "print(var_1 + var_2)\n",
    "print(var_1 * var_2)\n",
    "print(var_1 ** var_2)"
   ]
  },
  {
   "cell_type": "code",
   "execution_count": 20,
   "id": "5bb29049",
   "metadata": {},
   "outputs": [
    {
     "data": {
      "text/plain": [
       "33"
      ]
     },
     "execution_count": 20,
     "metadata": {},
     "output_type": "execute_result"
    }
   ],
   "source": [
    "resultado = var_1 + var_3\n",
    "resultado"
   ]
  }
 ],
 "metadata": {
  "kernelspec": {
   "display_name": "base",
   "language": "python",
   "name": "python3"
  },
  "language_info": {
   "codemirror_mode": {
    "name": "ipython",
    "version": 3
   },
   "file_extension": ".py",
   "mimetype": "text/x-python",
   "name": "python",
   "nbconvert_exporter": "python",
   "pygments_lexer": "ipython3",
   "version": "3.12.8"
  }
 },
 "nbformat": 4,
 "nbformat_minor": 5
}
