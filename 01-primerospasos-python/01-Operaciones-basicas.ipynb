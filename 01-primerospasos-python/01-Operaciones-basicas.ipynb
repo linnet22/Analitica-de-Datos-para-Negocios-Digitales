{
 "cells": [
  {
   "cell_type": "markdown",
   "id": "aa65520e",
   "metadata": {},
   "source": [
    "# Operaciones basicas en Python"
   ]
  },
  {
   "cell_type": "markdown",
   "id": "8f0da276",
   "metadata": {},
   "source": [
    "## Declaración de Variables y Asignación de Datos\n",
    "\n",
    "**Se  describen los tipos de datos existentes en Python y la forma  de imprimirlos**"
   ]
  },
  {
   "cell_type": "code",
   "execution_count": null,
   "id": "515ff7fb",
   "metadata": {},
   "outputs": [],
   "source": [
    "# Declaración de variables y tipos \n",
    "\n",
    "a = 1 # Variable de tipo entera int \n",
    "b = 2.3 # variable de como flotante \n",
    "c = True # Variable de tipo boolean\n",
    "d = False # Variable de tipo boolean\n",
    "e = \"Hola Mundo\" # Variable de tipo cadena \n",
    "f = 'Hola Negocios Digitales' # variable de tipo cadena"
   ]
  }
 ],
 "metadata": {
  "kernelspec": {
   "display_name": "Python 3",
   "language": "python",
   "name": "python3"
  },
  "language_info": {
   "codemirror_mode": {
    "name": "ipython",
    "version": 3
   },
   "file_extension": ".py",
   "mimetype": "text/x-python",
   "name": "python",
   "nbconvert_exporter": "python",
   "pygments_lexer": "ipython3",
   "version": "3.13.3"
  }
 },
 "nbformat": 4,
 "nbformat_minor": 5
}
