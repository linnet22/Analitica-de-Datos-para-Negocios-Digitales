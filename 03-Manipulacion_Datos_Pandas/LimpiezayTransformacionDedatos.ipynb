{
 "cells": [
  {
   "cell_type": "markdown",
   "id": "1f8da960",
   "metadata": {},
   "source": [
    "# Limpieza y transformación de datos "
   ]
  },
  {
   "cell_type": "code",
   "execution_count": null,
   "id": "9acf221c",
   "metadata": {},
   "outputs": [],
   "source": [
    "# importar librerias \n",
    "import pandas  as pd \n",
    "import numpy as \n"
   ]
  }
 ],
 "metadata": {
  "kernelspec": {
   "display_name": "Python 3",
   "language": "python",
   "name": "python3"
  },
  "language_info": {
   "codemirror_mode": {
    "name": "ipython",
    "version": 3
   },
   "file_extension": ".py",
   "mimetype": "text/x-python",
   "name": "python",
   "nbconvert_exporter": "python",
   "pygments_lexer": "ipython3",
   "version": "3.13.5"
  }
 },
 "nbformat": 4,
 "nbformat_minor": 5
}
