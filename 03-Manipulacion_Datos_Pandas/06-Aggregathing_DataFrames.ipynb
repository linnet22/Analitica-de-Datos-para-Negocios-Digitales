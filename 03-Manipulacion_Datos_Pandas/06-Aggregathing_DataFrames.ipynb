{
 "cells": [
  {
   "cell_type": "markdown",
   "id": "0d8b0b48",
   "metadata": {},
   "source": [
    "# Aggregathing DataFrames \n",
    " En este notebook, se calcularan estadisticas de resumen en columnas de DataFrames y dominaras las estadisticas agrupadas (pivot table )"
   ]
  },
  {
   "cell_type": "markdown",
   "id": "b9e74c1d",
   "metadata": {},
   "source": [
    "## Estadistocas de Resumen \n",
    "\n",
    "Media y Mediana \n",
    "\n",
    "Las estadisticas resumidas son exactamente lo que parecen: resumen muchos números en una sola estadistica. Por ejemplo, la media, la mediana, el minimo y la desviación tipica (Desviación estandar) son estadisticas de resumen. Calcular estadisticas de resumen te permite hacerte una mejor idea de tus datos aunque sean muchos\n",
    "**Instrucciones** \n",
    "\n",
    "- Explorar el nuevo DataFrame imprimiendo las primeras filas del Data/frame walmar_sales\n",
    "- Imprimir información sobre las columnas \n",
    "- Imprimir la media de la columna weekly_sales\n",
    "- Imprimir la mediana de la columna weekly_sales\n"
   ]
  },
  {
   "cell_type": "code",
   "execution_count": 67,
   "id": "54ec3131",
   "metadata": {},
   "outputs": [],
   "source": [
    "import pandas as pd "
   ]
  },
  {
   "cell_type": "code",
   "execution_count": 68,
   "id": "0256c2ad",
   "metadata": {},
   "outputs": [
    {
     "data": {
      "text/html": [
       "<div>\n",
       "<style scoped>\n",
       "    .dataframe tbody tr th:only-of-type {\n",
       "        vertical-align: middle;\n",
       "    }\n",
       "\n",
       "    .dataframe tbody tr th {\n",
       "        vertical-align: top;\n",
       "    }\n",
       "\n",
       "    .dataframe thead th {\n",
       "        text-align: right;\n",
       "    }\n",
       "</style>\n",
       "<table border=\"1\" class=\"dataframe\">\n",
       "  <thead>\n",
       "    <tr style=\"text-align: right;\">\n",
       "      <th></th>\n",
       "      <th>Store</th>\n",
       "      <th>Date</th>\n",
       "      <th>Weekly_Sales</th>\n",
       "      <th>Holiday_Flag</th>\n",
       "      <th>Temperature</th>\n",
       "      <th>Fuel_Price</th>\n",
       "      <th>CPI</th>\n",
       "      <th>Unemployment</th>\n",
       "    </tr>\n",
       "  </thead>\n",
       "  <tbody>\n",
       "    <tr>\n",
       "      <th>0</th>\n",
       "      <td>1</td>\n",
       "      <td>05-02-2010</td>\n",
       "      <td>1643690.90</td>\n",
       "      <td>0</td>\n",
       "      <td>42.31</td>\n",
       "      <td>2.572</td>\n",
       "      <td>211.096358</td>\n",
       "      <td>8.106</td>\n",
       "    </tr>\n",
       "    <tr>\n",
       "      <th>1</th>\n",
       "      <td>1</td>\n",
       "      <td>12-02-2010</td>\n",
       "      <td>1641957.44</td>\n",
       "      <td>1</td>\n",
       "      <td>38.51</td>\n",
       "      <td>2.548</td>\n",
       "      <td>211.242170</td>\n",
       "      <td>8.106</td>\n",
       "    </tr>\n",
       "    <tr>\n",
       "      <th>2</th>\n",
       "      <td>1</td>\n",
       "      <td>19-02-2010</td>\n",
       "      <td>1611968.17</td>\n",
       "      <td>0</td>\n",
       "      <td>39.93</td>\n",
       "      <td>2.514</td>\n",
       "      <td>211.289143</td>\n",
       "      <td>8.106</td>\n",
       "    </tr>\n",
       "    <tr>\n",
       "      <th>3</th>\n",
       "      <td>1</td>\n",
       "      <td>26-02-2010</td>\n",
       "      <td>1409727.59</td>\n",
       "      <td>0</td>\n",
       "      <td>46.63</td>\n",
       "      <td>2.561</td>\n",
       "      <td>211.319643</td>\n",
       "      <td>8.106</td>\n",
       "    </tr>\n",
       "    <tr>\n",
       "      <th>4</th>\n",
       "      <td>1</td>\n",
       "      <td>05-03-2010</td>\n",
       "      <td>1554806.68</td>\n",
       "      <td>0</td>\n",
       "      <td>46.50</td>\n",
       "      <td>2.625</td>\n",
       "      <td>211.350143</td>\n",
       "      <td>8.106</td>\n",
       "    </tr>\n",
       "  </tbody>\n",
       "</table>\n",
       "</div>"
      ],
      "text/plain": [
       "   Store        Date  Weekly_Sales  Holiday_Flag  Temperature  Fuel_Price  \\\n",
       "0      1  05-02-2010    1643690.90             0        42.31       2.572   \n",
       "1      1  12-02-2010    1641957.44             1        38.51       2.548   \n",
       "2      1  19-02-2010    1611968.17             0        39.93       2.514   \n",
       "3      1  26-02-2010    1409727.59             0        46.63       2.561   \n",
       "4      1  05-03-2010    1554806.68             0        46.50       2.625   \n",
       "\n",
       "          CPI  Unemployment  \n",
       "0  211.096358         8.106  \n",
       "1  211.242170         8.106  \n",
       "2  211.289143         8.106  \n",
       "3  211.319643         8.106  \n",
       "4  211.350143         8.106  "
      ]
     },
     "execution_count": 68,
     "metadata": {},
     "output_type": "execute_result"
    }
   ],
   "source": [
    "sales = pd.read_csv(\"./dataSets/walmart_sales.csv\")\n",
    "sales.head()"
   ]
  },
  {
   "cell_type": "code",
   "execution_count": 69,
   "id": "07c01d60",
   "metadata": {},
   "outputs": [
    {
     "data": {
      "text/plain": [
       "(6435, 8)"
      ]
     },
     "execution_count": 69,
     "metadata": {},
     "output_type": "execute_result"
    }
   ],
   "source": [
    "sales.shape\n"
   ]
  },
  {
   "cell_type": "code",
   "execution_count": 70,
   "id": "3a206c2b",
   "metadata": {},
   "outputs": [
    {
     "name": "stdout",
     "output_type": "stream",
     "text": [
      "<class 'pandas.core.frame.DataFrame'>\n",
      "RangeIndex: 6435 entries, 0 to 6434\n",
      "Data columns (total 8 columns):\n",
      " #   Column        Non-Null Count  Dtype  \n",
      "---  ------        --------------  -----  \n",
      " 0   Store         6435 non-null   int64  \n",
      " 1   Date          6435 non-null   object \n",
      " 2   Weekly_Sales  6435 non-null   float64\n",
      " 3   Holiday_Flag  6435 non-null   int64  \n",
      " 4   Temperature   6435 non-null   float64\n",
      " 5   Fuel_Price    6435 non-null   float64\n",
      " 6   CPI           6435 non-null   float64\n",
      " 7   Unemployment  6435 non-null   float64\n",
      "dtypes: float64(5), int64(2), object(1)\n",
      "memory usage: 402.3+ KB\n"
     ]
    }
   ],
   "source": [
    "sales.info()"
   ]
  },
  {
   "cell_type": "code",
   "execution_count": 71,
   "id": "cba4df0f",
   "metadata": {},
   "outputs": [
    {
     "data": {
      "text/html": [
       "<div>\n",
       "<style scoped>\n",
       "    .dataframe tbody tr th:only-of-type {\n",
       "        vertical-align: middle;\n",
       "    }\n",
       "\n",
       "    .dataframe tbody tr th {\n",
       "        vertical-align: top;\n",
       "    }\n",
       "\n",
       "    .dataframe thead th {\n",
       "        text-align: right;\n",
       "    }\n",
       "</style>\n",
       "<table border=\"1\" class=\"dataframe\">\n",
       "  <thead>\n",
       "    <tr style=\"text-align: right;\">\n",
       "      <th></th>\n",
       "      <th>Store</th>\n",
       "      <th>Weekly_Sales</th>\n",
       "      <th>Holiday_Flag</th>\n",
       "      <th>Temperature</th>\n",
       "      <th>Fuel_Price</th>\n",
       "      <th>CPI</th>\n",
       "      <th>Unemployment</th>\n",
       "    </tr>\n",
       "  </thead>\n",
       "  <tbody>\n",
       "    <tr>\n",
       "      <th>count</th>\n",
       "      <td>6435.000000</td>\n",
       "      <td>6.435000e+03</td>\n",
       "      <td>6435.000000</td>\n",
       "      <td>6435.000000</td>\n",
       "      <td>6435.000000</td>\n",
       "      <td>6435.000000</td>\n",
       "      <td>6435.000000</td>\n",
       "    </tr>\n",
       "    <tr>\n",
       "      <th>mean</th>\n",
       "      <td>23.000000</td>\n",
       "      <td>1.046965e+06</td>\n",
       "      <td>0.069930</td>\n",
       "      <td>60.663782</td>\n",
       "      <td>3.358607</td>\n",
       "      <td>171.578394</td>\n",
       "      <td>7.999151</td>\n",
       "    </tr>\n",
       "    <tr>\n",
       "      <th>std</th>\n",
       "      <td>12.988182</td>\n",
       "      <td>5.643666e+05</td>\n",
       "      <td>0.255049</td>\n",
       "      <td>18.444933</td>\n",
       "      <td>0.459020</td>\n",
       "      <td>39.356712</td>\n",
       "      <td>1.875885</td>\n",
       "    </tr>\n",
       "    <tr>\n",
       "      <th>min</th>\n",
       "      <td>1.000000</td>\n",
       "      <td>2.099862e+05</td>\n",
       "      <td>0.000000</td>\n",
       "      <td>-2.060000</td>\n",
       "      <td>2.472000</td>\n",
       "      <td>126.064000</td>\n",
       "      <td>3.879000</td>\n",
       "    </tr>\n",
       "    <tr>\n",
       "      <th>25%</th>\n",
       "      <td>12.000000</td>\n",
       "      <td>5.533501e+05</td>\n",
       "      <td>0.000000</td>\n",
       "      <td>47.460000</td>\n",
       "      <td>2.933000</td>\n",
       "      <td>131.735000</td>\n",
       "      <td>6.891000</td>\n",
       "    </tr>\n",
       "    <tr>\n",
       "      <th>50%</th>\n",
       "      <td>23.000000</td>\n",
       "      <td>9.607460e+05</td>\n",
       "      <td>0.000000</td>\n",
       "      <td>62.670000</td>\n",
       "      <td>3.445000</td>\n",
       "      <td>182.616521</td>\n",
       "      <td>7.874000</td>\n",
       "    </tr>\n",
       "    <tr>\n",
       "      <th>75%</th>\n",
       "      <td>34.000000</td>\n",
       "      <td>1.420159e+06</td>\n",
       "      <td>0.000000</td>\n",
       "      <td>74.940000</td>\n",
       "      <td>3.735000</td>\n",
       "      <td>212.743293</td>\n",
       "      <td>8.622000</td>\n",
       "    </tr>\n",
       "    <tr>\n",
       "      <th>max</th>\n",
       "      <td>45.000000</td>\n",
       "      <td>3.818686e+06</td>\n",
       "      <td>1.000000</td>\n",
       "      <td>100.140000</td>\n",
       "      <td>4.468000</td>\n",
       "      <td>227.232807</td>\n",
       "      <td>14.313000</td>\n",
       "    </tr>\n",
       "  </tbody>\n",
       "</table>\n",
       "</div>"
      ],
      "text/plain": [
       "             Store  Weekly_Sales  Holiday_Flag  Temperature   Fuel_Price  \\\n",
       "count  6435.000000  6.435000e+03   6435.000000  6435.000000  6435.000000   \n",
       "mean     23.000000  1.046965e+06      0.069930    60.663782     3.358607   \n",
       "std      12.988182  5.643666e+05      0.255049    18.444933     0.459020   \n",
       "min       1.000000  2.099862e+05      0.000000    -2.060000     2.472000   \n",
       "25%      12.000000  5.533501e+05      0.000000    47.460000     2.933000   \n",
       "50%      23.000000  9.607460e+05      0.000000    62.670000     3.445000   \n",
       "75%      34.000000  1.420159e+06      0.000000    74.940000     3.735000   \n",
       "max      45.000000  3.818686e+06      1.000000   100.140000     4.468000   \n",
       "\n",
       "               CPI  Unemployment  \n",
       "count  6435.000000   6435.000000  \n",
       "mean    171.578394      7.999151  \n",
       "std      39.356712      1.875885  \n",
       "min     126.064000      3.879000  \n",
       "25%     131.735000      6.891000  \n",
       "50%     182.616521      7.874000  \n",
       "75%     212.743293      8.622000  \n",
       "max     227.232807     14.313000  "
      ]
     },
     "execution_count": 71,
     "metadata": {},
     "output_type": "execute_result"
    }
   ],
   "source": [
    "sales.describe()"
   ]
  },
  {
   "cell_type": "code",
   "execution_count": 72,
   "id": "1ddf06cb",
   "metadata": {},
   "outputs": [
    {
     "data": {
      "text/plain": [
       "np.float64(1046964.88)"
      ]
     },
     "execution_count": 72,
     "metadata": {},
     "output_type": "execute_result"
    }
   ],
   "source": [
    "# Media de la columna weekly_sales\n",
    "round(sales['Weekly_Sales'].mean(),2)"
   ]
  },
  {
   "cell_type": "code",
   "execution_count": 73,
   "id": "04c9910b",
   "metadata": {},
   "outputs": [
    {
     "data": {
      "text/plain": [
       "np.float64(960746.04)"
      ]
     },
     "execution_count": 73,
     "metadata": {},
     "output_type": "execute_result"
    }
   ],
   "source": [
    "# Mediana de la columna weekly_sales\n",
    "sales['Weekly_Sales'].median()"
   ]
  },
  {
   "cell_type": "markdown",
   "id": "d6390b50",
   "metadata": {},
   "source": [
    "## Resumir Fechas \n",
    "Las estadisticas sumarias tambien pueden calcularse sobre columas de fecha que tengan valores con el tipo de dato datetime64. Algunas estadisticas de resumen como la media no tienen mucho sentido en la fecha, pero otras son extremadamente jutiles como, por ejemplo el minimo y el maximo que te permiten ver el intervalo que abarca tus datos \n",
    "\n",
    "**Instrucciones**\n",
    "\n",
    "- Imprimir el maximo de la columna date\n",
    "- Imprimir el minimo de la columna date\n"
   ]
  },
  {
   "cell_type": "code",
   "execution_count": 74,
   "id": "8167e87a",
   "metadata": {},
   "outputs": [],
   "source": [
    "sales[\"Date2\"] = sales[\"Date\"].astype(\"datetime64[ns]\")"
   ]
  },
  {
   "cell_type": "code",
   "execution_count": 75,
   "id": "595f4dec",
   "metadata": {},
   "outputs": [
    {
     "data": {
      "text/plain": [
       "'31-12-2010'"
      ]
     },
     "execution_count": 75,
     "metadata": {},
     "output_type": "execute_result"
    }
   ],
   "source": [
    "# - Imprimir el maximo de la columna date\n",
    "sales['Date'].max()\n",
    "\n"
   ]
  },
  {
   "cell_type": "code",
   "execution_count": 76,
   "id": "e00599f3",
   "metadata": {},
   "outputs": [
    {
     "data": {
      "text/plain": [
       "'01-04-2011'"
      ]
     },
     "execution_count": 76,
     "metadata": {},
     "output_type": "execute_result"
    }
   ],
   "source": [
    "# - Imprimir el minimo de la columna date\n",
    "sales['Date'].min()"
   ]
  },
  {
   "cell_type": "markdown",
   "id": "54db7245",
   "metadata": {},
   "source": []
  },
  {
   "cell_type": "markdown",
   "id": "008fedbd",
   "metadata": {},
   "source": [
    "# Función Agg\n",
    "\n",
    "Aunque pandas numpy tiene muchas funciones aveces puedes nececitar una duncion diferente para resumir los datos \n",
    "\n",
    "El metodo .agg() Permite aplicar tus propias funciones personalizadas a un DataFrame, asi como aplicar funciones a mas de una columna de un DataFRame a la vez, haciendo que tus agregaciones sean muy eficientes. \n",
    "`df['column'].agg(funcion)`\n",
    "\n",
    "En la función personalizada para este ejercicio \"IQR\" es la abreviatura del rango intercuantilico, que es el percentil 75 menos del percentil 25.\n",
    "Es una alternativa a la desviación tipica  (estandar) que resulta util si tus datos contienen valores atípicos.\n",
    "\n",
    "**Instrucciones**\n",
    "1. Utiliza la funcion personalizada iqr definida por ti junto con el metodo.\n",
    "agg() para imprimir IQR de la columna temperature_c de las sales\n",
    "2. Actualiza la seleccion de columnas para utilizar la función personalizada iqr con .agg() para imprimir los iqr de las columnas temperature, fuel_price, unemployment, en orden.\n",
    "3. Actualiza las llamadad la funcion agg, para obtener el rango iqr y la media "
   ]
  },
  {
   "cell_type": "code",
   "execution_count": 77,
   "id": "b267e396",
   "metadata": {},
   "outputs": [],
   "source": [
    "import numpy as np\n",
    "def iqr (columna):\n",
    "    return columna.quantile(0.75) - columna.quantile(0.25)\n",
    "\n",
    "\n"
   ]
  },
  {
   "cell_type": "code",
   "execution_count": 78,
   "id": "442175db",
   "metadata": {},
   "outputs": [
    {
     "name": "stdout",
     "output_type": "stream",
     "text": [
      "IQR de la columna temperature: 27.479999999999997\n"
     ]
    }
   ],
   "source": [
    "# Imprimir IQR de la columna temperature \n",
    "print(\"IQR de la columna temperature:\", iqr(sales[\"Temperature\"]))"
   ]
  },
  {
   "cell_type": "code",
   "execution_count": 79,
   "id": "0968e764",
   "metadata": {},
   "outputs": [
    {
     "name": "stdout",
     "output_type": "stream",
     "text": [
      "El IQR de Temperature 0       42.31\n",
      "1       38.51\n",
      "2       39.93\n",
      "3       46.63\n",
      "4       46.50\n",
      "        ...  \n",
      "6430    64.88\n",
      "6431    64.89\n",
      "6432    54.47\n",
      "6433    56.47\n",
      "6434    58.85\n",
      "Name: Temperature, Length: 6435, dtype: float64\n"
     ]
    }
   ],
   "source": [
    "# imprimir iqr de la columna temperature \n",
    "print(f'El IQR de Temperature {sales['Temperature']}')"
   ]
  },
  {
   "cell_type": "code",
   "execution_count": 80,
   "id": "61187708",
   "metadata": {},
   "outputs": [
    {
     "name": "stdout",
     "output_type": "stream",
     "text": [
      "Temperature     27.480\n",
      "Fuel_Price       0.802\n",
      "Unemployment     1.731\n",
      "dtype: float64\n"
     ]
    }
   ],
   "source": [
    "# Actualizar la impresion del iqr de temperature , fuel_price, unemployment, en orden.\n",
    "\n",
    "print(sales[['Temperature', 'Fuel_Price', 'Unemployment']].agg(iqr))"
   ]
  },
  {
   "cell_type": "code",
   "execution_count": 81,
   "id": "ab2c893c",
   "metadata": {},
   "outputs": [
    {
     "name": "stdout",
     "output_type": "stream",
     "text": [
      "        Temperature  Fuel_Price  Unemployment\n",
      "iqr           27.48       0.802         1.731\n",
      "median        62.67       3.445         7.874\n"
     ]
    }
   ],
   "source": [
    "#. Actualiza las llamadad la funcion agg, para obtener el rango iqr y la media \n",
    "print(sales[['Temperature', 'Fuel_Price', 'Unemployment']].agg([iqr, 'median']))"
   ]
  },
  {
   "cell_type": "code",
   "execution_count": 82,
   "id": "7b9b81d3",
   "metadata": {},
   "outputs": [
    {
     "name": "stdout",
     "output_type": "stream",
     "text": [
      "        Temperature  Fuel_Price  Unemployment\n",
      "iqr       27.480000    0.802000      1.731000\n",
      "median    62.670000    3.445000      7.874000\n",
      "mean      60.663782    3.358607      7.999151\n",
      "max      100.140000    4.468000     14.313000\n",
      "min       -2.060000    2.472000      3.879000\n"
     ]
    }
   ],
   "source": [
    "print(sales[['Temperature', 'Fuel_Price', 'Unemployment']].agg([iqr, 'median','mean', 'max', 'min']))"
   ]
  },
  {
   "cell_type": "code",
   "execution_count": 83,
   "id": "8281ef31",
   "metadata": {},
   "outputs": [],
   "source": [
    "def convertirACentigrados(Farenheit):\n",
    "    return (Farenheit - 32) / 1.8\n",
    "    "
   ]
  },
  {
   "cell_type": "code",
   "execution_count": 84,
   "id": "d48e2a4c",
   "metadata": {},
   "outputs": [],
   "source": [
    "temp_min = sales['Temperature'].min()\n",
    "temp_max = sales['Temperature'].max()"
   ]
  },
  {
   "cell_type": "code",
   "execution_count": 85,
   "id": "a9560aba",
   "metadata": {},
   "outputs": [
    {
     "name": "stdout",
     "output_type": "stream",
     "text": [
      "La tempertura -2.06 en Centigrados es -18.922222222222224\n",
      "La tempertura 100.14 en Centigrados es 37.855555555555554\n"
     ]
    }
   ],
   "source": [
    "print(f'La tempertura {temp_min} en Centigrados es {convertirACentigrados(temp_min)}')\n",
    "print(f'La tempertura {temp_max} en Centigrados es {convertirACentigrados(temp_max)}')"
   ]
  },
  {
   "cell_type": "code",
   "execution_count": 86,
   "id": "ecfeb7f1",
   "metadata": {},
   "outputs": [
    {
     "name": "stderr",
     "output_type": "stream",
     "text": [
      "C:\\Users\\linnr\\AppData\\Local\\Temp\\ipykernel_4324\\301622382.py:1: FutureWarning: using <function convertirACentigrados at 0x0000023A84DE05E0> in Series.agg cannot aggregate and has been deprecated. Use Series.transform to keep behavior unchanged.\n",
      "  sales['Temperature_Celsious'] = convertirACentigrados(sales['Temperature']).agg(convertirACentigrados)\n"
     ]
    }
   ],
   "source": [
    "sales['Temperature_Celsious'] = convertirACentigrados(sales['Temperature']).agg(convertirACentigrados)"
   ]
  },
  {
   "cell_type": "code",
   "execution_count": 87,
   "id": "98754e0c",
   "metadata": {},
   "outputs": [
    {
     "data": {
      "text/html": [
       "<div>\n",
       "<style scoped>\n",
       "    .dataframe tbody tr th:only-of-type {\n",
       "        vertical-align: middle;\n",
       "    }\n",
       "\n",
       "    .dataframe tbody tr th {\n",
       "        vertical-align: top;\n",
       "    }\n",
       "\n",
       "    .dataframe thead th {\n",
       "        text-align: right;\n",
       "    }\n",
       "</style>\n",
       "<table border=\"1\" class=\"dataframe\">\n",
       "  <thead>\n",
       "    <tr style=\"text-align: right;\">\n",
       "      <th></th>\n",
       "      <th>Temperature</th>\n",
       "      <th>Temperature_Celsious</th>\n",
       "    </tr>\n",
       "  </thead>\n",
       "  <tbody>\n",
       "    <tr>\n",
       "      <th>0</th>\n",
       "      <td>42.31</td>\n",
       "      <td>-14.595679</td>\n",
       "    </tr>\n",
       "    <tr>\n",
       "      <th>1</th>\n",
       "      <td>38.51</td>\n",
       "      <td>-15.768519</td>\n",
       "    </tr>\n",
       "    <tr>\n",
       "      <th>2</th>\n",
       "      <td>39.93</td>\n",
       "      <td>-15.330247</td>\n",
       "    </tr>\n",
       "    <tr>\n",
       "      <th>3</th>\n",
       "      <td>46.63</td>\n",
       "      <td>-13.262346</td>\n",
       "    </tr>\n",
       "    <tr>\n",
       "      <th>4</th>\n",
       "      <td>46.50</td>\n",
       "      <td>-13.302469</td>\n",
       "    </tr>\n",
       "    <tr>\n",
       "      <th>...</th>\n",
       "      <td>...</td>\n",
       "      <td>...</td>\n",
       "    </tr>\n",
       "    <tr>\n",
       "      <th>6430</th>\n",
       "      <td>64.88</td>\n",
       "      <td>-7.629630</td>\n",
       "    </tr>\n",
       "    <tr>\n",
       "      <th>6431</th>\n",
       "      <td>64.89</td>\n",
       "      <td>-7.626543</td>\n",
       "    </tr>\n",
       "    <tr>\n",
       "      <th>6432</th>\n",
       "      <td>54.47</td>\n",
       "      <td>-10.842593</td>\n",
       "    </tr>\n",
       "    <tr>\n",
       "      <th>6433</th>\n",
       "      <td>56.47</td>\n",
       "      <td>-10.225309</td>\n",
       "    </tr>\n",
       "    <tr>\n",
       "      <th>6434</th>\n",
       "      <td>58.85</td>\n",
       "      <td>-9.490741</td>\n",
       "    </tr>\n",
       "  </tbody>\n",
       "</table>\n",
       "<p>6435 rows × 2 columns</p>\n",
       "</div>"
      ],
      "text/plain": [
       "      Temperature  Temperature_Celsious\n",
       "0           42.31            -14.595679\n",
       "1           38.51            -15.768519\n",
       "2           39.93            -15.330247\n",
       "3           46.63            -13.262346\n",
       "4           46.50            -13.302469\n",
       "...           ...                   ...\n",
       "6430        64.88             -7.629630\n",
       "6431        64.89             -7.626543\n",
       "6432        54.47            -10.842593\n",
       "6433        56.47            -10.225309\n",
       "6434        58.85             -9.490741\n",
       "\n",
       "[6435 rows x 2 columns]"
      ]
     },
     "execution_count": 87,
     "metadata": {},
     "output_type": "execute_result"
    }
   ],
   "source": [
    "sales[['Temperature', 'Temperature_Celsious']] "
   ]
  },
  {
   "cell_type": "code",
   "execution_count": 88,
   "id": "cd943c32",
   "metadata": {},
   "outputs": [
    {
     "name": "stdout",
     "output_type": "stream",
     "text": [
      "74.94\n",
      "47.46\n",
      "27.479999999999997\n",
      "mean     60.663782\n",
      "std      18.444933\n",
      "max     100.140000\n",
      "min      -2.060000\n",
      "Name: Temperature, dtype: float64\n"
     ]
    }
   ],
   "source": [
    "# Funcion persolalizada que calcula el IQR\n",
    "def iqr(column):\n",
    "    return column.quantile(0.75) - column.quantile(0.25)\n",
    "\n",
    "# Imprimir el IQR de la columna Temperature \n",
    "print(sales['Temperature'].quantile(0.75))\n",
    "print(sales['Temperature'].quantile(0.25))\n",
    "print(sales['Temperature'].agg(iqr))\n",
    "print(sales['Temperature'].agg(['mean', 'std', 'max', 'min']))\n"
   ]
  },
  {
   "cell_type": "markdown",
   "id": "06319d71",
   "metadata": {},
   "source": [
    "## Estadísticas acumuladas\n",
    "\n",
    "Las estadísticas acumulativas también pueden ser útiles para hacer un seguimiento de las estadísticas resumidas a lo largo del tiempo. En este ejercicio, calcularás la suma acumulada y el máximo acumulado de las ventas semanales de un departamento, lo que te permitirá identificar cuáles han sido las ventas totales hasta el momento, así como cuáles han sido las ventas semanales más elevadas hasta el momento.\n",
    "\n",
    "**Instrucciones**\n",
    "\n",
    "- Ordena las filas de sales_1_1 por la columna date en orden ascendente.\n",
    "- Obtén la suma acumulada de weekly_sales y añádelo como una nueva columna de sales_1_1 llamada cum_weekly_sales.\n",
    "- Obtén el máximo acumulado de weekly_sales, y añádelo como una columna llamada cum_max_sales.\n",
    "- Imprime las columnas date, weekly_sales, cum_weekly_sales, y cum_max_sales."
   ]
  },
  {
   "cell_type": "code",
   "execution_count": 89,
   "id": "dc96589e",
   "metadata": {},
   "outputs": [],
   "source": [
    "sales_1_1 = sales[sales['Store'] == 1]\n",
    "\n",
    "# Ordenar sales_1_1 por fecha \n",
    "sales_1_1 = sales_1_1.sort_values('Date')\n",
    "\n",
    "# Obtener la suma acumulatuiva de el weekly_sales y agregarla como una nueva columna llamada cum_weekly_sales\n",
    "sales_1_1['cum_weekly_sales'] = sales_1_1['Weekly_Sales'].cumsum()\n"
   ]
  },
  {
   "cell_type": "code",
   "execution_count": 90,
   "id": "4a57011f",
   "metadata": {},
   "outputs": [
    {
     "data": {
      "text/html": [
       "<div>\n",
       "<style scoped>\n",
       "    .dataframe tbody tr th:only-of-type {\n",
       "        vertical-align: middle;\n",
       "    }\n",
       "\n",
       "    .dataframe tbody tr th {\n",
       "        vertical-align: top;\n",
       "    }\n",
       "\n",
       "    .dataframe thead th {\n",
       "        text-align: right;\n",
       "    }\n",
       "</style>\n",
       "<table border=\"1\" class=\"dataframe\">\n",
       "  <thead>\n",
       "    <tr style=\"text-align: right;\">\n",
       "      <th></th>\n",
       "      <th>Weekly_Sales</th>\n",
       "      <th>cum_weekly_sales</th>\n",
       "    </tr>\n",
       "  </thead>\n",
       "  <tbody>\n",
       "    <tr>\n",
       "      <th>60</th>\n",
       "      <td>1495064.75</td>\n",
       "      <td>1.495065e+06</td>\n",
       "    </tr>\n",
       "    <tr>\n",
       "      <th>121</th>\n",
       "      <td>1624477.58</td>\n",
       "      <td>3.119542e+06</td>\n",
       "    </tr>\n",
       "    <tr>\n",
       "      <th>73</th>\n",
       "      <td>1488538.09</td>\n",
       "      <td>4.608080e+06</td>\n",
       "    </tr>\n",
       "    <tr>\n",
       "      <th>34</th>\n",
       "      <td>1453329.50</td>\n",
       "      <td>6.061410e+06</td>\n",
       "    </tr>\n",
       "    <tr>\n",
       "      <th>108</th>\n",
       "      <td>1688420.76</td>\n",
       "      <td>7.749831e+06</td>\n",
       "    </tr>\n",
       "    <tr>\n",
       "      <th>...</th>\n",
       "      <td>...</td>\n",
       "      <td>...</td>\n",
       "    </tr>\n",
       "    <tr>\n",
       "      <th>25</th>\n",
       "      <td>1371986.60</td>\n",
       "      <td>2.165614e+08</td>\n",
       "    </tr>\n",
       "    <tr>\n",
       "      <th>86</th>\n",
       "      <td>1394561.83</td>\n",
       "      <td>2.179559e+08</td>\n",
       "    </tr>\n",
       "    <tr>\n",
       "      <th>99</th>\n",
       "      <td>1497462.72</td>\n",
       "      <td>2.194534e+08</td>\n",
       "    </tr>\n",
       "    <tr>\n",
       "      <th>134</th>\n",
       "      <td>1582083.40</td>\n",
       "      <td>2.210355e+08</td>\n",
       "    </tr>\n",
       "    <tr>\n",
       "      <th>47</th>\n",
       "      <td>1367320.01</td>\n",
       "      <td>2.224028e+08</td>\n",
       "    </tr>\n",
       "  </tbody>\n",
       "</table>\n",
       "<p>143 rows × 2 columns</p>\n",
       "</div>"
      ],
      "text/plain": [
       "     Weekly_Sales  cum_weekly_sales\n",
       "60     1495064.75      1.495065e+06\n",
       "121    1624477.58      3.119542e+06\n",
       "73     1488538.09      4.608080e+06\n",
       "34     1453329.50      6.061410e+06\n",
       "108    1688420.76      7.749831e+06\n",
       "..            ...               ...\n",
       "25     1371986.60      2.165614e+08\n",
       "86     1394561.83      2.179559e+08\n",
       "99     1497462.72      2.194534e+08\n",
       "134    1582083.40      2.210355e+08\n",
       "47     1367320.01      2.224028e+08\n",
       "\n",
       "[143 rows x 2 columns]"
      ]
     },
     "execution_count": 90,
     "metadata": {},
     "output_type": "execute_result"
    }
   ],
   "source": [
    "sales_1_1[['Weekly_Sales', 'cum_weekly_sales']]"
   ]
  },
  {
   "cell_type": "code",
   "execution_count": 91,
   "id": "518ec85c",
   "metadata": {},
   "outputs": [
    {
     "data": {
      "text/html": [
       "<div>\n",
       "<style scoped>\n",
       "    .dataframe tbody tr th:only-of-type {\n",
       "        vertical-align: middle;\n",
       "    }\n",
       "\n",
       "    .dataframe tbody tr th {\n",
       "        vertical-align: top;\n",
       "    }\n",
       "\n",
       "    .dataframe thead th {\n",
       "        text-align: right;\n",
       "    }\n",
       "</style>\n",
       "<table border=\"1\" class=\"dataframe\">\n",
       "  <thead>\n",
       "    <tr style=\"text-align: right;\">\n",
       "      <th></th>\n",
       "      <th>Store</th>\n",
       "      <th>Date</th>\n",
       "      <th>Weekly_Sales</th>\n",
       "      <th>Holiday_Flag</th>\n",
       "      <th>Temperature</th>\n",
       "      <th>Fuel_Price</th>\n",
       "      <th>CPI</th>\n",
       "      <th>Unemployment</th>\n",
       "      <th>Date2</th>\n",
       "      <th>Temperature_Celsious</th>\n",
       "      <th>cum_weekly_sales</th>\n",
       "    </tr>\n",
       "  </thead>\n",
       "  <tbody>\n",
       "    <tr>\n",
       "      <th>60</th>\n",
       "      <td>1</td>\n",
       "      <td>01-04-2011</td>\n",
       "      <td>1495064.75</td>\n",
       "      <td>0</td>\n",
       "      <td>59.17</td>\n",
       "      <td>3.524</td>\n",
       "      <td>214.837166</td>\n",
       "      <td>7.682</td>\n",
       "      <td>2011-01-04</td>\n",
       "      <td>-9.391975</td>\n",
       "      <td>1495064.75</td>\n",
       "    </tr>\n",
       "    <tr>\n",
       "      <th>121</th>\n",
       "      <td>1</td>\n",
       "      <td>01-06-2012</td>\n",
       "      <td>1624477.58</td>\n",
       "      <td>0</td>\n",
       "      <td>77.95</td>\n",
       "      <td>3.501</td>\n",
       "      <td>221.747214</td>\n",
       "      <td>7.143</td>\n",
       "      <td>2012-01-06</td>\n",
       "      <td>-3.595679</td>\n",
       "      <td>3119542.33</td>\n",
       "    </tr>\n",
       "    <tr>\n",
       "      <th>73</th>\n",
       "      <td>1</td>\n",
       "      <td>01-07-2011</td>\n",
       "      <td>1488538.09</td>\n",
       "      <td>0</td>\n",
       "      <td>85.55</td>\n",
       "      <td>3.524</td>\n",
       "      <td>215.184137</td>\n",
       "      <td>7.962</td>\n",
       "      <td>2011-01-07</td>\n",
       "      <td>-1.250000</td>\n",
       "      <td>4608080.42</td>\n",
       "    </tr>\n",
       "    <tr>\n",
       "      <th>34</th>\n",
       "      <td>1</td>\n",
       "      <td>01-10-2010</td>\n",
       "      <td>1453329.50</td>\n",
       "      <td>0</td>\n",
       "      <td>71.89</td>\n",
       "      <td>2.603</td>\n",
       "      <td>211.671989</td>\n",
       "      <td>7.838</td>\n",
       "      <td>2010-01-10</td>\n",
       "      <td>-5.466049</td>\n",
       "      <td>6061409.92</td>\n",
       "    </tr>\n",
       "    <tr>\n",
       "      <th>108</th>\n",
       "      <td>1</td>\n",
       "      <td>02-03-2012</td>\n",
       "      <td>1688420.76</td>\n",
       "      <td>0</td>\n",
       "      <td>60.96</td>\n",
       "      <td>3.630</td>\n",
       "      <td>220.848045</td>\n",
       "      <td>7.348</td>\n",
       "      <td>2012-02-03</td>\n",
       "      <td>-8.839506</td>\n",
       "      <td>7749830.68</td>\n",
       "    </tr>\n",
       "  </tbody>\n",
       "</table>\n",
       "</div>"
      ],
      "text/plain": [
       "     Store        Date  Weekly_Sales  Holiday_Flag  Temperature  Fuel_Price  \\\n",
       "60       1  01-04-2011    1495064.75             0        59.17       3.524   \n",
       "121      1  01-06-2012    1624477.58             0        77.95       3.501   \n",
       "73       1  01-07-2011    1488538.09             0        85.55       3.524   \n",
       "34       1  01-10-2010    1453329.50             0        71.89       2.603   \n",
       "108      1  02-03-2012    1688420.76             0        60.96       3.630   \n",
       "\n",
       "            CPI  Unemployment      Date2  Temperature_Celsious  \\\n",
       "60   214.837166         7.682 2011-01-04             -9.391975   \n",
       "121  221.747214         7.143 2012-01-06             -3.595679   \n",
       "73   215.184137         7.962 2011-01-07             -1.250000   \n",
       "34   211.671989         7.838 2010-01-10             -5.466049   \n",
       "108  220.848045         7.348 2012-02-03             -8.839506   \n",
       "\n",
       "     cum_weekly_sales  \n",
       "60         1495064.75  \n",
       "121        3119542.33  \n",
       "73         4608080.42  \n",
       "34         6061409.92  \n",
       "108        7749830.68  "
      ]
     },
     "execution_count": 91,
     "metadata": {},
     "output_type": "execute_result"
    }
   ],
   "source": [
    "sales_1_1.head()"
   ]
  },
  {
   "cell_type": "code",
   "execution_count": 92,
   "id": "bea8c08f",
   "metadata": {},
   "outputs": [
    {
     "data": {
      "text/html": [
       "<div>\n",
       "<style scoped>\n",
       "    .dataframe tbody tr th:only-of-type {\n",
       "        vertical-align: middle;\n",
       "    }\n",
       "\n",
       "    .dataframe tbody tr th {\n",
       "        vertical-align: top;\n",
       "    }\n",
       "\n",
       "    .dataframe thead th {\n",
       "        text-align: right;\n",
       "    }\n",
       "</style>\n",
       "<table border=\"1\" class=\"dataframe\">\n",
       "  <thead>\n",
       "    <tr style=\"text-align: right;\">\n",
       "      <th></th>\n",
       "      <th>Store</th>\n",
       "      <th>Date</th>\n",
       "      <th>Weekly_Sales</th>\n",
       "      <th>Holiday_Flag</th>\n",
       "      <th>Temperature</th>\n",
       "      <th>Fuel_Price</th>\n",
       "      <th>CPI</th>\n",
       "      <th>Unemployment</th>\n",
       "      <th>Date2</th>\n",
       "      <th>Temperature_Celsious</th>\n",
       "      <th>cum_weekly_sales</th>\n",
       "      <th>cum_max_sales</th>\n",
       "    </tr>\n",
       "  </thead>\n",
       "  <tbody>\n",
       "    <tr>\n",
       "      <th>60</th>\n",
       "      <td>1</td>\n",
       "      <td>01-04-2011</td>\n",
       "      <td>1495064.75</td>\n",
       "      <td>0</td>\n",
       "      <td>59.17</td>\n",
       "      <td>3.524</td>\n",
       "      <td>214.837166</td>\n",
       "      <td>7.682</td>\n",
       "      <td>2011-01-04</td>\n",
       "      <td>-9.391975</td>\n",
       "      <td>1495064.75</td>\n",
       "      <td>1495064.75</td>\n",
       "    </tr>\n",
       "    <tr>\n",
       "      <th>121</th>\n",
       "      <td>1</td>\n",
       "      <td>01-06-2012</td>\n",
       "      <td>1624477.58</td>\n",
       "      <td>0</td>\n",
       "      <td>77.95</td>\n",
       "      <td>3.501</td>\n",
       "      <td>221.747214</td>\n",
       "      <td>7.143</td>\n",
       "      <td>2012-01-06</td>\n",
       "      <td>-3.595679</td>\n",
       "      <td>3119542.33</td>\n",
       "      <td>1624477.58</td>\n",
       "    </tr>\n",
       "    <tr>\n",
       "      <th>73</th>\n",
       "      <td>1</td>\n",
       "      <td>01-07-2011</td>\n",
       "      <td>1488538.09</td>\n",
       "      <td>0</td>\n",
       "      <td>85.55</td>\n",
       "      <td>3.524</td>\n",
       "      <td>215.184137</td>\n",
       "      <td>7.962</td>\n",
       "      <td>2011-01-07</td>\n",
       "      <td>-1.250000</td>\n",
       "      <td>4608080.42</td>\n",
       "      <td>1624477.58</td>\n",
       "    </tr>\n",
       "    <tr>\n",
       "      <th>34</th>\n",
       "      <td>1</td>\n",
       "      <td>01-10-2010</td>\n",
       "      <td>1453329.50</td>\n",
       "      <td>0</td>\n",
       "      <td>71.89</td>\n",
       "      <td>2.603</td>\n",
       "      <td>211.671989</td>\n",
       "      <td>7.838</td>\n",
       "      <td>2010-01-10</td>\n",
       "      <td>-5.466049</td>\n",
       "      <td>6061409.92</td>\n",
       "      <td>1624477.58</td>\n",
       "    </tr>\n",
       "    <tr>\n",
       "      <th>108</th>\n",
       "      <td>1</td>\n",
       "      <td>02-03-2012</td>\n",
       "      <td>1688420.76</td>\n",
       "      <td>0</td>\n",
       "      <td>60.96</td>\n",
       "      <td>3.630</td>\n",
       "      <td>220.848045</td>\n",
       "      <td>7.348</td>\n",
       "      <td>2012-02-03</td>\n",
       "      <td>-8.839506</td>\n",
       "      <td>7749830.68</td>\n",
       "      <td>1688420.76</td>\n",
       "    </tr>\n",
       "  </tbody>\n",
       "</table>\n",
       "</div>"
      ],
      "text/plain": [
       "     Store        Date  Weekly_Sales  Holiday_Flag  Temperature  Fuel_Price  \\\n",
       "60       1  01-04-2011    1495064.75             0        59.17       3.524   \n",
       "121      1  01-06-2012    1624477.58             0        77.95       3.501   \n",
       "73       1  01-07-2011    1488538.09             0        85.55       3.524   \n",
       "34       1  01-10-2010    1453329.50             0        71.89       2.603   \n",
       "108      1  02-03-2012    1688420.76             0        60.96       3.630   \n",
       "\n",
       "            CPI  Unemployment      Date2  Temperature_Celsious  \\\n",
       "60   214.837166         7.682 2011-01-04             -9.391975   \n",
       "121  221.747214         7.143 2012-01-06             -3.595679   \n",
       "73   215.184137         7.962 2011-01-07             -1.250000   \n",
       "34   211.671989         7.838 2010-01-10             -5.466049   \n",
       "108  220.848045         7.348 2012-02-03             -8.839506   \n",
       "\n",
       "     cum_weekly_sales  cum_max_sales  \n",
       "60         1495064.75     1495064.75  \n",
       "121        3119542.33     1624477.58  \n",
       "73         4608080.42     1624477.58  \n",
       "34         6061409.92     1624477.58  \n",
       "108        7749830.68     1688420.76  "
      ]
     },
     "execution_count": 92,
     "metadata": {},
     "output_type": "execute_result"
    }
   ],
   "source": [
    "# Obtener el maximo acumulativo de weekly_sales y agregar la columna \n",
    "# cum_max_sales \n",
    "sales_1_1['cum_max_sales'] = sales_1_1['Weekly_Sales'].cummax()\n",
    "sales_1_1.head()"
   ]
  },
  {
   "cell_type": "code",
   "execution_count": 93,
   "id": "c79693cf",
   "metadata": {},
   "outputs": [
    {
     "data": {
      "text/html": [
       "<div>\n",
       "<style scoped>\n",
       "    .dataframe tbody tr th:only-of-type {\n",
       "        vertical-align: middle;\n",
       "    }\n",
       "\n",
       "    .dataframe tbody tr th {\n",
       "        vertical-align: top;\n",
       "    }\n",
       "\n",
       "    .dataframe thead th {\n",
       "        text-align: right;\n",
       "    }\n",
       "</style>\n",
       "<table border=\"1\" class=\"dataframe\">\n",
       "  <thead>\n",
       "    <tr style=\"text-align: right;\">\n",
       "      <th></th>\n",
       "      <th>Date</th>\n",
       "      <th>Weekly_Sales</th>\n",
       "      <th>cum_weekly_sales</th>\n",
       "      <th>cum_max_sales</th>\n",
       "    </tr>\n",
       "  </thead>\n",
       "  <tbody>\n",
       "    <tr>\n",
       "      <th>60</th>\n",
       "      <td>01-04-2011</td>\n",
       "      <td>1495064.75</td>\n",
       "      <td>1495064.75</td>\n",
       "      <td>1495064.75</td>\n",
       "    </tr>\n",
       "    <tr>\n",
       "      <th>121</th>\n",
       "      <td>01-06-2012</td>\n",
       "      <td>1624477.58</td>\n",
       "      <td>3119542.33</td>\n",
       "      <td>1624477.58</td>\n",
       "    </tr>\n",
       "    <tr>\n",
       "      <th>73</th>\n",
       "      <td>01-07-2011</td>\n",
       "      <td>1488538.09</td>\n",
       "      <td>4608080.42</td>\n",
       "      <td>1624477.58</td>\n",
       "    </tr>\n",
       "    <tr>\n",
       "      <th>34</th>\n",
       "      <td>01-10-2010</td>\n",
       "      <td>1453329.50</td>\n",
       "      <td>6061409.92</td>\n",
       "      <td>1624477.58</td>\n",
       "    </tr>\n",
       "    <tr>\n",
       "      <th>108</th>\n",
       "      <td>02-03-2012</td>\n",
       "      <td>1688420.76</td>\n",
       "      <td>7749830.68</td>\n",
       "      <td>1688420.76</td>\n",
       "    </tr>\n",
       "  </tbody>\n",
       "</table>\n",
       "</div>"
      ],
      "text/plain": [
       "           Date  Weekly_Sales  cum_weekly_sales  cum_max_sales\n",
       "60   01-04-2011    1495064.75        1495064.75     1495064.75\n",
       "121  01-06-2012    1624477.58        3119542.33     1624477.58\n",
       "73   01-07-2011    1488538.09        4608080.42     1624477.58\n",
       "34   01-10-2010    1453329.50        6061409.92     1624477.58\n",
       "108  02-03-2012    1688420.76        7749830.68     1688420.76"
      ]
     },
     "execution_count": 93,
     "metadata": {},
     "output_type": "execute_result"
    }
   ],
   "source": [
    "# Mostrar las columnas calculadas \n",
    "sales_1_1[['Date','Weekly_Sales', 'cum_weekly_sales', 'cum_max_sales']].head()"
   ]
  },
  {
   "cell_type": "markdown",
   "id": "326f6dfc",
   "metadata": {},
   "source": [
    "## Recuento \n",
    "----\n",
    "Eliminar duplicados es una habilidad esencial para obtener recuentos precisos, porque a menudo no quieres contar lo mismo varias veces. En este ejercicio, crearás algunos DataFrames nuevos utilizando valores únicos de sales.\n",
    "\n",
    "**Instrucciones**\n",
    "\n",
    "- Elimina las filas de sales con pares duplicados de store y type y guárdalas como store_types e imprime la cabecera.\n",
    "- Elimina las filas de sales con pares duplicados de store y department y guárdalas como store_depts e imprime la cabecera.\n",
    "- Subconjunta\n"
   ]
  },
  {
   "cell_type": "code",
   "execution_count": 94,
   "id": "c1bb353a",
   "metadata": {},
   "outputs": [],
   "source": [
    "import pandas as pd \n",
    "\n",
    "sales_sub = pd.read_csv('./dataSets/sales_subset.csv', index_col=0)"
   ]
  },
  {
   "cell_type": "code",
   "execution_count": 95,
   "id": "2044c7d9",
   "metadata": {},
   "outputs": [
    {
     "data": {
      "text/html": [
       "<div>\n",
       "<style scoped>\n",
       "    .dataframe tbody tr th:only-of-type {\n",
       "        vertical-align: middle;\n",
       "    }\n",
       "\n",
       "    .dataframe tbody tr th {\n",
       "        vertical-align: top;\n",
       "    }\n",
       "\n",
       "    .dataframe thead th {\n",
       "        text-align: right;\n",
       "    }\n",
       "</style>\n",
       "<table border=\"1\" class=\"dataframe\">\n",
       "  <thead>\n",
       "    <tr style=\"text-align: right;\">\n",
       "      <th></th>\n",
       "      <th>store</th>\n",
       "      <th>type</th>\n",
       "      <th>department</th>\n",
       "      <th>date</th>\n",
       "      <th>weekly_sales</th>\n",
       "      <th>is_holiday</th>\n",
       "      <th>temperature_c</th>\n",
       "      <th>fuel_price_usd_per_l</th>\n",
       "      <th>unemployment</th>\n",
       "    </tr>\n",
       "  </thead>\n",
       "  <tbody>\n",
       "    <tr>\n",
       "      <th>0</th>\n",
       "      <td>1</td>\n",
       "      <td>A</td>\n",
       "      <td>1</td>\n",
       "      <td>2010-02-05</td>\n",
       "      <td>24924.50</td>\n",
       "      <td>False</td>\n",
       "      <td>5.727778</td>\n",
       "      <td>0.679451</td>\n",
       "      <td>8.106</td>\n",
       "    </tr>\n",
       "    <tr>\n",
       "      <th>1</th>\n",
       "      <td>1</td>\n",
       "      <td>A</td>\n",
       "      <td>1</td>\n",
       "      <td>2010-03-05</td>\n",
       "      <td>21827.90</td>\n",
       "      <td>False</td>\n",
       "      <td>8.055556</td>\n",
       "      <td>0.693452</td>\n",
       "      <td>8.106</td>\n",
       "    </tr>\n",
       "    <tr>\n",
       "      <th>2</th>\n",
       "      <td>1</td>\n",
       "      <td>A</td>\n",
       "      <td>1</td>\n",
       "      <td>2010-04-02</td>\n",
       "      <td>57258.43</td>\n",
       "      <td>False</td>\n",
       "      <td>16.816667</td>\n",
       "      <td>0.718284</td>\n",
       "      <td>7.808</td>\n",
       "    </tr>\n",
       "    <tr>\n",
       "      <th>3</th>\n",
       "      <td>1</td>\n",
       "      <td>A</td>\n",
       "      <td>1</td>\n",
       "      <td>2010-05-07</td>\n",
       "      <td>17413.94</td>\n",
       "      <td>False</td>\n",
       "      <td>22.527778</td>\n",
       "      <td>0.748928</td>\n",
       "      <td>7.808</td>\n",
       "    </tr>\n",
       "    <tr>\n",
       "      <th>4</th>\n",
       "      <td>1</td>\n",
       "      <td>A</td>\n",
       "      <td>1</td>\n",
       "      <td>2010-06-04</td>\n",
       "      <td>17558.09</td>\n",
       "      <td>False</td>\n",
       "      <td>27.050000</td>\n",
       "      <td>0.714586</td>\n",
       "      <td>7.808</td>\n",
       "    </tr>\n",
       "  </tbody>\n",
       "</table>\n",
       "</div>"
      ],
      "text/plain": [
       "   store type  department        date  weekly_sales  is_holiday  \\\n",
       "0      1    A           1  2010-02-05      24924.50       False   \n",
       "1      1    A           1  2010-03-05      21827.90       False   \n",
       "2      1    A           1  2010-04-02      57258.43       False   \n",
       "3      1    A           1  2010-05-07      17413.94       False   \n",
       "4      1    A           1  2010-06-04      17558.09       False   \n",
       "\n",
       "   temperature_c  fuel_price_usd_per_l  unemployment  \n",
       "0       5.727778              0.679451         8.106  \n",
       "1       8.055556              0.693452         8.106  \n",
       "2      16.816667              0.718284         7.808  \n",
       "3      22.527778              0.748928         7.808  \n",
       "4      27.050000              0.714586         7.808  "
      ]
     },
     "execution_count": 95,
     "metadata": {},
     "output_type": "execute_result"
    }
   ],
   "source": [
    "sales_sub.head()\n"
   ]
  },
  {
   "cell_type": "code",
   "execution_count": 96,
   "id": "25cb6bcf",
   "metadata": {},
   "outputs": [
    {
     "data": {
      "text/plain": [
       "(10774, 9)"
      ]
     },
     "execution_count": 96,
     "metadata": {},
     "output_type": "execute_result"
    }
   ],
   "source": [
    "sales_sub.shape"
   ]
  },
  {
   "cell_type": "code",
   "execution_count": 97,
   "id": "2e586c84",
   "metadata": {},
   "outputs": [
    {
     "data": {
      "text/html": [
       "<div>\n",
       "<style scoped>\n",
       "    .dataframe tbody tr th:only-of-type {\n",
       "        vertical-align: middle;\n",
       "    }\n",
       "\n",
       "    .dataframe tbody tr th {\n",
       "        vertical-align: top;\n",
       "    }\n",
       "\n",
       "    .dataframe thead th {\n",
       "        text-align: right;\n",
       "    }\n",
       "</style>\n",
       "<table border=\"1\" class=\"dataframe\">\n",
       "  <thead>\n",
       "    <tr style=\"text-align: right;\">\n",
       "      <th></th>\n",
       "      <th>store</th>\n",
       "      <th>type</th>\n",
       "      <th>department</th>\n",
       "      <th>date</th>\n",
       "      <th>weekly_sales</th>\n",
       "      <th>is_holiday</th>\n",
       "      <th>temperature_c</th>\n",
       "      <th>fuel_price_usd_per_l</th>\n",
       "      <th>unemployment</th>\n",
       "    </tr>\n",
       "  </thead>\n",
       "  <tbody>\n",
       "    <tr>\n",
       "      <th>0</th>\n",
       "      <td>1</td>\n",
       "      <td>A</td>\n",
       "      <td>1</td>\n",
       "      <td>2010-02-05</td>\n",
       "      <td>24924.50</td>\n",
       "      <td>False</td>\n",
       "      <td>5.727778</td>\n",
       "      <td>0.679451</td>\n",
       "      <td>8.106</td>\n",
       "    </tr>\n",
       "    <tr>\n",
       "      <th>901</th>\n",
       "      <td>2</td>\n",
       "      <td>A</td>\n",
       "      <td>1</td>\n",
       "      <td>2010-02-05</td>\n",
       "      <td>35034.06</td>\n",
       "      <td>False</td>\n",
       "      <td>4.550000</td>\n",
       "      <td>0.679451</td>\n",
       "      <td>8.324</td>\n",
       "    </tr>\n",
       "    <tr>\n",
       "      <th>1798</th>\n",
       "      <td>4</td>\n",
       "      <td>A</td>\n",
       "      <td>1</td>\n",
       "      <td>2010-02-05</td>\n",
       "      <td>38724.42</td>\n",
       "      <td>False</td>\n",
       "      <td>6.533333</td>\n",
       "      <td>0.686319</td>\n",
       "      <td>8.623</td>\n",
       "    </tr>\n",
       "    <tr>\n",
       "      <th>2699</th>\n",
       "      <td>6</td>\n",
       "      <td>A</td>\n",
       "      <td>1</td>\n",
       "      <td>2010-02-05</td>\n",
       "      <td>25619.00</td>\n",
       "      <td>False</td>\n",
       "      <td>4.683333</td>\n",
       "      <td>0.679451</td>\n",
       "      <td>7.259</td>\n",
       "    </tr>\n",
       "    <tr>\n",
       "      <th>3593</th>\n",
       "      <td>10</td>\n",
       "      <td>B</td>\n",
       "      <td>1</td>\n",
       "      <td>2010-02-05</td>\n",
       "      <td>40212.84</td>\n",
       "      <td>False</td>\n",
       "      <td>12.411111</td>\n",
       "      <td>0.782478</td>\n",
       "      <td>9.765</td>\n",
       "    </tr>\n",
       "  </tbody>\n",
       "</table>\n",
       "</div>"
      ],
      "text/plain": [
       "      store type  department        date  weekly_sales  is_holiday  \\\n",
       "0         1    A           1  2010-02-05      24924.50       False   \n",
       "901       2    A           1  2010-02-05      35034.06       False   \n",
       "1798      4    A           1  2010-02-05      38724.42       False   \n",
       "2699      6    A           1  2010-02-05      25619.00       False   \n",
       "3593     10    B           1  2010-02-05      40212.84       False   \n",
       "\n",
       "      temperature_c  fuel_price_usd_per_l  unemployment  \n",
       "0          5.727778              0.679451         8.106  \n",
       "901        4.550000              0.679451         8.324  \n",
       "1798       6.533333              0.686319         8.623  \n",
       "2699       4.683333              0.679451         7.259  \n",
       "3593      12.411111              0.782478         9.765  "
      ]
     },
     "execution_count": 97,
     "metadata": {},
     "output_type": "execute_result"
    }
   ],
   "source": [
    "# Eliminar o hacer un drop a la combinacion de dupliccados de store/type\n",
    "store_types = sales_sub.drop_duplicates(subset=['store', 'type'])\n",
    "store_types.head()"
   ]
  },
  {
   "cell_type": "code",
   "execution_count": 98,
   "id": "3387eb83",
   "metadata": {},
   "outputs": [
    {
     "data": {
      "text/html": [
       "<div>\n",
       "<style scoped>\n",
       "    .dataframe tbody tr th:only-of-type {\n",
       "        vertical-align: middle;\n",
       "    }\n",
       "\n",
       "    .dataframe tbody tr th {\n",
       "        vertical-align: top;\n",
       "    }\n",
       "\n",
       "    .dataframe thead th {\n",
       "        text-align: right;\n",
       "    }\n",
       "</style>\n",
       "<table border=\"1\" class=\"dataframe\">\n",
       "  <thead>\n",
       "    <tr style=\"text-align: right;\">\n",
       "      <th></th>\n",
       "      <th>store</th>\n",
       "      <th>type</th>\n",
       "      <th>department</th>\n",
       "      <th>date</th>\n",
       "      <th>weekly_sales</th>\n",
       "      <th>is_holiday</th>\n",
       "      <th>temperature_c</th>\n",
       "      <th>fuel_price_usd_per_l</th>\n",
       "      <th>unemployment</th>\n",
       "    </tr>\n",
       "  </thead>\n",
       "  <tbody>\n",
       "    <tr>\n",
       "      <th>0</th>\n",
       "      <td>1</td>\n",
       "      <td>A</td>\n",
       "      <td>1</td>\n",
       "      <td>2010-02-05</td>\n",
       "      <td>24924.50</td>\n",
       "      <td>False</td>\n",
       "      <td>5.727778</td>\n",
       "      <td>0.679451</td>\n",
       "      <td>8.106</td>\n",
       "    </tr>\n",
       "    <tr>\n",
       "      <th>12</th>\n",
       "      <td>1</td>\n",
       "      <td>A</td>\n",
       "      <td>2</td>\n",
       "      <td>2010-02-05</td>\n",
       "      <td>50605.27</td>\n",
       "      <td>False</td>\n",
       "      <td>5.727778</td>\n",
       "      <td>0.679451</td>\n",
       "      <td>8.106</td>\n",
       "    </tr>\n",
       "    <tr>\n",
       "      <th>24</th>\n",
       "      <td>1</td>\n",
       "      <td>A</td>\n",
       "      <td>3</td>\n",
       "      <td>2010-02-05</td>\n",
       "      <td>13740.12</td>\n",
       "      <td>False</td>\n",
       "      <td>5.727778</td>\n",
       "      <td>0.679451</td>\n",
       "      <td>8.106</td>\n",
       "    </tr>\n",
       "    <tr>\n",
       "      <th>36</th>\n",
       "      <td>1</td>\n",
       "      <td>A</td>\n",
       "      <td>4</td>\n",
       "      <td>2010-02-05</td>\n",
       "      <td>39954.04</td>\n",
       "      <td>False</td>\n",
       "      <td>5.727778</td>\n",
       "      <td>0.679451</td>\n",
       "      <td>8.106</td>\n",
       "    </tr>\n",
       "    <tr>\n",
       "      <th>48</th>\n",
       "      <td>1</td>\n",
       "      <td>A</td>\n",
       "      <td>5</td>\n",
       "      <td>2010-02-05</td>\n",
       "      <td>32229.38</td>\n",
       "      <td>False</td>\n",
       "      <td>5.727778</td>\n",
       "      <td>0.679451</td>\n",
       "      <td>8.106</td>\n",
       "    </tr>\n",
       "  </tbody>\n",
       "</table>\n",
       "</div>"
      ],
      "text/plain": [
       "    store type  department        date  weekly_sales  is_holiday  \\\n",
       "0       1    A           1  2010-02-05      24924.50       False   \n",
       "12      1    A           2  2010-02-05      50605.27       False   \n",
       "24      1    A           3  2010-02-05      13740.12       False   \n",
       "36      1    A           4  2010-02-05      39954.04       False   \n",
       "48      1    A           5  2010-02-05      32229.38       False   \n",
       "\n",
       "    temperature_c  fuel_price_usd_per_l  unemployment  \n",
       "0        5.727778              0.679451         8.106  \n",
       "12       5.727778              0.679451         8.106  \n",
       "24       5.727778              0.679451         8.106  \n",
       "36       5.727778              0.679451         8.106  \n",
       "48       5.727778              0.679451         8.106  "
      ]
     },
     "execution_count": 98,
     "metadata": {},
     "output_type": "execute_result"
    }
   ],
   "source": [
    "\n",
    "# Eliminar los duplicados de store y department\n",
    "store_depts = sales_sub.drop_duplicates(subset=['store', 'department'])\n",
    "store_depts.head()"
   ]
  },
  {
   "cell_type": "code",
   "execution_count": 99,
   "id": "d213d948",
   "metadata": {},
   "outputs": [
    {
     "data": {
      "text/html": [
       "<div>\n",
       "<style scoped>\n",
       "    .dataframe tbody tr th:only-of-type {\n",
       "        vertical-align: middle;\n",
       "    }\n",
       "\n",
       "    .dataframe tbody tr th {\n",
       "        vertical-align: top;\n",
       "    }\n",
       "\n",
       "    .dataframe thead th {\n",
       "        text-align: right;\n",
       "    }\n",
       "</style>\n",
       "<table border=\"1\" class=\"dataframe\">\n",
       "  <thead>\n",
       "    <tr style=\"text-align: right;\">\n",
       "      <th></th>\n",
       "      <th>store</th>\n",
       "      <th>type</th>\n",
       "      <th>department</th>\n",
       "      <th>date</th>\n",
       "      <th>weekly_sales</th>\n",
       "      <th>is_holiday</th>\n",
       "      <th>temperature_c</th>\n",
       "      <th>fuel_price_usd_per_l</th>\n",
       "      <th>unemployment</th>\n",
       "    </tr>\n",
       "  </thead>\n",
       "  <tbody>\n",
       "    <tr>\n",
       "      <th>498</th>\n",
       "      <td>1</td>\n",
       "      <td>A</td>\n",
       "      <td>45</td>\n",
       "      <td>2010-09-10</td>\n",
       "      <td>11.47</td>\n",
       "      <td>True</td>\n",
       "      <td>25.938889</td>\n",
       "      <td>0.677602</td>\n",
       "      <td>7.787</td>\n",
       "    </tr>\n",
       "    <tr>\n",
       "      <th>691</th>\n",
       "      <td>1</td>\n",
       "      <td>A</td>\n",
       "      <td>77</td>\n",
       "      <td>2011-11-25</td>\n",
       "      <td>1431.00</td>\n",
       "      <td>True</td>\n",
       "      <td>15.633333</td>\n",
       "      <td>0.854861</td>\n",
       "      <td>7.866</td>\n",
       "    </tr>\n",
       "    <tr>\n",
       "      <th>2315</th>\n",
       "      <td>4</td>\n",
       "      <td>A</td>\n",
       "      <td>47</td>\n",
       "      <td>2010-02-12</td>\n",
       "      <td>498.00</td>\n",
       "      <td>True</td>\n",
       "      <td>-1.755556</td>\n",
       "      <td>0.679715</td>\n",
       "      <td>8.623</td>\n",
       "    </tr>\n",
       "    <tr>\n",
       "      <th>6735</th>\n",
       "      <td>19</td>\n",
       "      <td>A</td>\n",
       "      <td>39</td>\n",
       "      <td>2012-09-07</td>\n",
       "      <td>13.41</td>\n",
       "      <td>True</td>\n",
       "      <td>22.333333</td>\n",
       "      <td>1.076766</td>\n",
       "      <td>8.193</td>\n",
       "    </tr>\n",
       "    <tr>\n",
       "      <th>6810</th>\n",
       "      <td>19</td>\n",
       "      <td>A</td>\n",
       "      <td>47</td>\n",
       "      <td>2010-12-31</td>\n",
       "      <td>-449.00</td>\n",
       "      <td>True</td>\n",
       "      <td>-1.861111</td>\n",
       "      <td>0.881278</td>\n",
       "      <td>8.067</td>\n",
       "    </tr>\n",
       "  </tbody>\n",
       "</table>\n",
       "</div>"
      ],
      "text/plain": [
       "      store type  department        date  weekly_sales  is_holiday  \\\n",
       "498       1    A          45  2010-09-10         11.47        True   \n",
       "691       1    A          77  2011-11-25       1431.00        True   \n",
       "2315      4    A          47  2010-02-12        498.00        True   \n",
       "6735     19    A          39  2012-09-07         13.41        True   \n",
       "6810     19    A          47  2010-12-31       -449.00        True   \n",
       "\n",
       "      temperature_c  fuel_price_usd_per_l  unemployment  \n",
       "498       25.938889              0.677602         7.787  \n",
       "691       15.633333              0.854861         7.866  \n",
       "2315      -1.755556              0.679715         8.623  \n",
       "6735      22.333333              1.076766         8.193  \n",
       "6810      -1.861111              0.881278         8.067  "
      ]
     },
     "execution_count": 99,
     "metadata": {},
     "output_type": "execute_result"
    }
   ],
   "source": [
    "# Segmentar todas las filas donde el campo is_holoday es True y eliminar los duplicados del campo Date y guardarlos en holiday_dates\n",
    "holiday_dates = sales_sub[sales_sub['is_holiday']==True].drop_duplicates(subset=['date'])\n",
    "holiday_dates.head() "
   ]
  },
  {
   "cell_type": "markdown",
   "id": "52a812a5",
   "metadata": {},
   "source": [
    "### Contar variables categóricas\n",
    "\n",
    "Contar es una forma estupenda de tener una visión general de tus datos y de detectar curiosidades que de otro modo no notarías. En este ejercicio, contarás el número de cada tipo de tienda y el número de cada número de departamento utilizando los DataFrames que creaste en el ejercicio anterior:\n",
    "```\n",
    "# Drop duplicate store/type combinations\n",
    "store_types = sales.drop_duplicates(subset=[\"store\", \"type\"])\n",
    "\n",
    "# Drop duplicate store/department combinations\n",
    "store_depts = sales.drop_duplicates(subset=[\"store\", \"department\"])\n",
    "\n",
    "```\n",
    "Los DataFrames store_types y store_depts que creaste en el último ejercicio están disponibles, y pandas se importa como pd.\n",
    "\n",
    "**Instrucciones**\n",
    "\n",
    "- Cuenta el número de tiendas de cada tienda type en store_types.\n",
    "- Cuenta la proporción de tiendas de cada tienda type en store_types.\n",
    "- Cuenta el número de tiendas de cada department en store_depts, ordenando los recuentos en orden descendente.\n",
    "- Cuenta la proporción de tiendas de cada department en store_depts, ordenando las proporciones en orden descendente."
   ]
  },
  {
   "cell_type": "code",
   "execution_count": 100,
   "id": "91d001bd",
   "metadata": {},
   "outputs": [
    {
     "data": {
      "text/html": [
       "<div>\n",
       "<style scoped>\n",
       "    .dataframe tbody tr th:only-of-type {\n",
       "        vertical-align: middle;\n",
       "    }\n",
       "\n",
       "    .dataframe tbody tr th {\n",
       "        vertical-align: top;\n",
       "    }\n",
       "\n",
       "    .dataframe thead th {\n",
       "        text-align: right;\n",
       "    }\n",
       "</style>\n",
       "<table border=\"1\" class=\"dataframe\">\n",
       "  <thead>\n",
       "    <tr style=\"text-align: right;\">\n",
       "      <th></th>\n",
       "      <th>store</th>\n",
       "      <th>type</th>\n",
       "      <th>department</th>\n",
       "      <th>date</th>\n",
       "      <th>weekly_sales</th>\n",
       "      <th>is_holiday</th>\n",
       "      <th>temperature_c</th>\n",
       "      <th>fuel_price_usd_per_l</th>\n",
       "      <th>unemployment</th>\n",
       "    </tr>\n",
       "  </thead>\n",
       "  <tbody>\n",
       "    <tr>\n",
       "      <th>0</th>\n",
       "      <td>1</td>\n",
       "      <td>A</td>\n",
       "      <td>1</td>\n",
       "      <td>2010-02-05</td>\n",
       "      <td>24924.50</td>\n",
       "      <td>False</td>\n",
       "      <td>5.727778</td>\n",
       "      <td>0.679451</td>\n",
       "      <td>8.106</td>\n",
       "    </tr>\n",
       "    <tr>\n",
       "      <th>901</th>\n",
       "      <td>2</td>\n",
       "      <td>A</td>\n",
       "      <td>1</td>\n",
       "      <td>2010-02-05</td>\n",
       "      <td>35034.06</td>\n",
       "      <td>False</td>\n",
       "      <td>4.550000</td>\n",
       "      <td>0.679451</td>\n",
       "      <td>8.324</td>\n",
       "    </tr>\n",
       "    <tr>\n",
       "      <th>1798</th>\n",
       "      <td>4</td>\n",
       "      <td>A</td>\n",
       "      <td>1</td>\n",
       "      <td>2010-02-05</td>\n",
       "      <td>38724.42</td>\n",
       "      <td>False</td>\n",
       "      <td>6.533333</td>\n",
       "      <td>0.686319</td>\n",
       "      <td>8.623</td>\n",
       "    </tr>\n",
       "    <tr>\n",
       "      <th>2699</th>\n",
       "      <td>6</td>\n",
       "      <td>A</td>\n",
       "      <td>1</td>\n",
       "      <td>2010-02-05</td>\n",
       "      <td>25619.00</td>\n",
       "      <td>False</td>\n",
       "      <td>4.683333</td>\n",
       "      <td>0.679451</td>\n",
       "      <td>7.259</td>\n",
       "    </tr>\n",
       "    <tr>\n",
       "      <th>3593</th>\n",
       "      <td>10</td>\n",
       "      <td>B</td>\n",
       "      <td>1</td>\n",
       "      <td>2010-02-05</td>\n",
       "      <td>40212.84</td>\n",
       "      <td>False</td>\n",
       "      <td>12.411111</td>\n",
       "      <td>0.782478</td>\n",
       "      <td>9.765</td>\n",
       "    </tr>\n",
       "  </tbody>\n",
       "</table>\n",
       "</div>"
      ],
      "text/plain": [
       "      store type  department        date  weekly_sales  is_holiday  \\\n",
       "0         1    A           1  2010-02-05      24924.50       False   \n",
       "901       2    A           1  2010-02-05      35034.06       False   \n",
       "1798      4    A           1  2010-02-05      38724.42       False   \n",
       "2699      6    A           1  2010-02-05      25619.00       False   \n",
       "3593     10    B           1  2010-02-05      40212.84       False   \n",
       "\n",
       "      temperature_c  fuel_price_usd_per_l  unemployment  \n",
       "0          5.727778              0.679451         8.106  \n",
       "901        4.550000              0.679451         8.324  \n",
       "1798       6.533333              0.686319         8.623  \n",
       "2699       4.683333              0.679451         7.259  \n",
       "3593      12.411111              0.782478         9.765  "
      ]
     },
     "execution_count": 100,
     "metadata": {},
     "output_type": "execute_result"
    }
   ],
   "source": [
    "store_types.head()"
   ]
  },
  {
   "cell_type": "code",
   "execution_count": 101,
   "id": "90af9020",
   "metadata": {},
   "outputs": [
    {
     "data": {
      "text/plain": [
       "type\n",
       "A    11\n",
       "B     1\n",
       "Name: count, dtype: int64"
      ]
     },
     "execution_count": 101,
     "metadata": {},
     "output_type": "execute_result"
    }
   ],
   "source": [
    "# Contar el numero de tienedas de cada tipo \n",
    "store_counts = store_types['type'].value_counts()\n",
    "store_counts"
   ]
  },
  {
   "cell_type": "code",
   "execution_count": 102,
   "id": "90c0c407",
   "metadata": {},
   "outputs": [
    {
     "data": {
      "text/plain": [
       "type\n",
       "A    91.666667\n",
       "B     8.333333\n",
       "Name: proportion, dtype: float64"
      ]
     },
     "execution_count": 102,
     "metadata": {},
     "output_type": "execute_result"
    }
   ],
   "source": [
    "# obtener la proporcion de tiendas de cada tipo \n",
    "strore_props = store_types['type'].value_counts(normalize=True)*100\n",
    "strore_props"
   ]
  },
  {
   "cell_type": "code",
   "execution_count": 103,
   "id": "92caf674",
   "metadata": {},
   "outputs": [
    {
     "data": {
      "text/plain": [
       "department\n",
       "1     12\n",
       "2     12\n",
       "3     12\n",
       "4     12\n",
       "5     12\n",
       "      ..\n",
       "37    10\n",
       "48     8\n",
       "50     6\n",
       "39     4\n",
       "43     2\n",
       "Name: count, Length: 80, dtype: int64"
      ]
     },
     "execution_count": 103,
     "metadata": {},
     "output_type": "execute_result"
    }
   ],
   "source": [
    "# contar el numero de tiendas por cada departamento y ordenado \n",
    "dept_counts_stored = store_depts['department'].value_counts(sort=True)\n",
    "dept_counts_stored"
   ]
  },
  {
   "cell_type": "code",
   "execution_count": 104,
   "id": "ca9f2831",
   "metadata": {},
   "outputs": [
    {
     "data": {
      "text/plain": [
       "department\n",
       "1     1.291712\n",
       "2     1.291712\n",
       "3     1.291712\n",
       "4     1.291712\n",
       "5     1.291712\n",
       "        ...   \n",
       "95    1.291712\n",
       "96    1.291712\n",
       "97    1.291712\n",
       "98    1.291712\n",
       "99    1.184069\n",
       "Name: proportion, Length: 80, dtype: float64"
      ]
     },
     "execution_count": 104,
     "metadata": {},
     "output_type": "execute_result"
    }
   ],
   "source": [
    "# Obtener la proporcioon de las tiendas en cada departamento y ordenadas\n",
    "dept_props_stored = store_depts['department'].value_counts(normalize=True).sort_index() * 100\n",
    "dept_props_stored\n",
    "\n",
    "\n",
    "\n"
   ]
  },
  {
   "cell_type": "markdown",
   "id": "fc62b10b",
   "metadata": {},
   "source": [
    "## Estadisticas resumisdas y agrupadas \n"
   ]
  },
  {
   "cell_type": "markdown",
   "id": "6b84a8b3",
   "metadata": {},
   "source": [
    "Aunque .groupby() es útil, puedes calcular estadísticas de resumen agrupadas sin él.\n",
    "\n",
    "Walmart distingue tres tipos de tiendas: \"supercentros\", \"tiendas de descuento\" y \"mercados de barrio\", codificados en este conjunto de datos como tipo \"A\", \"B\" y \"C\". En este ejercicio, calcularás las ventas totales realizadas en cada tipo de tienda, sin utilizar .groupby(). A continuación, puedes utilizar estas cifras para ver qué proporción de"
   ]
  },
  {
   "cell_type": "code",
   "execution_count": 105,
   "id": "bf60843f",
   "metadata": {},
   "outputs": [
    {
     "data": {
      "text/plain": [
       "np.float64(256894718.89999998)"
      ]
     },
     "execution_count": 105,
     "metadata": {},
     "output_type": "execute_result"
    }
   ],
   "source": [
    "# Calcular el total de ventas por semana \n",
    "sales_all = sales_sub['weekly_sales'].sum()\n",
    "sales_all"
   ]
  },
  {
   "cell_type": "code",
   "execution_count": 106,
   "id": "ca0e5b6b",
   "metadata": {},
   "outputs": [
    {
     "data": {
      "text/plain": [
       "np.float64(233716315.01)"
      ]
     },
     "execution_count": 106,
     "metadata": {},
     "output_type": "execute_result"
    }
   ],
   "source": [
    "# Segmentar para los tipos A y calcular el total de ventas por semana\n",
    "sales_A = sales_sub[sales_sub['type'] == 'A']['weekly_sales'].sum()\n",
    "sales_A"
   ]
  },
  {
   "cell_type": "code",
   "execution_count": 107,
   "id": "6a34cd8c",
   "metadata": {},
   "outputs": [
    {
     "data": {
      "text/plain": [
       "np.float64(23178403.89)"
      ]
     },
     "execution_count": 107,
     "metadata": {},
     "output_type": "execute_result"
    }
   ],
   "source": [
    "# Segmentar para los tipos B y calcular el total de ventas por semana\n",
    "sales_B = sales_sub[sales_sub['type'] == 'B']['weekly_sales'].sum()\n",
    "sales_B"
   ]
  },
  {
   "cell_type": "code",
   "execution_count": 108,
   "id": "5f255bfb",
   "metadata": {},
   "outputs": [
    {
     "data": {
      "text/plain": [
       "np.float64(0.0)"
      ]
     },
     "execution_count": 108,
     "metadata": {},
     "output_type": "execute_result"
    }
   ],
   "source": [
    "# Segmentar para los tipos C y calcular el total de ventas por semana\n",
    "sales_C = sales_sub[sales_sub['type'] == 'C']['weekly_sales'].sum()\n",
    "sales_C"
   ]
  },
  {
   "cell_type": "code",
   "execution_count": 109,
   "id": "75836f03",
   "metadata": {},
   "outputs": [
    {
     "data": {
      "text/plain": [
       "array([90.97746969,  9.02253031,  0.        ])"
      ]
     },
     "execution_count": 109,
     "metadata": {},
     "output_type": "execute_result"
    }
   ],
   "source": [
    "# obtener la proporcion de cada tipo \n",
    "sales_props_by_type = [sales_A, sales_B, sales_C] / sales_all * 100\n",
    "sales_props_by_type"
   ]
  },
  {
   "cell_type": "markdown",
   "id": "2c9fc329",
   "metadata": {},
   "source": [
    "### Cálculos con .groupby()\n",
    "\n",
    "El método .groupby() te facilita mucho la vida. En este ejercicio, realizarás los mismos cálculos que la última vez, excepto que utilizarás el método .groupby(). También realizarás cálculos sobre datos agrupados por dos variables para ver si las ventas difieren por tipo de tienda dependiendo de si es una semana festiva o no.\n",
    "\n",
    "sales está disponible y pandas se carga como pd.\n",
    "\n",
    "**Instrucciones**\n",
    "\n",
    "- Agrupa sales por \"type\", toma la suma de \"weekly_sales\", y almacénala como sales_by_type.\n",
    "- Calcula la proporción de ventas en cada tipo de tienda dividiendo por la suma de sales_by_type. Asignar a sales_propn_by_type.\n",
    "- Agrupa sales por \"type\" y \"is_holiday\", toma la suma de weekly_sales, y almacénala como sales_by_type_is_holiday."
   ]
  },
  {
   "cell_type": "code",
   "execution_count": null,
   "id": "3d1b6f05",
   "metadata": {},
   "outputs": [
    {
     "data": {
      "text/plain": [
       "type\n",
       "A    2.337163e+08\n",
       "B    2.317840e+07\n",
       "Name: weekly_sales, dtype: float64"
      ]
     },
     "execution_count": 110,
     "metadata": {},
     "output_type": "execute_result"
    }
   ],
   "source": [
    "sales_new = pd.read_csv('./dataSets/sales_subset.csv')\n",
    "#Agrupar por tipo; calcular el total de ventas semanales\n",
    "sales_by_type = sales_sub.groupby('type')['weekly_sales'].sum()\n",
    "sales_by_type"
   ]
  },
  {
   "cell_type": "code",
   "execution_count": 111,
   "id": "e27da238",
   "metadata": {},
   "outputs": [
    {
     "data": {
      "text/plain": [
       "type\n",
       "A    90.97747\n",
       "B     9.02253\n",
       "Name: weekly_sales, dtype: float64"
      ]
     },
     "execution_count": 111,
     "metadata": {},
     "output_type": "execute_result"
    }
   ],
   "source": [
    "# Obtener la proporcion de cada tipo\n",
    "sales_props_by_type = sales_by_type / sales_all * 100\n",
    "sales_props_by_type"
   ]
  },
  {
   "cell_type": "code",
   "execution_count": 112,
   "id": "79042a95",
   "metadata": {},
   "outputs": [
    {
     "data": {
      "text/plain": [
       "type  is_holiday\n",
       "A     False         2.336927e+08\n",
       "      True          2.360181e+04\n",
       "B     False         2.317678e+07\n",
       "      True          1.621410e+03\n",
       "Name: weekly_sales, dtype: float64"
      ]
     },
     "execution_count": 112,
     "metadata": {},
     "output_type": "execute_result"
    }
   ],
   "source": [
    "# Agrupar por type y por is_holiday; calcular el total de ventas semanales\n",
    "sales_by_type_holiday = sales_sub.groupby(['type', 'is_holiday'])['weekly_sales'].sum()\n",
    "sales_by_type_holiday"
   ]
  },
  {
   "cell_type": "markdown",
   "id": "7a141f18",
   "metadata": {},
   "source": [
    "### Múltiples resúmenes agrupados\n",
    "\n",
    "Anteriormente en este capítulo, has visto que el método .agg() es útil para calcular múltiples estadísticos sobre múltiples variables. También funciona con datos agrupados. NumPy, que se importa como np, tiene muchas funciones estadísticas de resumen diferentes, entre las que se incluyen: np.min, np.max, np.mean, y np.median.\n",
    "\n",
    "sales está disponible y pandas se importa como pd.\n",
    "\n",
    "**Instrucciones**\n",
    "\n",
    "- Importa numpy con el alias np.\n",
    "- Obtén el mínimo, el máximo, la media y la mediana de weekly_sales para cada tipo de tienda utilizando .groupby() y .agg(). Guárdalo como . ¡Asegúrate de utilizar las funciones de numpy!\n",
    "- Obtén el mínimo, el máximo, la media y la mediana de unemployment y fuel_price_usd_per_l para cada tipo de tienda. Guárdalo como unemp_fuel_stats."
   ]
  },
  {
   "cell_type": "code",
   "execution_count": 113,
   "id": "d30874d8",
   "metadata": {},
   "outputs": [
    {
     "data": {
      "text/html": [
       "<div>\n",
       "<style scoped>\n",
       "    .dataframe tbody tr th:only-of-type {\n",
       "        vertical-align: middle;\n",
       "    }\n",
       "\n",
       "    .dataframe tbody tr th {\n",
       "        vertical-align: top;\n",
       "    }\n",
       "\n",
       "    .dataframe thead th {\n",
       "        text-align: right;\n",
       "    }\n",
       "</style>\n",
       "<table border=\"1\" class=\"dataframe\">\n",
       "  <thead>\n",
       "    <tr style=\"text-align: right;\">\n",
       "      <th></th>\n",
       "      <th>min</th>\n",
       "      <th>max</th>\n",
       "      <th>mean</th>\n",
       "    </tr>\n",
       "    <tr>\n",
       "      <th>type</th>\n",
       "      <th></th>\n",
       "      <th></th>\n",
       "      <th></th>\n",
       "    </tr>\n",
       "  </thead>\n",
       "  <tbody>\n",
       "    <tr>\n",
       "      <th>A</th>\n",
       "      <td>-1098.0</td>\n",
       "      <td>293966.05</td>\n",
       "      <td>23674.667242</td>\n",
       "    </tr>\n",
       "    <tr>\n",
       "      <th>B</th>\n",
       "      <td>-798.0</td>\n",
       "      <td>232558.51</td>\n",
       "      <td>25696.678370</td>\n",
       "    </tr>\n",
       "  </tbody>\n",
       "</table>\n",
       "</div>"
      ],
      "text/plain": [
       "         min        max          mean\n",
       "type                                 \n",
       "A    -1098.0  293966.05  23674.667242\n",
       "B     -798.0  232558.51  25696.678370"
      ]
     },
     "execution_count": 113,
     "metadata": {},
     "output_type": "execute_result"
    }
   ],
   "source": [
    "# Para cada tipo de tienda, hacer agregación para weekly_sales: obteenr el minimo,maximo y la media\n",
    "sales_stats = sales_sub.groupby('type')['weekly_sales'].agg(['min', 'max', 'mean'])\n",
    "sales_stats"
   ]
  },
  {
   "cell_type": "code",
   "execution_count": 115,
   "id": "6e060a85",
   "metadata": {},
   "outputs": [
    {
     "data": {
      "text/html": [
       "<div>\n",
       "<style scoped>\n",
       "    .dataframe tbody tr th:only-of-type {\n",
       "        vertical-align: middle;\n",
       "    }\n",
       "\n",
       "    .dataframe tbody tr th {\n",
       "        vertical-align: top;\n",
       "    }\n",
       "\n",
       "    .dataframe thead tr th {\n",
       "        text-align: left;\n",
       "    }\n",
       "\n",
       "    .dataframe thead tr:last-of-type th {\n",
       "        text-align: right;\n",
       "    }\n",
       "</style>\n",
       "<table border=\"1\" class=\"dataframe\">\n",
       "  <thead>\n",
       "    <tr>\n",
       "      <th></th>\n",
       "      <th colspan=\"4\" halign=\"left\">unemployment</th>\n",
       "      <th colspan=\"4\" halign=\"left\">fuel_price_usd_per_l</th>\n",
       "    </tr>\n",
       "    <tr>\n",
       "      <th></th>\n",
       "      <th>min</th>\n",
       "      <th>max</th>\n",
       "      <th>mean</th>\n",
       "      <th>median</th>\n",
       "      <th>min</th>\n",
       "      <th>max</th>\n",
       "      <th>mean</th>\n",
       "      <th>median</th>\n",
       "    </tr>\n",
       "    <tr>\n",
       "      <th>type</th>\n",
       "      <th></th>\n",
       "      <th></th>\n",
       "      <th></th>\n",
       "      <th></th>\n",
       "      <th></th>\n",
       "      <th></th>\n",
       "      <th></th>\n",
       "      <th></th>\n",
       "    </tr>\n",
       "  </thead>\n",
       "  <tbody>\n",
       "    <tr>\n",
       "      <th>A</th>\n",
       "      <td>3.879</td>\n",
       "      <td>8.992</td>\n",
       "      <td>7.972611</td>\n",
       "      <td>8.067</td>\n",
       "      <td>0.664129</td>\n",
       "      <td>1.107410</td>\n",
       "      <td>0.744619</td>\n",
       "      <td>0.735455</td>\n",
       "    </tr>\n",
       "    <tr>\n",
       "      <th>B</th>\n",
       "      <td>7.170</td>\n",
       "      <td>9.765</td>\n",
       "      <td>9.279323</td>\n",
       "      <td>9.199</td>\n",
       "      <td>0.760023</td>\n",
       "      <td>1.107674</td>\n",
       "      <td>0.805858</td>\n",
       "      <td>0.803348</td>\n",
       "    </tr>\n",
       "  </tbody>\n",
       "</table>\n",
       "</div>"
      ],
      "text/plain": [
       "     unemployment                         fuel_price_usd_per_l            \\\n",
       "              min    max      mean median                  min       max   \n",
       "type                                                                       \n",
       "A           3.879  8.992  7.972611  8.067             0.664129  1.107410   \n",
       "B           7.170  9.765  9.279323  9.199             0.760023  1.107674   \n",
       "\n",
       "                          \n",
       "          mean    median  \n",
       "type                      \n",
       "A     0.744619  0.735455  \n",
       "B     0.805858  0.803348  "
      ]
     },
     "execution_count": 115,
     "metadata": {},
     "output_type": "execute_result"
    }
   ],
   "source": [
    "#para cada tipo de tienda, Hacer agregacion para los campos unemployment, fuel_price_usd_per_1: obtener el minimo,maximo, mean  y la media\n",
    "unem_fuel_stats = sales_sub.groupby('type')[['unemployment','fuel_price_usd_per_l']].agg(['min', 'max', 'mean','median'])\n",
    "unem_fuel_stats"
   ]
  },
  {
   "cell_type": "markdown",
   "id": "0d87d3ac",
   "metadata": {},
   "source": [
    "## Pivot tables (Tablas Dinamicas)\n",
    "\n",
    "### Pivotar sobre una variable\n",
    "\n",
    "Las tablas dinámicas son la forma estándar de agregar datos en las hojas de cálculo.\n",
    "\n",
    "En pandas, las tablas dinámicas son esencialmente otra forma de realizar cálculos agrupados. Es decir, el método .pivot_table() es una alternativa a .groupby().\n",
    "\n",
    "En este ejercicio, realizarás cálculos utilizando .pivot_table() para reproducir los cálculos que realizaste en la lección anterior utilizando .groupby().\n",
    "\n",
    "sales está disponible y pandas se importa como pd.\n",
    "\n",
    "**Instrucciones**\n",
    "\n",
    "- Obtén la media weekly_sales mediante type utilizando .pivot_table() y almacénala como mean_sales_by_type.\n",
    "- Obtén la media y la mediana (utilizando funciones NumPy) de weekly_sales por type utilizando .pivot_table() y almacénalas como mean_med_sales_by_type.\n",
    "- Obtén la media de weekly_sales mediante type y is_holiday mediante .pivot_table() y guárdala como mean_sales_by_type_holiday."
   ]
  }
 ],
 "metadata": {
  "kernelspec": {
   "display_name": "Python 3",
   "language": "python",
   "name": "python3"
  },
  "language_info": {
   "codemirror_mode": {
    "name": "ipython",
    "version": 3
   },
   "file_extension": ".py",
   "mimetype": "text/x-python",
   "name": "python",
   "nbconvert_exporter": "python",
   "pygments_lexer": "ipython3",
   "version": "3.13.5"
  }
 },
 "nbformat": 4,
 "nbformat_minor": 5
}
