{
 "cells": [
  {
   "cell_type": "markdown",
   "id": "7f90bc20",
   "metadata": {},
   "source": [
    "# TRansformacion de DataGrames"
   ]
  },
  {
   "cell_type": "markdown",
   "id": "8f2a55a3",
   "metadata": {},
   "source": [
    "## Inspeccionar un DataFrame"
   ]
  },
  {
   "cell_type": "code",
   "execution_count": 4,
   "id": "49ce1f16",
   "metadata": {},
   "outputs": [],
   "source": [
    "import pandas as pd"
   ]
  },
  {
   "cell_type": "code",
   "execution_count": 5,
   "id": "794a38d6",
   "metadata": {},
   "outputs": [],
   "source": [
    "homelessness = pd.read_csv(\"./dataSets/homelessness.csv\")"
   ]
  },
  {
   "cell_type": "code",
   "execution_count": 6,
   "id": "d1a6fd9f",
   "metadata": {},
   "outputs": [
    {
     "data": {
      "text/html": [
       "<div>\n",
       "<style scoped>\n",
       "    .dataframe tbody tr th:only-of-type {\n",
       "        vertical-align: middle;\n",
       "    }\n",
       "\n",
       "    .dataframe tbody tr th {\n",
       "        vertical-align: top;\n",
       "    }\n",
       "\n",
       "    .dataframe thead th {\n",
       "        text-align: right;\n",
       "    }\n",
       "</style>\n",
       "<table border=\"1\" class=\"dataframe\">\n",
       "  <thead>\n",
       "    <tr style=\"text-align: right;\">\n",
       "      <th></th>\n",
       "      <th>Unnamed: 0</th>\n",
       "      <th>region</th>\n",
       "      <th>state</th>\n",
       "      <th>individuals</th>\n",
       "      <th>family_members</th>\n",
       "      <th>state_pop</th>\n",
       "    </tr>\n",
       "  </thead>\n",
       "  <tbody>\n",
       "    <tr>\n",
       "      <th>0</th>\n",
       "      <td>0</td>\n",
       "      <td>East South Central</td>\n",
       "      <td>Alabama</td>\n",
       "      <td>2570.0</td>\n",
       "      <td>864.0</td>\n",
       "      <td>4887681</td>\n",
       "    </tr>\n",
       "    <tr>\n",
       "      <th>1</th>\n",
       "      <td>1</td>\n",
       "      <td>Pacific</td>\n",
       "      <td>Alaska</td>\n",
       "      <td>1434.0</td>\n",
       "      <td>582.0</td>\n",
       "      <td>735139</td>\n",
       "    </tr>\n",
       "    <tr>\n",
       "      <th>2</th>\n",
       "      <td>2</td>\n",
       "      <td>Mountain</td>\n",
       "      <td>Arizona</td>\n",
       "      <td>7259.0</td>\n",
       "      <td>2606.0</td>\n",
       "      <td>7158024</td>\n",
       "    </tr>\n",
       "    <tr>\n",
       "      <th>3</th>\n",
       "      <td>3</td>\n",
       "      <td>West South Central</td>\n",
       "      <td>Arkansas</td>\n",
       "      <td>2280.0</td>\n",
       "      <td>432.0</td>\n",
       "      <td>3009733</td>\n",
       "    </tr>\n",
       "    <tr>\n",
       "      <th>4</th>\n",
       "      <td>4</td>\n",
       "      <td>Pacific</td>\n",
       "      <td>California</td>\n",
       "      <td>109008.0</td>\n",
       "      <td>20964.0</td>\n",
       "      <td>39461588</td>\n",
       "    </tr>\n",
       "  </tbody>\n",
       "</table>\n",
       "</div>"
      ],
      "text/plain": [
       "   Unnamed: 0              region       state  individuals  family_members  \\\n",
       "0           0  East South Central     Alabama       2570.0           864.0   \n",
       "1           1             Pacific      Alaska       1434.0           582.0   \n",
       "2           2            Mountain     Arizona       7259.0          2606.0   \n",
       "3           3  West South Central    Arkansas       2280.0           432.0   \n",
       "4           4             Pacific  California     109008.0         20964.0   \n",
       "\n",
       "   state_pop  \n",
       "0    4887681  \n",
       "1     735139  \n",
       "2    7158024  \n",
       "3    3009733  \n",
       "4   39461588  "
      ]
     },
     "execution_count": 6,
     "metadata": {},
     "output_type": "execute_result"
    }
   ],
   "source": [
    "homelessness.head()  # Display the first few rows of the DataFrame"
   ]
  },
  {
   "cell_type": "code",
   "execution_count": 7,
   "id": "f774f4ae",
   "metadata": {},
   "outputs": [
    {
     "name": "stdout",
     "output_type": "stream",
     "text": [
      "<class 'pandas.core.frame.DataFrame'>\n",
      "RangeIndex: 51 entries, 0 to 50\n",
      "Data columns (total 6 columns):\n",
      " #   Column          Non-Null Count  Dtype  \n",
      "---  ------          --------------  -----  \n",
      " 0   Unnamed: 0      51 non-null     int64  \n",
      " 1   region          51 non-null     object \n",
      " 2   state           51 non-null     object \n",
      " 3   individuals     51 non-null     float64\n",
      " 4   family_members  51 non-null     float64\n",
      " 5   state_pop       51 non-null     int64  \n",
      "dtypes: float64(2), int64(2), object(2)\n",
      "memory usage: 2.5+ KB\n",
      "None\n"
     ]
    }
   ],
   "source": [
    "print(homelessness.info())  # Display information about the DataFrame"
   ]
  },
  {
   "cell_type": "code",
   "execution_count": 8,
   "id": "36cf4677",
   "metadata": {},
   "outputs": [
    {
     "name": "stdout",
     "output_type": "stream",
     "text": [
      "(51, 6)\n"
     ]
    }
   ],
   "source": [
    "print(homelessness.shape)  # Print the shape of the DataFrame"
   ]
  },
  {
   "cell_type": "code",
   "execution_count": 9,
   "id": "86013468",
   "metadata": {},
   "outputs": [
    {
     "name": "stdout",
     "output_type": "stream",
     "text": [
      "       Unnamed: 0    individuals  family_members     state_pop\n",
      "count   51.000000      51.000000       51.000000  5.100000e+01\n",
      "mean    25.000000    7225.784314     3504.882353  6.405637e+06\n",
      "std     14.866069   15991.025083     7805.411811  7.327258e+06\n",
      "min      0.000000     434.000000       75.000000  5.776010e+05\n",
      "25%     12.500000    1446.500000      592.000000  1.777414e+06\n",
      "50%     25.000000    3082.000000     1482.000000  4.461153e+06\n",
      "75%     37.500000    6781.500000     3196.000000  7.340946e+06\n",
      "max     50.000000  109008.000000    52070.000000  3.946159e+07\n"
     ]
    }
   ],
   "source": [
    "print(homelessness.describe())"
   ]
  },
  {
   "cell_type": "markdown",
   "id": "b6c8a308",
   "metadata": {},
   "source": [
    "# Partes de un DataFrame"
   ]
  },
  {
   "cell_type": "code",
   "execution_count": 10,
   "id": "49ad9404",
   "metadata": {},
   "outputs": [
    {
     "name": "stdout",
     "output_type": "stream",
     "text": [
      "[[0 'East South Central' 'Alabama' 2570.0 864.0 4887681]\n",
      " [1 'Pacific' 'Alaska' 1434.0 582.0 735139]\n",
      " [2 'Mountain' 'Arizona' 7259.0 2606.0 7158024]\n",
      " [3 'West South Central' 'Arkansas' 2280.0 432.0 3009733]\n",
      " [4 'Pacific' 'California' 109008.0 20964.0 39461588]\n",
      " [5 'Mountain' 'Colorado' 7607.0 3250.0 5691287]\n",
      " [6 'New England' 'Connecticut' 2280.0 1696.0 3571520]\n",
      " [7 'South Atlantic' 'Delaware' 708.0 374.0 965479]\n",
      " [8 'South Atlantic' 'District of Columbia' 3770.0 3134.0 701547]\n",
      " [9 'South Atlantic' 'Florida' 21443.0 9587.0 21244317]\n",
      " [10 'South Atlantic' 'Georgia' 6943.0 2556.0 10511131]\n",
      " [11 'Pacific' 'Hawaii' 4131.0 2399.0 1420593]\n",
      " [12 'Mountain' 'Idaho' 1297.0 715.0 1750536]\n",
      " [13 'East North Central' 'Illinois' 6752.0 3891.0 12723071]\n",
      " [14 'East North Central' 'Indiana' 3776.0 1482.0 6695497]\n",
      " [15 'West North Central' 'Iowa' 1711.0 1038.0 3148618]\n",
      " [16 'West North Central' 'Kansas' 1443.0 773.0 2911359]\n",
      " [17 'East South Central' 'Kentucky' 2735.0 953.0 4461153]\n",
      " [18 'West South Central' 'Louisiana' 2540.0 519.0 4659690]\n",
      " [19 'New England' 'Maine' 1450.0 1066.0 1339057]\n",
      " [20 'South Atlantic' 'Maryland' 4914.0 2230.0 6035802]\n",
      " [21 'New England' 'Massachusetts' 6811.0 13257.0 6882635]\n",
      " [22 'East North Central' 'Michigan' 5209.0 3142.0 9984072]\n",
      " [23 'West North Central' 'Minnesota' 3993.0 3250.0 5606249]\n",
      " [24 'East South Central' 'Mississippi' 1024.0 328.0 2981020]\n",
      " [25 'West North Central' 'Missouri' 3776.0 2107.0 6121623]\n",
      " [26 'Mountain' 'Montana' 983.0 422.0 1060665]\n",
      " [27 'West North Central' 'Nebraska' 1745.0 676.0 1925614]\n",
      " [28 'Mountain' 'Nevada' 7058.0 486.0 3027341]\n",
      " [29 'New England' 'New Hampshire' 835.0 615.0 1353465]\n",
      " [30 'Mid-Atlantic' 'New Jersey' 6048.0 3350.0 8886025]\n",
      " [31 'Mountain' 'New Mexico' 1949.0 602.0 2092741]\n",
      " [32 'Mid-Atlantic' 'New York' 39827.0 52070.0 19530351]\n",
      " [33 'South Atlantic' 'North Carolina' 6451.0 2817.0 10381615]\n",
      " [34 'West North Central' 'North Dakota' 467.0 75.0 758080]\n",
      " [35 'East North Central' 'Ohio' 6929.0 3320.0 11676341]\n",
      " [36 'West South Central' 'Oklahoma' 2823.0 1048.0 3940235]\n",
      " [37 'Pacific' 'Oregon' 11139.0 3337.0 4181886]\n",
      " [38 'Mid-Atlantic' 'Pennsylvania' 8163.0 5349.0 12800922]\n",
      " [39 'New England' 'Rhode Island' 747.0 354.0 1058287]\n",
      " [40 'South Atlantic' 'South Carolina' 3082.0 851.0 5084156]\n",
      " [41 'West North Central' 'South Dakota' 836.0 323.0 878698]\n",
      " [42 'East South Central' 'Tennessee' 6139.0 1744.0 6771631]\n",
      " [43 'West South Central' 'Texas' 19199.0 6111.0 28628666]\n",
      " [44 'Mountain' 'Utah' 1904.0 972.0 3153550]\n",
      " [45 'New England' 'Vermont' 780.0 511.0 624358]\n",
      " [46 'South Atlantic' 'Virginia' 3928.0 2047.0 8501286]\n",
      " [47 'Pacific' 'Washington' 16424.0 5880.0 7523869]\n",
      " [48 'South Atlantic' 'West Virginia' 1021.0 222.0 1804291]\n",
      " [49 'East North Central' 'Wisconsin' 2740.0 2167.0 5807406]\n",
      " [50 'Mountain' 'Wyoming' 434.0 205.0 577601]]\n"
     ]
    }
   ],
   "source": [
    "print(homelessness.values)"
   ]
  },
  {
   "cell_type": "code",
   "execution_count": 11,
   "id": "e100a87d",
   "metadata": {},
   "outputs": [
    {
     "name": "stdout",
     "output_type": "stream",
     "text": [
      "Index(['Unnamed: 0', 'region', 'state', 'individuals', 'family_members',\n",
      "       'state_pop'],\n",
      "      dtype='object')\n"
     ]
    }
   ],
   "source": [
    "print(homelessness.columns)  # Print the column names of the DataFrame"
   ]
  },
  {
   "cell_type": "code",
   "execution_count": 12,
   "id": "5aa5215f",
   "metadata": {},
   "outputs": [
    {
     "name": "stdout",
     "output_type": "stream",
     "text": [
      "RangeIndex(start=0, stop=51, step=1)\n"
     ]
    }
   ],
   "source": [
    "print(homelessness.index)  # Display the index of the DataFrame"
   ]
  },
  {
   "cell_type": "markdown",
   "id": "d605c602",
   "metadata": {},
   "source": [
    "## Ordenar filas\n",
    "\n",
    "| Ordenar en .... |Sintaxis                   |\n",
    "|-----------------| --------------------------|\n",
    "| Una columna     | `df.sort_values(\"bread\")` | \n",
    "| Varias columnas | `df.sort_values([]\"bread\", \"weight_kg\"])` | \n",
    "\n",
    "\n",
    "1. Ordenas homelessness por el numero de personas sin hogar de la columna indviduales, de menor a mayor y guardarlo como homelessness_ind\n",
    "\n",
    "2. Ordena homelessness por el numero de personas sin hogar family_members en orden descendente y guardarlo como homelessness_fam\n",
    "\n",
    "3. Ordena homelessness primero por region de forma ascendente y luego por numero de miembros de la familia pero este de forma descendente y guardarlos como homelessness_rep_fam"
   ]
  },
  {
   "cell_type": "code",
   "execution_count": 13,
   "id": "2dcc2248",
   "metadata": {},
   "outputs": [
    {
     "name": "stdout",
     "output_type": "stream",
     "text": [
      "    Unnamed: 0              region         state  individuals  family_members  \\\n",
      "50          50            Mountain       Wyoming        434.0           205.0   \n",
      "34          34  West North Central  North Dakota        467.0            75.0   \n",
      "7            7      South Atlantic      Delaware        708.0           374.0   \n",
      "39          39         New England  Rhode Island        747.0           354.0   \n",
      "45          45         New England       Vermont        780.0           511.0   \n",
      "\n",
      "    state_pop  \n",
      "50     577601  \n",
      "34     758080  \n",
      "7      965479  \n",
      "39    1058287  \n",
      "45     624358  \n"
     ]
    }
   ],
   "source": [
    "homelessness_ind = homelessness.sort_values(\"individuals\")  # Sort by 'individuals' column\n",
    "print(homelessness_ind.head())  # Display the first few rows of the sorted DataFrame"
   ]
  },
  {
   "cell_type": "code",
   "execution_count": 14,
   "id": "d2f12de1",
   "metadata": {},
   "outputs": [
    {
     "name": "stdout",
     "output_type": "stream",
     "text": [
      "    Unnamed: 0              region          state  individuals  \\\n",
      "32          32        Mid-Atlantic       New York      39827.0   \n",
      "4            4             Pacific     California     109008.0   \n",
      "21          21         New England  Massachusetts       6811.0   \n",
      "9            9      South Atlantic        Florida      21443.0   \n",
      "43          43  West South Central          Texas      19199.0   \n",
      "47          47             Pacific     Washington      16424.0   \n",
      "38          38        Mid-Atlantic   Pennsylvania       8163.0   \n",
      "13          13  East North Central       Illinois       6752.0   \n",
      "30          30        Mid-Atlantic     New Jersey       6048.0   \n",
      "37          37             Pacific         Oregon      11139.0   \n",
      "\n",
      "    family_members  state_pop  \n",
      "32         52070.0   19530351  \n",
      "4          20964.0   39461588  \n",
      "21         13257.0    6882635  \n",
      "9           9587.0   21244317  \n",
      "43          6111.0   28628666  \n",
      "47          5880.0    7523869  \n",
      "38          5349.0   12800922  \n",
      "13          3891.0   12723071  \n",
      "30          3350.0    8886025  \n",
      "37          3337.0    4181886  \n"
     ]
    }
   ],
   "source": [
    "#Ordenar por homelessness por family_members de forma descendente\n",
    "homelessness_fam = homelessness.sort_values(\"family_members\", ascending=False)\n",
    "print(homelessness_fam.head(10))  # Display the first few rows of the sorted DataFrame"
   ]
  },
  {
   "cell_type": "code",
   "execution_count": 15,
   "id": "bddd92df",
   "metadata": {},
   "outputs": [
    {
     "name": "stdout",
     "output_type": "stream",
     "text": [
      "    Unnamed: 0              region         state  individuals  family_members  \\\n",
      "13          13  East North Central      Illinois       6752.0          3891.0   \n",
      "35          35  East North Central          Ohio       6929.0          3320.0   \n",
      "22          22  East North Central      Michigan       5209.0          3142.0   \n",
      "49          49  East North Central     Wisconsin       2740.0          2167.0   \n",
      "14          14  East North Central       Indiana       3776.0          1482.0   \n",
      "42          42  East South Central     Tennessee       6139.0          1744.0   \n",
      "17          17  East South Central      Kentucky       2735.0           953.0   \n",
      "0            0  East South Central       Alabama       2570.0           864.0   \n",
      "24          24  East South Central   Mississippi       1024.0           328.0   \n",
      "32          32        Mid-Atlantic      New York      39827.0         52070.0   \n",
      "38          38        Mid-Atlantic  Pennsylvania       8163.0          5349.0   \n",
      "30          30        Mid-Atlantic    New Jersey       6048.0          3350.0   \n",
      "5            5            Mountain      Colorado       7607.0          3250.0   \n",
      "2            2            Mountain       Arizona       7259.0          2606.0   \n",
      "44          44            Mountain          Utah       1904.0           972.0   \n",
      "12          12            Mountain         Idaho       1297.0           715.0   \n",
      "31          31            Mountain    New Mexico       1949.0           602.0   \n",
      "28          28            Mountain        Nevada       7058.0           486.0   \n",
      "26          26            Mountain       Montana        983.0           422.0   \n",
      "50          50            Mountain       Wyoming        434.0           205.0   \n",
      "\n",
      "    state_pop  \n",
      "13   12723071  \n",
      "35   11676341  \n",
      "22    9984072  \n",
      "49    5807406  \n",
      "14    6695497  \n",
      "42    6771631  \n",
      "17    4461153  \n",
      "0     4887681  \n",
      "24    2981020  \n",
      "32   19530351  \n",
      "38   12800922  \n",
      "30    8886025  \n",
      "5     5691287  \n",
      "2     7158024  \n",
      "44    3153550  \n",
      "12    1750536  \n",
      "31    2092741  \n",
      "28    3027341  \n",
      "26    1060665  \n",
      "50     577601  \n"
     ]
    }
   ],
   "source": [
    "# Ordena homelessness primero por region de forma ascendente y luego por numero de miembros de la familia pero este de forma descendente y guardarlos como homelessness_rep_fam\n",
    "homelessness_rep_fam = homelessness.sort_values(by=[\"region\", \"family_members\"], ascending=[True, False])\n",
    "print(homelessness_rep_fam.head(20))  # Display the first few rows of the sorted DataFrame"
   ]
  },
  {
   "cell_type": "markdown",
   "id": "1c08247d",
   "metadata": {},
   "source": [
    "## Subconjunto de columnas \n",
    "\n",
    "Hay muchas formas de subconjuntar un Dataframe, quizas la mas facil es utilizar operadores relacionales para devolver true o false para pasarlos entre corchetes .\n",
    "\n",
    "`dogs[dogs['height_cm'] > 60]`\n",
    "`dogs[dogs['color'] == \"tan\"]`\n",
    "\n",
    "Puedes filtrar por varias condiciones utilizando el operador & \n",
    "\n",
    "`dogs[(dogs['height_cm'] > 60) & (dogs['color'] == 'tan')]`\n",
    "\n",
    "**Instrucciones**\n",
    "\n",
    "1. Filtrar homelessness para los casos en los que el numero de individuals sea superior a diez mil, asignalos a `ind_gt_10k`. Visualizar el resultado\n",
    "\n",
    "2. Filtra homelessnes para los casos en los que la region es Mountain, asignandola a mountain_reg. Visualiza el resultado\n",
    "\n",
    "3. Filtra homelessness para los casos en los que el numero de family_members sea inferior a mil y la region sea `Pacifico`, asignandolo a fam_lt_1k_pac. Visualizar el resultado"
   ]
  },
  {
   "cell_type": "code",
   "execution_count": 16,
   "id": "09fab73e",
   "metadata": {},
   "outputs": [
    {
     "name": "stdout",
     "output_type": "stream",
     "text": [
      "    Unnamed: 0              region       state  individuals  family_members  \\\n",
      "4            4             Pacific  California     109008.0         20964.0   \n",
      "9            9      South Atlantic     Florida      21443.0          9587.0   \n",
      "32          32        Mid-Atlantic    New York      39827.0         52070.0   \n",
      "37          37             Pacific      Oregon      11139.0          3337.0   \n",
      "43          43  West South Central       Texas      19199.0          6111.0   \n",
      "47          47             Pacific  Washington      16424.0          5880.0   \n",
      "\n",
      "    state_pop  \n",
      "4    39461588  \n",
      "9    21244317  \n",
      "32   19530351  \n",
      "37    4181886  \n",
      "43   28628666  \n",
      "47    7523869  \n"
     ]
    }
   ],
   "source": [
    "# Filtrar homelessness para los casos en los que el numero de individuals sea superior a diez mil, asignalos a ind_gt_10k. Visualizar el resultado\n",
    "ind_gt_10k = homelessness[homelessness[\"individuals\"] > 10000]\n",
    "print(ind_gt_10k.head(10))  # Display the first few rows of the filtered Data"
   ]
  },
  {
   "cell_type": "code",
   "execution_count": 17,
   "id": "8ae1761d",
   "metadata": {},
   "outputs": [
    {
     "name": "stdout",
     "output_type": "stream",
     "text": [
      "    Unnamed: 0    region       state  individuals  family_members  state_pop\n",
      "2            2  Mountain     Arizona       7259.0          2606.0    7158024\n",
      "5            5  Mountain    Colorado       7607.0          3250.0    5691287\n",
      "12          12  Mountain       Idaho       1297.0           715.0    1750536\n",
      "26          26  Mountain     Montana        983.0           422.0    1060665\n",
      "28          28  Mountain      Nevada       7058.0           486.0    3027341\n",
      "31          31  Mountain  New Mexico       1949.0           602.0    2092741\n",
      "44          44  Mountain        Utah       1904.0           972.0    3153550\n",
      "50          50  Mountain     Wyoming        434.0           205.0     577601\n"
     ]
    }
   ],
   "source": [
    "# Filtra homelessnes para los casos en los que la region es Mountain, asignandola a mountain_reg. Visualiza el resultado\n",
    "mountain_reg = homelessness[homelessness[\"region\"] == \"Mountain\"]\n",
    "print(mountain_reg.head(10))  # Display the first few rows of the filtered Data"
   ]
  },
  {
   "cell_type": "code",
   "execution_count": 18,
   "id": "e3a6acba",
   "metadata": {},
   "outputs": [
    {
     "name": "stdout",
     "output_type": "stream",
     "text": [
      "   Unnamed: 0   region   state  individuals  family_members  state_pop\n",
      "1           1  Pacific  Alaska       1434.0           582.0     735139\n"
     ]
    }
   ],
   "source": [
    "# Filtra homelessness para los casos en los que el numero de family_members sea inferior a mil y la region sea `Pacifico`, asignandolo a fam_lt_1k_pac. Visualizar el resultado\n",
    "fam_lt_1k_pac = homelessness[(homelessness[\"family_members\"] < 1000) & (homelessness[\"region\"] == \"Pacific\")]\n",
    "print(fam_lt_1k_pac.head(10))  # Display the first few"
   ]
  },
  {
   "cell_type": "markdown",
   "id": "42b3bb50",
   "metadata": {},
   "source": [
    "# Subconjunto de filas por variables categoricas\n",
    "\n",
    "Utiliza el metodo `.isin()` que permitira abordar el problema escribiendo en una sola condicion en lugar de varias. Por que para segmentar variables categoricas se utilizan el operador |\n",
    "\n",
    "`colors = ['brown', 'black', 'tan']`\n",
    "\n",
    "`condition = dogs['color'].isin(colors)`\n",
    "\n",
    "`dogs['condition']`\n",
    "\n",
    "\n",
    "\n",
    "**Instrucciones**\n",
    "\n",
    "1. Filtra homelessness para los casos en los que el censo, California, Arizona, Nevada y Utha. Asignandolo a mojave_homelessness"
   ]
  },
  {
   "cell_type": "code",
   "execution_count": 19,
   "id": "79e7a624",
   "metadata": {},
   "outputs": [
    {
     "name": "stdout",
     "output_type": "stream",
     "text": [
      "    Unnamed: 0    region       state  individuals  family_members  state_pop\n",
      "2            2  Mountain     Arizona       7259.0          2606.0    7158024\n",
      "4            4   Pacific  California     109008.0         20964.0   39461588\n",
      "28          28  Mountain      Nevada       7058.0           486.0    3027341\n",
      "44          44  Mountain        Utah       1904.0           972.0    3153550\n"
     ]
    }
   ],
   "source": [
    "canu = [\"California\",\"Arizona\", \"Nevada\", \"Utah\"]\n",
    "mojave_homelessness = homelessness[homelessness[\"state\"].isin(canu)]\n",
    "print(mojave_homelessness.head(10))  # Display the first few rows"
   ]
  },
  {
   "cell_type": "markdown",
   "id": "568f790f",
   "metadata": {},
   "source": [
    "## Añadir nuevas columnas \n",
    "\n",
    "No te quedes solo con los datos que te dan. En su lugar pueden añadir nuevas columnas a un DataFrame. A esto se le llama `Tranasformación `, `mutación ` e `ingenieria de caracteristicas`.\n",
    "\n",
    "Se pueden crear columnas nuevas desde cero, peor es habitual derivarlas de otras columnas por ejemplo, sumando columnas o cambiando sus unidades. \n",
    "\n",
    "**Instrucciiones**\n",
    "\n",
    "1- Añade una nueva columna a homelessnes, denominada `total` que contenga la suma de las columnas individuals y family_members\n",
    "2- Añade otra columna a homelessness, denominada p_homelees, que contenga  la producción de la población de personas sin hogar total con respecto a la población total de cada estado stage_pop"
   ]
  },
  {
   "cell_type": "code",
   "execution_count": 20,
   "id": "deabd0d8",
   "metadata": {},
   "outputs": [
    {
     "name": "stdout",
     "output_type": "stream",
     "text": [
      "   Unnamed: 0              region                 state  individuals  \\\n",
      "0           0  East South Central               Alabama       2570.0   \n",
      "1           1             Pacific                Alaska       1434.0   \n",
      "2           2            Mountain               Arizona       7259.0   \n",
      "3           3  West South Central              Arkansas       2280.0   \n",
      "4           4             Pacific            California     109008.0   \n",
      "5           5            Mountain              Colorado       7607.0   \n",
      "6           6         New England           Connecticut       2280.0   \n",
      "7           7      South Atlantic              Delaware        708.0   \n",
      "8           8      South Atlantic  District of Columbia       3770.0   \n",
      "9           9      South Atlantic               Florida      21443.0   \n",
      "\n",
      "   family_members  state_pop     total  p_homelees  \n",
      "0           864.0    4887681    3434.0    0.000703  \n",
      "1           582.0     735139    2016.0    0.002742  \n",
      "2          2606.0    7158024    9865.0    0.001378  \n",
      "3           432.0    3009733    2712.0    0.000901  \n",
      "4         20964.0   39461588  129972.0    0.003294  \n",
      "5          3250.0    5691287   10857.0    0.001908  \n",
      "6          1696.0    3571520    3976.0    0.001113  \n",
      "7           374.0     965479    1082.0    0.001121  \n",
      "8          3134.0     701547    6904.0    0.009841  \n",
      "9          9587.0   21244317   31030.0    0.001461  \n"
     ]
    }
   ],
   "source": [
    "# Agregar una columna total como la suma de incividuals y family_members\n",
    "homelessness[\"total\"] = homelessness[\"individuals\"] + homelessness[\"family_members\"]\n",
    "\n",
    "\n",
    "\n",
    "# Agregar una columna p_homelees como la proporcion de personas sin hogar con respecto a la poblacion total\n",
    "homelessness[\"p_homelees\"] = homelessness[\"total\"] / homelessness[\"state_pop\"]\n",
    "print(homelessness.head(10)) "
   ]
  },
  {
   "cell_type": "code",
   "execution_count": 21,
   "id": "cc8e389b",
   "metadata": {},
   "outputs": [
    {
     "data": {
      "text/html": [
       "<div>\n",
       "<style scoped>\n",
       "    .dataframe tbody tr th:only-of-type {\n",
       "        vertical-align: middle;\n",
       "    }\n",
       "\n",
       "    .dataframe tbody tr th {\n",
       "        vertical-align: top;\n",
       "    }\n",
       "\n",
       "    .dataframe thead th {\n",
       "        text-align: right;\n",
       "    }\n",
       "</style>\n",
       "<table border=\"1\" class=\"dataframe\">\n",
       "  <thead>\n",
       "    <tr style=\"text-align: right;\">\n",
       "      <th></th>\n",
       "      <th>state</th>\n",
       "      <th>individuals</th>\n",
       "      <th>state_pop</th>\n",
       "      <th>total</th>\n",
       "      <th>p_homelees</th>\n",
       "    </tr>\n",
       "  </thead>\n",
       "  <tbody>\n",
       "    <tr>\n",
       "      <th>0</th>\n",
       "      <td>Alabama</td>\n",
       "      <td>2570.0</td>\n",
       "      <td>4887681</td>\n",
       "      <td>3434.0</td>\n",
       "      <td>0.000703</td>\n",
       "    </tr>\n",
       "    <tr>\n",
       "      <th>1</th>\n",
       "      <td>Alaska</td>\n",
       "      <td>1434.0</td>\n",
       "      <td>735139</td>\n",
       "      <td>2016.0</td>\n",
       "      <td>0.002742</td>\n",
       "    </tr>\n",
       "    <tr>\n",
       "      <th>2</th>\n",
       "      <td>Arizona</td>\n",
       "      <td>7259.0</td>\n",
       "      <td>7158024</td>\n",
       "      <td>9865.0</td>\n",
       "      <td>0.001378</td>\n",
       "    </tr>\n",
       "    <tr>\n",
       "      <th>3</th>\n",
       "      <td>Arkansas</td>\n",
       "      <td>2280.0</td>\n",
       "      <td>3009733</td>\n",
       "      <td>2712.0</td>\n",
       "      <td>0.000901</td>\n",
       "    </tr>\n",
       "    <tr>\n",
       "      <th>4</th>\n",
       "      <td>California</td>\n",
       "      <td>109008.0</td>\n",
       "      <td>39461588</td>\n",
       "      <td>129972.0</td>\n",
       "      <td>0.003294</td>\n",
       "    </tr>\n",
       "    <tr>\n",
       "      <th>5</th>\n",
       "      <td>Colorado</td>\n",
       "      <td>7607.0</td>\n",
       "      <td>5691287</td>\n",
       "      <td>10857.0</td>\n",
       "      <td>0.001908</td>\n",
       "    </tr>\n",
       "    <tr>\n",
       "      <th>6</th>\n",
       "      <td>Connecticut</td>\n",
       "      <td>2280.0</td>\n",
       "      <td>3571520</td>\n",
       "      <td>3976.0</td>\n",
       "      <td>0.001113</td>\n",
       "    </tr>\n",
       "    <tr>\n",
       "      <th>7</th>\n",
       "      <td>Delaware</td>\n",
       "      <td>708.0</td>\n",
       "      <td>965479</td>\n",
       "      <td>1082.0</td>\n",
       "      <td>0.001121</td>\n",
       "    </tr>\n",
       "    <tr>\n",
       "      <th>8</th>\n",
       "      <td>District of Columbia</td>\n",
       "      <td>3770.0</td>\n",
       "      <td>701547</td>\n",
       "      <td>6904.0</td>\n",
       "      <td>0.009841</td>\n",
       "    </tr>\n",
       "    <tr>\n",
       "      <th>9</th>\n",
       "      <td>Florida</td>\n",
       "      <td>21443.0</td>\n",
       "      <td>21244317</td>\n",
       "      <td>31030.0</td>\n",
       "      <td>0.001461</td>\n",
       "    </tr>\n",
       "  </tbody>\n",
       "</table>\n",
       "</div>"
      ],
      "text/plain": [
       "                  state  individuals  state_pop     total  p_homelees\n",
       "0               Alabama       2570.0    4887681    3434.0    0.000703\n",
       "1                Alaska       1434.0     735139    2016.0    0.002742\n",
       "2               Arizona       7259.0    7158024    9865.0    0.001378\n",
       "3              Arkansas       2280.0    3009733    2712.0    0.000901\n",
       "4            California     109008.0   39461588  129972.0    0.003294\n",
       "5              Colorado       7607.0    5691287   10857.0    0.001908\n",
       "6           Connecticut       2280.0    3571520    3976.0    0.001113\n",
       "7              Delaware        708.0     965479    1082.0    0.001121\n",
       "8  District of Columbia       3770.0     701547    6904.0    0.009841\n",
       "9               Florida      21443.0   21244317   31030.0    0.001461"
      ]
     },
     "execution_count": 21,
     "metadata": {},
     "output_type": "execute_result"
    }
   ],
   "source": [
    "# Mostrar estado, individuals, state_pop , total y  p_homelees\n",
    "columnas = [\"state\", \"individuals\", \"state_pop\",\"total\", \"p_homelees\"]\n",
    "homelessness[columnas]. head(10)"
   ]
  },
  {
   "cell_type": "markdown",
   "id": "65501e43",
   "metadata": {},
   "source": [
    "## Practica \n",
    "Hata ahora se han visto los cuatro  tipos mas comunes de manipulación de datos:\n",
    "`ordenar silas `, `subconjuntar filas`, y  `añadir nuevas columnas`.\n",
    "\n",
    "En un analisis de la vida real, puedes mezclar y combinar estas cuatro manipulaciones para responder a multiples preguntas.\n",
    "\n",
    "En este ejercicio, responderas la pregunta: `\"Que estado tiene el mayor numero de personas sin hogar por cada 10000 habitantes\"`, combina las nuevas habilidades de pandas para averiguarlo.\n",
    "\n",
    "**Instrucciones**\n",
    "\n",
    "- Añade la columna a homelessness, indiv_per_10k, que contenga el numero e personas sin hogar por cada diez mil de personas en cada estado, utilizando  stage_pop para la poblacion del estado \n",
    "\n",
    "- Subconjunta las filas en las que indiv_per_10k sea superior a 20, asignandolas a  high_homelessness\n",
    "\n",
    "- Ordena high_homelessness_srt. Seleccionando solo las columnas stage e indiv_per_10k de high_homelessness_srt y y guardalas como result y visualiza result \n"
   ]
  },
  {
   "cell_type": "code",
   "execution_count": 22,
   "id": "8c7d7516",
   "metadata": {},
   "outputs": [
    {
     "name": "stdout",
     "output_type": "stream",
     "text": [
      "                   state  indiv_per_10k\n",
      "8   District of Columbia      53.738381\n",
      "11                Hawaii      29.079406\n",
      "4             California      27.623825\n",
      "37                Oregon      26.636307\n",
      "28                Nevada      23.314189\n",
      "47            Washington      21.829195\n",
      "32              New York      20.392363\n"
     ]
    }
   ],
   "source": [
    "# - Añade la columna a homelessness, indiv_per_10k, que contenga el numero e personas sin hogar por cada diez mil de personas en cada estado, utilizando  stage_pop para la poblacion del estado \n",
    "homelessness[\"indiv_per_10k\"] = 10000 * homelessness[\"individuals\"] / homelessness[\"state_pop\"]\n",
    "\n",
    "\n",
    "# Subconjunta las filas en las que indiv_per_10k sea superior a 20, asignandolas a  high_homelessness\n",
    "high_homelessness = homelessness[homelessness[\"indiv_per_10k\"] > 20]\n",
    "\n",
    "\n",
    "#- Ordena high_homelessness_srt. Seleccionando solo las columnas stage e indiv_per_10k de high_homelessness_srt y y guardalas como result y visualiza result \n",
    "high_homelessness_srt = high_homelessness.sort_values(\"indiv_per_10k\", ascending=False)\n",
    "result = high_homelessness_srt[[\"state\", \"indiv_per_10k\"]]\n",
    "\n",
    "\n",
    "# Ordenar high_homelessnes por indiv_per_10k\n",
    "high_homelessness_srt = high_homelessness.sort_values(\"indiv_per_10k\", ascending=False)\n",
    "result = high_homelessness_srt[[\"state\", \"indiv_per_10k\"]]\n",
    "print(result.head(10)) "
   ]
  },
  {
   "cell_type": "markdown",
   "id": "febb5d33",
   "metadata": {},
   "source": [
    "El District of columbia tiene el mayor numero de individuos sin hogar casi 54 por cada diez mil personas. Esto es casi el doble del numero del siguiente estado con mas casos Hawaii."
   ]
  }
 ],
 "metadata": {
  "kernelspec": {
   "display_name": "Python 3",
   "language": "python",
   "name": "python3"
  },
  "language_info": {
   "codemirror_mode": {
    "name": "ipython",
    "version": 3
   },
   "file_extension": ".py",
   "mimetype": "text/x-python",
   "name": "python",
   "nbconvert_exporter": "python",
   "pygments_lexer": "ipython3",
   "version": "3.13.5"
  }
 },
 "nbformat": 4,
 "nbformat_minor": 5
}
